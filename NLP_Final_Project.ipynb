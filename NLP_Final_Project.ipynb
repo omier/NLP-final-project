{
  "nbformat": 4,
  "nbformat_minor": 0,
  "metadata": {
    "colab": {
      "name": "NLP Final Project.ipynb",
      "provenance": [],
      "collapsed_sections": [
        "tahaRSl7lYOU",
        "KrdAQsUqkooT",
        "AgR-JXACkNQu",
        "rseXBEw3jV4m",
        "dwLbH-N9rcFC",
        "HJD-3WQsLPWY",
        "SHbQuJuGOl-O"
      ],
      "toc_visible": true,
      "authorship_tag": "ABX9TyOWvCpOZQurSeWKVOA9O/TV",
      "include_colab_link": true
    },
    "kernelspec": {
      "name": "python3",
      "display_name": "Python 3"
    },
    "accelerator": "GPU",
    "widgets": {
      "application/vnd.jupyter.widget-state+json": {
        "d8a8477cbc1249039403c248d841c248": {
          "model_module": "@jupyter-widgets/controls",
          "model_name": "HBoxModel",
          "state": {
            "_view_name": "HBoxView",
            "_dom_classes": [],
            "_model_name": "HBoxModel",
            "_view_module": "@jupyter-widgets/controls",
            "_model_module_version": "1.5.0",
            "_view_count": null,
            "_view_module_version": "1.5.0",
            "box_style": "",
            "layout": "IPY_MODEL_599180b4254641608832c8b0f713104e",
            "_model_module": "@jupyter-widgets/controls",
            "children": [
              "IPY_MODEL_fc016a314f3244ecbce8fd58f7fc9c40",
              "IPY_MODEL_e744f9bf5e78437a962431be1adfd317"
            ]
          }
        },
        "599180b4254641608832c8b0f713104e": {
          "model_module": "@jupyter-widgets/base",
          "model_name": "LayoutModel",
          "state": {
            "_view_name": "LayoutView",
            "grid_template_rows": null,
            "right": null,
            "justify_content": null,
            "_view_module": "@jupyter-widgets/base",
            "overflow": null,
            "_model_module_version": "1.2.0",
            "_view_count": null,
            "flex_flow": null,
            "width": null,
            "min_width": null,
            "border": null,
            "align_items": null,
            "bottom": null,
            "_model_module": "@jupyter-widgets/base",
            "top": null,
            "grid_column": null,
            "overflow_y": null,
            "overflow_x": null,
            "grid_auto_flow": null,
            "grid_area": null,
            "grid_template_columns": null,
            "flex": null,
            "_model_name": "LayoutModel",
            "justify_items": null,
            "grid_row": null,
            "max_height": null,
            "align_content": null,
            "visibility": null,
            "align_self": null,
            "height": null,
            "min_height": null,
            "padding": null,
            "grid_auto_rows": null,
            "grid_gap": null,
            "max_width": null,
            "order": null,
            "_view_module_version": "1.2.0",
            "grid_template_areas": null,
            "object_position": null,
            "object_fit": null,
            "grid_auto_columns": null,
            "margin": null,
            "display": null,
            "left": null
          }
        },
        "fc016a314f3244ecbce8fd58f7fc9c40": {
          "model_module": "@jupyter-widgets/controls",
          "model_name": "FloatProgressModel",
          "state": {
            "_view_name": "ProgressView",
            "style": "IPY_MODEL_f2b5bd235ece44c2960f86d979a8c37f",
            "_dom_classes": [],
            "description": "Downloading: 100%",
            "_model_name": "FloatProgressModel",
            "bar_style": "success",
            "max": 231508,
            "_view_module": "@jupyter-widgets/controls",
            "_model_module_version": "1.5.0",
            "value": 231508,
            "_view_count": null,
            "_view_module_version": "1.5.0",
            "orientation": "horizontal",
            "min": 0,
            "description_tooltip": null,
            "_model_module": "@jupyter-widgets/controls",
            "layout": "IPY_MODEL_05f93f7711f848f6806c2eaf727564c2"
          }
        },
        "e744f9bf5e78437a962431be1adfd317": {
          "model_module": "@jupyter-widgets/controls",
          "model_name": "HTMLModel",
          "state": {
            "_view_name": "HTMLView",
            "style": "IPY_MODEL_2394678e4dc545fca6519affdfcef65e",
            "_dom_classes": [],
            "description": "",
            "_model_name": "HTMLModel",
            "placeholder": "​",
            "_view_module": "@jupyter-widgets/controls",
            "_model_module_version": "1.5.0",
            "value": " 232k/232k [02:48&lt;00:00, 1.38kB/s]",
            "_view_count": null,
            "_view_module_version": "1.5.0",
            "description_tooltip": null,
            "_model_module": "@jupyter-widgets/controls",
            "layout": "IPY_MODEL_45f61f877c294268b81692bc233aa921"
          }
        },
        "f2b5bd235ece44c2960f86d979a8c37f": {
          "model_module": "@jupyter-widgets/controls",
          "model_name": "ProgressStyleModel",
          "state": {
            "_view_name": "StyleView",
            "_model_name": "ProgressStyleModel",
            "description_width": "initial",
            "_view_module": "@jupyter-widgets/base",
            "_model_module_version": "1.5.0",
            "_view_count": null,
            "_view_module_version": "1.2.0",
            "bar_color": null,
            "_model_module": "@jupyter-widgets/controls"
          }
        },
        "05f93f7711f848f6806c2eaf727564c2": {
          "model_module": "@jupyter-widgets/base",
          "model_name": "LayoutModel",
          "state": {
            "_view_name": "LayoutView",
            "grid_template_rows": null,
            "right": null,
            "justify_content": null,
            "_view_module": "@jupyter-widgets/base",
            "overflow": null,
            "_model_module_version": "1.2.0",
            "_view_count": null,
            "flex_flow": null,
            "width": null,
            "min_width": null,
            "border": null,
            "align_items": null,
            "bottom": null,
            "_model_module": "@jupyter-widgets/base",
            "top": null,
            "grid_column": null,
            "overflow_y": null,
            "overflow_x": null,
            "grid_auto_flow": null,
            "grid_area": null,
            "grid_template_columns": null,
            "flex": null,
            "_model_name": "LayoutModel",
            "justify_items": null,
            "grid_row": null,
            "max_height": null,
            "align_content": null,
            "visibility": null,
            "align_self": null,
            "height": null,
            "min_height": null,
            "padding": null,
            "grid_auto_rows": null,
            "grid_gap": null,
            "max_width": null,
            "order": null,
            "_view_module_version": "1.2.0",
            "grid_template_areas": null,
            "object_position": null,
            "object_fit": null,
            "grid_auto_columns": null,
            "margin": null,
            "display": null,
            "left": null
          }
        },
        "2394678e4dc545fca6519affdfcef65e": {
          "model_module": "@jupyter-widgets/controls",
          "model_name": "DescriptionStyleModel",
          "state": {
            "_view_name": "StyleView",
            "_model_name": "DescriptionStyleModel",
            "description_width": "",
            "_view_module": "@jupyter-widgets/base",
            "_model_module_version": "1.5.0",
            "_view_count": null,
            "_view_module_version": "1.2.0",
            "_model_module": "@jupyter-widgets/controls"
          }
        },
        "45f61f877c294268b81692bc233aa921": {
          "model_module": "@jupyter-widgets/base",
          "model_name": "LayoutModel",
          "state": {
            "_view_name": "LayoutView",
            "grid_template_rows": null,
            "right": null,
            "justify_content": null,
            "_view_module": "@jupyter-widgets/base",
            "overflow": null,
            "_model_module_version": "1.2.0",
            "_view_count": null,
            "flex_flow": null,
            "width": null,
            "min_width": null,
            "border": null,
            "align_items": null,
            "bottom": null,
            "_model_module": "@jupyter-widgets/base",
            "top": null,
            "grid_column": null,
            "overflow_y": null,
            "overflow_x": null,
            "grid_auto_flow": null,
            "grid_area": null,
            "grid_template_columns": null,
            "flex": null,
            "_model_name": "LayoutModel",
            "justify_items": null,
            "grid_row": null,
            "max_height": null,
            "align_content": null,
            "visibility": null,
            "align_self": null,
            "height": null,
            "min_height": null,
            "padding": null,
            "grid_auto_rows": null,
            "grid_gap": null,
            "max_width": null,
            "order": null,
            "_view_module_version": "1.2.0",
            "grid_template_areas": null,
            "object_position": null,
            "object_fit": null,
            "grid_auto_columns": null,
            "margin": null,
            "display": null,
            "left": null
          }
        },
        "a52f319da511422a9a71de7bdcab5c1a": {
          "model_module": "@jupyter-widgets/controls",
          "model_name": "HBoxModel",
          "state": {
            "_view_name": "HBoxView",
            "_dom_classes": [],
            "_model_name": "HBoxModel",
            "_view_module": "@jupyter-widgets/controls",
            "_model_module_version": "1.5.0",
            "_view_count": null,
            "_view_module_version": "1.5.0",
            "box_style": "",
            "layout": "IPY_MODEL_fe90f4dd1b6c45a98c48233b4baca29f",
            "_model_module": "@jupyter-widgets/controls",
            "children": [
              "IPY_MODEL_5eb2ebe100f54497a32443f6e3eaad32",
              "IPY_MODEL_31877accaa5c470ab27e502fd57e48ff"
            ]
          }
        },
        "fe90f4dd1b6c45a98c48233b4baca29f": {
          "model_module": "@jupyter-widgets/base",
          "model_name": "LayoutModel",
          "state": {
            "_view_name": "LayoutView",
            "grid_template_rows": null,
            "right": null,
            "justify_content": null,
            "_view_module": "@jupyter-widgets/base",
            "overflow": null,
            "_model_module_version": "1.2.0",
            "_view_count": null,
            "flex_flow": null,
            "width": null,
            "min_width": null,
            "border": null,
            "align_items": null,
            "bottom": null,
            "_model_module": "@jupyter-widgets/base",
            "top": null,
            "grid_column": null,
            "overflow_y": null,
            "overflow_x": null,
            "grid_auto_flow": null,
            "grid_area": null,
            "grid_template_columns": null,
            "flex": null,
            "_model_name": "LayoutModel",
            "justify_items": null,
            "grid_row": null,
            "max_height": null,
            "align_content": null,
            "visibility": null,
            "align_self": null,
            "height": null,
            "min_height": null,
            "padding": null,
            "grid_auto_rows": null,
            "grid_gap": null,
            "max_width": null,
            "order": null,
            "_view_module_version": "1.2.0",
            "grid_template_areas": null,
            "object_position": null,
            "object_fit": null,
            "grid_auto_columns": null,
            "margin": null,
            "display": null,
            "left": null
          }
        },
        "5eb2ebe100f54497a32443f6e3eaad32": {
          "model_module": "@jupyter-widgets/controls",
          "model_name": "FloatProgressModel",
          "state": {
            "_view_name": "ProgressView",
            "style": "IPY_MODEL_e30d1f184bf5465f8426e7cfc7ac5196",
            "_dom_classes": [],
            "description": "Downloading: 100%",
            "_model_name": "FloatProgressModel",
            "bar_style": "success",
            "max": 28,
            "_view_module": "@jupyter-widgets/controls",
            "_model_module_version": "1.5.0",
            "value": 28,
            "_view_count": null,
            "_view_module_version": "1.5.0",
            "orientation": "horizontal",
            "min": 0,
            "description_tooltip": null,
            "_model_module": "@jupyter-widgets/controls",
            "layout": "IPY_MODEL_d7869b09be19452695804c01a9c28557"
          }
        },
        "31877accaa5c470ab27e502fd57e48ff": {
          "model_module": "@jupyter-widgets/controls",
          "model_name": "HTMLModel",
          "state": {
            "_view_name": "HTMLView",
            "style": "IPY_MODEL_3cdf73fafe9b46d18bf2738a0a7a733a",
            "_dom_classes": [],
            "description": "",
            "_model_name": "HTMLModel",
            "placeholder": "​",
            "_view_module": "@jupyter-widgets/controls",
            "_model_module_version": "1.5.0",
            "value": " 28.0/28.0 [00:00&lt;00:00, 177B/s]",
            "_view_count": null,
            "_view_module_version": "1.5.0",
            "description_tooltip": null,
            "_model_module": "@jupyter-widgets/controls",
            "layout": "IPY_MODEL_eb53031008164bbfa7629b3e42178c0f"
          }
        },
        "e30d1f184bf5465f8426e7cfc7ac5196": {
          "model_module": "@jupyter-widgets/controls",
          "model_name": "ProgressStyleModel",
          "state": {
            "_view_name": "StyleView",
            "_model_name": "ProgressStyleModel",
            "description_width": "initial",
            "_view_module": "@jupyter-widgets/base",
            "_model_module_version": "1.5.0",
            "_view_count": null,
            "_view_module_version": "1.2.0",
            "bar_color": null,
            "_model_module": "@jupyter-widgets/controls"
          }
        },
        "d7869b09be19452695804c01a9c28557": {
          "model_module": "@jupyter-widgets/base",
          "model_name": "LayoutModel",
          "state": {
            "_view_name": "LayoutView",
            "grid_template_rows": null,
            "right": null,
            "justify_content": null,
            "_view_module": "@jupyter-widgets/base",
            "overflow": null,
            "_model_module_version": "1.2.0",
            "_view_count": null,
            "flex_flow": null,
            "width": null,
            "min_width": null,
            "border": null,
            "align_items": null,
            "bottom": null,
            "_model_module": "@jupyter-widgets/base",
            "top": null,
            "grid_column": null,
            "overflow_y": null,
            "overflow_x": null,
            "grid_auto_flow": null,
            "grid_area": null,
            "grid_template_columns": null,
            "flex": null,
            "_model_name": "LayoutModel",
            "justify_items": null,
            "grid_row": null,
            "max_height": null,
            "align_content": null,
            "visibility": null,
            "align_self": null,
            "height": null,
            "min_height": null,
            "padding": null,
            "grid_auto_rows": null,
            "grid_gap": null,
            "max_width": null,
            "order": null,
            "_view_module_version": "1.2.0",
            "grid_template_areas": null,
            "object_position": null,
            "object_fit": null,
            "grid_auto_columns": null,
            "margin": null,
            "display": null,
            "left": null
          }
        },
        "3cdf73fafe9b46d18bf2738a0a7a733a": {
          "model_module": "@jupyter-widgets/controls",
          "model_name": "DescriptionStyleModel",
          "state": {
            "_view_name": "StyleView",
            "_model_name": "DescriptionStyleModel",
            "description_width": "",
            "_view_module": "@jupyter-widgets/base",
            "_model_module_version": "1.5.0",
            "_view_count": null,
            "_view_module_version": "1.2.0",
            "_model_module": "@jupyter-widgets/controls"
          }
        },
        "eb53031008164bbfa7629b3e42178c0f": {
          "model_module": "@jupyter-widgets/base",
          "model_name": "LayoutModel",
          "state": {
            "_view_name": "LayoutView",
            "grid_template_rows": null,
            "right": null,
            "justify_content": null,
            "_view_module": "@jupyter-widgets/base",
            "overflow": null,
            "_model_module_version": "1.2.0",
            "_view_count": null,
            "flex_flow": null,
            "width": null,
            "min_width": null,
            "border": null,
            "align_items": null,
            "bottom": null,
            "_model_module": "@jupyter-widgets/base",
            "top": null,
            "grid_column": null,
            "overflow_y": null,
            "overflow_x": null,
            "grid_auto_flow": null,
            "grid_area": null,
            "grid_template_columns": null,
            "flex": null,
            "_model_name": "LayoutModel",
            "justify_items": null,
            "grid_row": null,
            "max_height": null,
            "align_content": null,
            "visibility": null,
            "align_self": null,
            "height": null,
            "min_height": null,
            "padding": null,
            "grid_auto_rows": null,
            "grid_gap": null,
            "max_width": null,
            "order": null,
            "_view_module_version": "1.2.0",
            "grid_template_areas": null,
            "object_position": null,
            "object_fit": null,
            "grid_auto_columns": null,
            "margin": null,
            "display": null,
            "left": null
          }
        },
        "6f99436d95774776af1e58e6cd8ef412": {
          "model_module": "@jupyter-widgets/controls",
          "model_name": "HBoxModel",
          "state": {
            "_view_name": "HBoxView",
            "_dom_classes": [],
            "_model_name": "HBoxModel",
            "_view_module": "@jupyter-widgets/controls",
            "_model_module_version": "1.5.0",
            "_view_count": null,
            "_view_module_version": "1.5.0",
            "box_style": "",
            "layout": "IPY_MODEL_57ad9a90bf424abf95eb7c051eb2dcd7",
            "_model_module": "@jupyter-widgets/controls",
            "children": [
              "IPY_MODEL_458a877c36344143baa25f50b99bc4a6",
              "IPY_MODEL_9f3dd02fbfe546bd8a9d901fb4bda022"
            ]
          }
        },
        "57ad9a90bf424abf95eb7c051eb2dcd7": {
          "model_module": "@jupyter-widgets/base",
          "model_name": "LayoutModel",
          "state": {
            "_view_name": "LayoutView",
            "grid_template_rows": null,
            "right": null,
            "justify_content": null,
            "_view_module": "@jupyter-widgets/base",
            "overflow": null,
            "_model_module_version": "1.2.0",
            "_view_count": null,
            "flex_flow": null,
            "width": null,
            "min_width": null,
            "border": null,
            "align_items": null,
            "bottom": null,
            "_model_module": "@jupyter-widgets/base",
            "top": null,
            "grid_column": null,
            "overflow_y": null,
            "overflow_x": null,
            "grid_auto_flow": null,
            "grid_area": null,
            "grid_template_columns": null,
            "flex": null,
            "_model_name": "LayoutModel",
            "justify_items": null,
            "grid_row": null,
            "max_height": null,
            "align_content": null,
            "visibility": null,
            "align_self": null,
            "height": null,
            "min_height": null,
            "padding": null,
            "grid_auto_rows": null,
            "grid_gap": null,
            "max_width": null,
            "order": null,
            "_view_module_version": "1.2.0",
            "grid_template_areas": null,
            "object_position": null,
            "object_fit": null,
            "grid_auto_columns": null,
            "margin": null,
            "display": null,
            "left": null
          }
        },
        "458a877c36344143baa25f50b99bc4a6": {
          "model_module": "@jupyter-widgets/controls",
          "model_name": "FloatProgressModel",
          "state": {
            "_view_name": "ProgressView",
            "style": "IPY_MODEL_5585ae58afd04102a019efa97f62fbfc",
            "_dom_classes": [],
            "description": "Downloading: 100%",
            "_model_name": "FloatProgressModel",
            "bar_style": "success",
            "max": 466062,
            "_view_module": "@jupyter-widgets/controls",
            "_model_module_version": "1.5.0",
            "value": 466062,
            "_view_count": null,
            "_view_module_version": "1.5.0",
            "orientation": "horizontal",
            "min": 0,
            "description_tooltip": null,
            "_model_module": "@jupyter-widgets/controls",
            "layout": "IPY_MODEL_3a8536e48fe8456091c92a9fc835014d"
          }
        },
        "9f3dd02fbfe546bd8a9d901fb4bda022": {
          "model_module": "@jupyter-widgets/controls",
          "model_name": "HTMLModel",
          "state": {
            "_view_name": "HTMLView",
            "style": "IPY_MODEL_363a151f31a74e5a840661c2c18152dd",
            "_dom_classes": [],
            "description": "",
            "_model_name": "HTMLModel",
            "placeholder": "​",
            "_view_module": "@jupyter-widgets/controls",
            "_model_module_version": "1.5.0",
            "value": " 466k/466k [00:00&lt;00:00, 6.16MB/s]",
            "_view_count": null,
            "_view_module_version": "1.5.0",
            "description_tooltip": null,
            "_model_module": "@jupyter-widgets/controls",
            "layout": "IPY_MODEL_da1129c4e5a647e9b67f6f16ee8835a5"
          }
        },
        "5585ae58afd04102a019efa97f62fbfc": {
          "model_module": "@jupyter-widgets/controls",
          "model_name": "ProgressStyleModel",
          "state": {
            "_view_name": "StyleView",
            "_model_name": "ProgressStyleModel",
            "description_width": "initial",
            "_view_module": "@jupyter-widgets/base",
            "_model_module_version": "1.5.0",
            "_view_count": null,
            "_view_module_version": "1.2.0",
            "bar_color": null,
            "_model_module": "@jupyter-widgets/controls"
          }
        },
        "3a8536e48fe8456091c92a9fc835014d": {
          "model_module": "@jupyter-widgets/base",
          "model_name": "LayoutModel",
          "state": {
            "_view_name": "LayoutView",
            "grid_template_rows": null,
            "right": null,
            "justify_content": null,
            "_view_module": "@jupyter-widgets/base",
            "overflow": null,
            "_model_module_version": "1.2.0",
            "_view_count": null,
            "flex_flow": null,
            "width": null,
            "min_width": null,
            "border": null,
            "align_items": null,
            "bottom": null,
            "_model_module": "@jupyter-widgets/base",
            "top": null,
            "grid_column": null,
            "overflow_y": null,
            "overflow_x": null,
            "grid_auto_flow": null,
            "grid_area": null,
            "grid_template_columns": null,
            "flex": null,
            "_model_name": "LayoutModel",
            "justify_items": null,
            "grid_row": null,
            "max_height": null,
            "align_content": null,
            "visibility": null,
            "align_self": null,
            "height": null,
            "min_height": null,
            "padding": null,
            "grid_auto_rows": null,
            "grid_gap": null,
            "max_width": null,
            "order": null,
            "_view_module_version": "1.2.0",
            "grid_template_areas": null,
            "object_position": null,
            "object_fit": null,
            "grid_auto_columns": null,
            "margin": null,
            "display": null,
            "left": null
          }
        },
        "363a151f31a74e5a840661c2c18152dd": {
          "model_module": "@jupyter-widgets/controls",
          "model_name": "DescriptionStyleModel",
          "state": {
            "_view_name": "StyleView",
            "_model_name": "DescriptionStyleModel",
            "description_width": "",
            "_view_module": "@jupyter-widgets/base",
            "_model_module_version": "1.5.0",
            "_view_count": null,
            "_view_module_version": "1.2.0",
            "_model_module": "@jupyter-widgets/controls"
          }
        },
        "da1129c4e5a647e9b67f6f16ee8835a5": {
          "model_module": "@jupyter-widgets/base",
          "model_name": "LayoutModel",
          "state": {
            "_view_name": "LayoutView",
            "grid_template_rows": null,
            "right": null,
            "justify_content": null,
            "_view_module": "@jupyter-widgets/base",
            "overflow": null,
            "_model_module_version": "1.2.0",
            "_view_count": null,
            "flex_flow": null,
            "width": null,
            "min_width": null,
            "border": null,
            "align_items": null,
            "bottom": null,
            "_model_module": "@jupyter-widgets/base",
            "top": null,
            "grid_column": null,
            "overflow_y": null,
            "overflow_x": null,
            "grid_auto_flow": null,
            "grid_area": null,
            "grid_template_columns": null,
            "flex": null,
            "_model_name": "LayoutModel",
            "justify_items": null,
            "grid_row": null,
            "max_height": null,
            "align_content": null,
            "visibility": null,
            "align_self": null,
            "height": null,
            "min_height": null,
            "padding": null,
            "grid_auto_rows": null,
            "grid_gap": null,
            "max_width": null,
            "order": null,
            "_view_module_version": "1.2.0",
            "grid_template_areas": null,
            "object_position": null,
            "object_fit": null,
            "grid_auto_columns": null,
            "margin": null,
            "display": null,
            "left": null
          }
        },
        "da1fd733fb86454fa80a7536f5429bc4": {
          "model_module": "@jupyter-widgets/controls",
          "model_name": "HBoxModel",
          "state": {
            "_view_name": "HBoxView",
            "_dom_classes": [],
            "_model_name": "HBoxModel",
            "_view_module": "@jupyter-widgets/controls",
            "_model_module_version": "1.5.0",
            "_view_count": null,
            "_view_module_version": "1.5.0",
            "box_style": "",
            "layout": "IPY_MODEL_636e9dfb6c8f4c7692cfbfdb69c7134c",
            "_model_module": "@jupyter-widgets/controls",
            "children": [
              "IPY_MODEL_d565406a540649ef9c0c4c00cd30a12f",
              "IPY_MODEL_a4d831ae8dfe4bc9863a0c5289a47246"
            ]
          }
        },
        "636e9dfb6c8f4c7692cfbfdb69c7134c": {
          "model_module": "@jupyter-widgets/base",
          "model_name": "LayoutModel",
          "state": {
            "_view_name": "LayoutView",
            "grid_template_rows": null,
            "right": null,
            "justify_content": null,
            "_view_module": "@jupyter-widgets/base",
            "overflow": null,
            "_model_module_version": "1.2.0",
            "_view_count": null,
            "flex_flow": null,
            "width": null,
            "min_width": null,
            "border": null,
            "align_items": null,
            "bottom": null,
            "_model_module": "@jupyter-widgets/base",
            "top": null,
            "grid_column": null,
            "overflow_y": null,
            "overflow_x": null,
            "grid_auto_flow": null,
            "grid_area": null,
            "grid_template_columns": null,
            "flex": null,
            "_model_name": "LayoutModel",
            "justify_items": null,
            "grid_row": null,
            "max_height": null,
            "align_content": null,
            "visibility": null,
            "align_self": null,
            "height": null,
            "min_height": null,
            "padding": null,
            "grid_auto_rows": null,
            "grid_gap": null,
            "max_width": null,
            "order": null,
            "_view_module_version": "1.2.0",
            "grid_template_areas": null,
            "object_position": null,
            "object_fit": null,
            "grid_auto_columns": null,
            "margin": null,
            "display": null,
            "left": null
          }
        },
        "d565406a540649ef9c0c4c00cd30a12f": {
          "model_module": "@jupyter-widgets/controls",
          "model_name": "FloatProgressModel",
          "state": {
            "_view_name": "ProgressView",
            "style": "IPY_MODEL_a70a8f7d84314dfdb2fc3adff03de6c5",
            "_dom_classes": [],
            "description": "Downloading: 100%",
            "_model_name": "FloatProgressModel",
            "bar_style": "success",
            "max": 442,
            "_view_module": "@jupyter-widgets/controls",
            "_model_module_version": "1.5.0",
            "value": 442,
            "_view_count": null,
            "_view_module_version": "1.5.0",
            "orientation": "horizontal",
            "min": 0,
            "description_tooltip": null,
            "_model_module": "@jupyter-widgets/controls",
            "layout": "IPY_MODEL_5707555f7b4b487695c63d4515dfb6aa"
          }
        },
        "a4d831ae8dfe4bc9863a0c5289a47246": {
          "model_module": "@jupyter-widgets/controls",
          "model_name": "HTMLModel",
          "state": {
            "_view_name": "HTMLView",
            "style": "IPY_MODEL_7f6dc5acb39645fdb5f05dc4c78a9ef3",
            "_dom_classes": [],
            "description": "",
            "_model_name": "HTMLModel",
            "placeholder": "​",
            "_view_module": "@jupyter-widgets/controls",
            "_model_module_version": "1.5.0",
            "value": " 442/442 [00:00&lt;00:00, 2.37kB/s]",
            "_view_count": null,
            "_view_module_version": "1.5.0",
            "description_tooltip": null,
            "_model_module": "@jupyter-widgets/controls",
            "layout": "IPY_MODEL_b0c86989f95b476ca60a103f4119daf5"
          }
        },
        "a70a8f7d84314dfdb2fc3adff03de6c5": {
          "model_module": "@jupyter-widgets/controls",
          "model_name": "ProgressStyleModel",
          "state": {
            "_view_name": "StyleView",
            "_model_name": "ProgressStyleModel",
            "description_width": "initial",
            "_view_module": "@jupyter-widgets/base",
            "_model_module_version": "1.5.0",
            "_view_count": null,
            "_view_module_version": "1.2.0",
            "bar_color": null,
            "_model_module": "@jupyter-widgets/controls"
          }
        },
        "5707555f7b4b487695c63d4515dfb6aa": {
          "model_module": "@jupyter-widgets/base",
          "model_name": "LayoutModel",
          "state": {
            "_view_name": "LayoutView",
            "grid_template_rows": null,
            "right": null,
            "justify_content": null,
            "_view_module": "@jupyter-widgets/base",
            "overflow": null,
            "_model_module_version": "1.2.0",
            "_view_count": null,
            "flex_flow": null,
            "width": null,
            "min_width": null,
            "border": null,
            "align_items": null,
            "bottom": null,
            "_model_module": "@jupyter-widgets/base",
            "top": null,
            "grid_column": null,
            "overflow_y": null,
            "overflow_x": null,
            "grid_auto_flow": null,
            "grid_area": null,
            "grid_template_columns": null,
            "flex": null,
            "_model_name": "LayoutModel",
            "justify_items": null,
            "grid_row": null,
            "max_height": null,
            "align_content": null,
            "visibility": null,
            "align_self": null,
            "height": null,
            "min_height": null,
            "padding": null,
            "grid_auto_rows": null,
            "grid_gap": null,
            "max_width": null,
            "order": null,
            "_view_module_version": "1.2.0",
            "grid_template_areas": null,
            "object_position": null,
            "object_fit": null,
            "grid_auto_columns": null,
            "margin": null,
            "display": null,
            "left": null
          }
        },
        "7f6dc5acb39645fdb5f05dc4c78a9ef3": {
          "model_module": "@jupyter-widgets/controls",
          "model_name": "DescriptionStyleModel",
          "state": {
            "_view_name": "StyleView",
            "_model_name": "DescriptionStyleModel",
            "description_width": "",
            "_view_module": "@jupyter-widgets/base",
            "_model_module_version": "1.5.0",
            "_view_count": null,
            "_view_module_version": "1.2.0",
            "_model_module": "@jupyter-widgets/controls"
          }
        },
        "b0c86989f95b476ca60a103f4119daf5": {
          "model_module": "@jupyter-widgets/base",
          "model_name": "LayoutModel",
          "state": {
            "_view_name": "LayoutView",
            "grid_template_rows": null,
            "right": null,
            "justify_content": null,
            "_view_module": "@jupyter-widgets/base",
            "overflow": null,
            "_model_module_version": "1.2.0",
            "_view_count": null,
            "flex_flow": null,
            "width": null,
            "min_width": null,
            "border": null,
            "align_items": null,
            "bottom": null,
            "_model_module": "@jupyter-widgets/base",
            "top": null,
            "grid_column": null,
            "overflow_y": null,
            "overflow_x": null,
            "grid_auto_flow": null,
            "grid_area": null,
            "grid_template_columns": null,
            "flex": null,
            "_model_name": "LayoutModel",
            "justify_items": null,
            "grid_row": null,
            "max_height": null,
            "align_content": null,
            "visibility": null,
            "align_self": null,
            "height": null,
            "min_height": null,
            "padding": null,
            "grid_auto_rows": null,
            "grid_gap": null,
            "max_width": null,
            "order": null,
            "_view_module_version": "1.2.0",
            "grid_template_areas": null,
            "object_position": null,
            "object_fit": null,
            "grid_auto_columns": null,
            "margin": null,
            "display": null,
            "left": null
          }
        },
        "898e8ddf59474adb8134f4e0aa6ad8c1": {
          "model_module": "@jupyter-widgets/controls",
          "model_name": "HBoxModel",
          "state": {
            "_view_name": "HBoxView",
            "_dom_classes": [],
            "_model_name": "HBoxModel",
            "_view_module": "@jupyter-widgets/controls",
            "_model_module_version": "1.5.0",
            "_view_count": null,
            "_view_module_version": "1.5.0",
            "box_style": "",
            "layout": "IPY_MODEL_8e2b63f5e0064594bd01cd12ef830817",
            "_model_module": "@jupyter-widgets/controls",
            "children": [
              "IPY_MODEL_22133d569b074926969c29f4c5421fb1",
              "IPY_MODEL_5af96245a7e042e08b904692aa8c6240"
            ]
          }
        },
        "8e2b63f5e0064594bd01cd12ef830817": {
          "model_module": "@jupyter-widgets/base",
          "model_name": "LayoutModel",
          "state": {
            "_view_name": "LayoutView",
            "grid_template_rows": null,
            "right": null,
            "justify_content": null,
            "_view_module": "@jupyter-widgets/base",
            "overflow": null,
            "_model_module_version": "1.2.0",
            "_view_count": null,
            "flex_flow": null,
            "width": null,
            "min_width": null,
            "border": null,
            "align_items": null,
            "bottom": null,
            "_model_module": "@jupyter-widgets/base",
            "top": null,
            "grid_column": null,
            "overflow_y": null,
            "overflow_x": null,
            "grid_auto_flow": null,
            "grid_area": null,
            "grid_template_columns": null,
            "flex": null,
            "_model_name": "LayoutModel",
            "justify_items": null,
            "grid_row": null,
            "max_height": null,
            "align_content": null,
            "visibility": null,
            "align_self": null,
            "height": null,
            "min_height": null,
            "padding": null,
            "grid_auto_rows": null,
            "grid_gap": null,
            "max_width": null,
            "order": null,
            "_view_module_version": "1.2.0",
            "grid_template_areas": null,
            "object_position": null,
            "object_fit": null,
            "grid_auto_columns": null,
            "margin": null,
            "display": null,
            "left": null
          }
        },
        "22133d569b074926969c29f4c5421fb1": {
          "model_module": "@jupyter-widgets/controls",
          "model_name": "FloatProgressModel",
          "state": {
            "_view_name": "ProgressView",
            "style": "IPY_MODEL_dee0bcfd4f9f41dd8de6d0b0416aa988",
            "_dom_classes": [],
            "description": "Downloading: 100%",
            "_model_name": "FloatProgressModel",
            "bar_style": "success",
            "max": 267967963,
            "_view_module": "@jupyter-widgets/controls",
            "_model_module_version": "1.5.0",
            "value": 267967963,
            "_view_count": null,
            "_view_module_version": "1.5.0",
            "orientation": "horizontal",
            "min": 0,
            "description_tooltip": null,
            "_model_module": "@jupyter-widgets/controls",
            "layout": "IPY_MODEL_6c561a665aaa40558a58d342b23549c3"
          }
        },
        "5af96245a7e042e08b904692aa8c6240": {
          "model_module": "@jupyter-widgets/controls",
          "model_name": "HTMLModel",
          "state": {
            "_view_name": "HTMLView",
            "style": "IPY_MODEL_242193c881aa442fb0f0d1c4d74b789c",
            "_dom_classes": [],
            "description": "",
            "_model_name": "HTMLModel",
            "placeholder": "​",
            "_view_module": "@jupyter-widgets/controls",
            "_model_module_version": "1.5.0",
            "value": " 268M/268M [00:04&lt;00:00, 61.4MB/s]",
            "_view_count": null,
            "_view_module_version": "1.5.0",
            "description_tooltip": null,
            "_model_module": "@jupyter-widgets/controls",
            "layout": "IPY_MODEL_3b6e8f857fb54c138d0e2c81ca86f3e3"
          }
        },
        "dee0bcfd4f9f41dd8de6d0b0416aa988": {
          "model_module": "@jupyter-widgets/controls",
          "model_name": "ProgressStyleModel",
          "state": {
            "_view_name": "StyleView",
            "_model_name": "ProgressStyleModel",
            "description_width": "initial",
            "_view_module": "@jupyter-widgets/base",
            "_model_module_version": "1.5.0",
            "_view_count": null,
            "_view_module_version": "1.2.0",
            "bar_color": null,
            "_model_module": "@jupyter-widgets/controls"
          }
        },
        "6c561a665aaa40558a58d342b23549c3": {
          "model_module": "@jupyter-widgets/base",
          "model_name": "LayoutModel",
          "state": {
            "_view_name": "LayoutView",
            "grid_template_rows": null,
            "right": null,
            "justify_content": null,
            "_view_module": "@jupyter-widgets/base",
            "overflow": null,
            "_model_module_version": "1.2.0",
            "_view_count": null,
            "flex_flow": null,
            "width": null,
            "min_width": null,
            "border": null,
            "align_items": null,
            "bottom": null,
            "_model_module": "@jupyter-widgets/base",
            "top": null,
            "grid_column": null,
            "overflow_y": null,
            "overflow_x": null,
            "grid_auto_flow": null,
            "grid_area": null,
            "grid_template_columns": null,
            "flex": null,
            "_model_name": "LayoutModel",
            "justify_items": null,
            "grid_row": null,
            "max_height": null,
            "align_content": null,
            "visibility": null,
            "align_self": null,
            "height": null,
            "min_height": null,
            "padding": null,
            "grid_auto_rows": null,
            "grid_gap": null,
            "max_width": null,
            "order": null,
            "_view_module_version": "1.2.0",
            "grid_template_areas": null,
            "object_position": null,
            "object_fit": null,
            "grid_auto_columns": null,
            "margin": null,
            "display": null,
            "left": null
          }
        },
        "242193c881aa442fb0f0d1c4d74b789c": {
          "model_module": "@jupyter-widgets/controls",
          "model_name": "DescriptionStyleModel",
          "state": {
            "_view_name": "StyleView",
            "_model_name": "DescriptionStyleModel",
            "description_width": "",
            "_view_module": "@jupyter-widgets/base",
            "_model_module_version": "1.5.0",
            "_view_count": null,
            "_view_module_version": "1.2.0",
            "_model_module": "@jupyter-widgets/controls"
          }
        },
        "3b6e8f857fb54c138d0e2c81ca86f3e3": {
          "model_module": "@jupyter-widgets/base",
          "model_name": "LayoutModel",
          "state": {
            "_view_name": "LayoutView",
            "grid_template_rows": null,
            "right": null,
            "justify_content": null,
            "_view_module": "@jupyter-widgets/base",
            "overflow": null,
            "_model_module_version": "1.2.0",
            "_view_count": null,
            "flex_flow": null,
            "width": null,
            "min_width": null,
            "border": null,
            "align_items": null,
            "bottom": null,
            "_model_module": "@jupyter-widgets/base",
            "top": null,
            "grid_column": null,
            "overflow_y": null,
            "overflow_x": null,
            "grid_auto_flow": null,
            "grid_area": null,
            "grid_template_columns": null,
            "flex": null,
            "_model_name": "LayoutModel",
            "justify_items": null,
            "grid_row": null,
            "max_height": null,
            "align_content": null,
            "visibility": null,
            "align_self": null,
            "height": null,
            "min_height": null,
            "padding": null,
            "grid_auto_rows": null,
            "grid_gap": null,
            "max_width": null,
            "order": null,
            "_view_module_version": "1.2.0",
            "grid_template_areas": null,
            "object_position": null,
            "object_fit": null,
            "grid_auto_columns": null,
            "margin": null,
            "display": null,
            "left": null
          }
        }
      }
    }
  },
  "cells": [
    {
      "cell_type": "markdown",
      "metadata": {
        "id": "view-in-github",
        "colab_type": "text"
      },
      "source": [
        "<a href=\"https://colab.research.google.com/github/omier/NLP-final-project/blob/master/NLP_Final_Project.ipynb\" target=\"_parent\"><img src=\"https://colab.research.google.com/assets/colab-badge.svg\" alt=\"Open In Colab\"/></a>"
      ]
    },
    {
      "cell_type": "markdown",
      "metadata": {
        "id": "tahaRSl7lYOU"
      },
      "source": [
        "# Init Notebook"
      ]
    },
    {
      "cell_type": "code",
      "metadata": {
        "colab": {
          "base_uri": "https://localhost:8080/"
        },
        "id": "3grj21nOlig2",
        "outputId": "1235f03d-2d7c-4d1b-cbe1-32086309e6f8"
      },
      "source": [
        "!git clone https://github.com/omier/NLP-final-project.git"
      ],
      "execution_count": 1,
      "outputs": [
        {
          "output_type": "stream",
          "text": [
            "Cloning into 'NLP-final-project'...\n",
            "remote: Enumerating objects: 18, done.\u001b[K\n",
            "remote: Counting objects: 100% (18/18), done.\u001b[K\n",
            "remote: Compressing objects: 100% (16/16), done.\u001b[K\n",
            "remote: Total 18 (delta 5), reused 4 (delta 1), pack-reused 0\u001b[K\n",
            "Unpacking objects: 100% (18/18), done.\n"
          ],
          "name": "stdout"
        }
      ]
    },
    {
      "cell_type": "code",
      "metadata": {
        "id": "dwOSDWCPZJ4f",
        "colab": {
          "base_uri": "https://localhost:8080/"
        },
        "outputId": "3ec4ce1a-9c08-45bb-e012-8226995fdeea"
      },
      "source": [
        "!pip install -qq transformers"
      ],
      "execution_count": 2,
      "outputs": [
        {
          "output_type": "stream",
          "text": [
            "\u001b[K     |████████████████████████████████| 1.8MB 16.8MB/s \n",
            "\u001b[K     |████████████████████████████████| 890kB 37.3MB/s \n",
            "\u001b[K     |████████████████████████████████| 3.2MB 60.8MB/s \n",
            "\u001b[?25h  Building wheel for sacremoses (setup.py) ... \u001b[?25l\u001b[?25hdone\n"
          ],
          "name": "stdout"
        }
      ]
    },
    {
      "cell_type": "code",
      "metadata": {
        "id": "lLoOQxcn_9AX"
      },
      "source": [
        "import transformers\r\n",
        "from transformers import BertModel, BertTokenizer, AdamW, get_linear_schedule_with_warmup\r\n",
        "import torch\r\n",
        "import numpy as np\r\n",
        "import pandas as pd\r\n",
        "from torch import nn, optim\r\n",
        "from torch.utils.data import Dataset, DataLoader\r\n",
        "from sklearn.model_selection import train_test_split\r\n",
        "import plotly.express as px\r\n",
        "import pprint\r\n",
        "\r\n",
        "import warnings\r\n",
        "warnings.filterwarnings('ignore')"
      ],
      "execution_count": 3,
      "outputs": []
    },
    {
      "cell_type": "code",
      "metadata": {
        "colab": {
          "base_uri": "https://localhost:8080/"
        },
        "id": "-Cb9PBv7Z66X",
        "outputId": "c0898247-9a6e-41cc-cc45-dddbc794bdf8"
      },
      "source": [
        "RANDOM_SEED = 42\r\n",
        "np.random.seed(RANDOM_SEED)\r\n",
        "torch.manual_seed(RANDOM_SEED)"
      ],
      "execution_count": 4,
      "outputs": [
        {
          "output_type": "execute_result",
          "data": {
            "text/plain": [
              "<torch._C.Generator at 0x7f5fe5d31930>"
            ]
          },
          "metadata": {
            "tags": []
          },
          "execution_count": 4
        }
      ]
    },
    {
      "cell_type": "code",
      "metadata": {
        "colab": {
          "base_uri": "https://localhost:8080/"
        },
        "id": "3A0L13OQ1DAG",
        "outputId": "b07ea3e7-2196-4896-b5c2-d62849afc237"
      },
      "source": [
        "device = torch.device(\"cuda:0\" if torch.cuda.is_available() else \"cpu\")\r\n",
        "device"
      ],
      "execution_count": 5,
      "outputs": [
        {
          "output_type": "execute_result",
          "data": {
            "text/plain": [
              "device(type='cuda', index=0)"
            ]
          },
          "metadata": {
            "tags": []
          },
          "execution_count": 5
        }
      ]
    },
    {
      "cell_type": "markdown",
      "metadata": {
        "id": "KrdAQsUqkooT"
      },
      "source": [
        "# Import BERT"
      ]
    },
    {
      "cell_type": "code",
      "metadata": {
        "id": "8AEIFDz5YbLu"
      },
      "source": [
        "PRE_TRAINED_MODEL_NAME = 'distilbert-base-uncased'"
      ],
      "execution_count": 6,
      "outputs": []
    },
    {
      "cell_type": "code",
      "metadata": {
        "id": "aYUFQ7xvamnY",
        "colab": {
          "base_uri": "https://localhost:8080/",
          "height": 164,
          "referenced_widgets": [
            "d8a8477cbc1249039403c248d841c248",
            "599180b4254641608832c8b0f713104e",
            "fc016a314f3244ecbce8fd58f7fc9c40",
            "e744f9bf5e78437a962431be1adfd317",
            "f2b5bd235ece44c2960f86d979a8c37f",
            "05f93f7711f848f6806c2eaf727564c2",
            "2394678e4dc545fca6519affdfcef65e",
            "45f61f877c294268b81692bc233aa921",
            "a52f319da511422a9a71de7bdcab5c1a",
            "fe90f4dd1b6c45a98c48233b4baca29f",
            "5eb2ebe100f54497a32443f6e3eaad32",
            "31877accaa5c470ab27e502fd57e48ff",
            "e30d1f184bf5465f8426e7cfc7ac5196",
            "d7869b09be19452695804c01a9c28557",
            "3cdf73fafe9b46d18bf2738a0a7a733a",
            "eb53031008164bbfa7629b3e42178c0f",
            "6f99436d95774776af1e58e6cd8ef412",
            "57ad9a90bf424abf95eb7c051eb2dcd7",
            "458a877c36344143baa25f50b99bc4a6",
            "9f3dd02fbfe546bd8a9d901fb4bda022",
            "5585ae58afd04102a019efa97f62fbfc",
            "3a8536e48fe8456091c92a9fc835014d",
            "363a151f31a74e5a840661c2c18152dd",
            "da1129c4e5a647e9b67f6f16ee8835a5"
          ]
        },
        "outputId": "1ab5630f-c0af-4da8-fb5d-1c52152a3c21"
      },
      "source": [
        "tokenizer = BertTokenizer.from_pretrained(PRE_TRAINED_MODEL_NAME)"
      ],
      "execution_count": 7,
      "outputs": [
        {
          "output_type": "display_data",
          "data": {
            "application/vnd.jupyter.widget-view+json": {
              "model_id": "d8a8477cbc1249039403c248d841c248",
              "version_minor": 0,
              "version_major": 2
            },
            "text/plain": [
              "HBox(children=(FloatProgress(value=0.0, description='Downloading', max=231508.0, style=ProgressStyle(descripti…"
            ]
          },
          "metadata": {
            "tags": []
          }
        },
        {
          "output_type": "stream",
          "text": [
            "\n"
          ],
          "name": "stdout"
        },
        {
          "output_type": "display_data",
          "data": {
            "application/vnd.jupyter.widget-view+json": {
              "model_id": "a52f319da511422a9a71de7bdcab5c1a",
              "version_minor": 0,
              "version_major": 2
            },
            "text/plain": [
              "HBox(children=(FloatProgress(value=0.0, description='Downloading', max=28.0, style=ProgressStyle(description_w…"
            ]
          },
          "metadata": {
            "tags": []
          }
        },
        {
          "output_type": "stream",
          "text": [
            "\n"
          ],
          "name": "stdout"
        },
        {
          "output_type": "display_data",
          "data": {
            "application/vnd.jupyter.widget-view+json": {
              "model_id": "6f99436d95774776af1e58e6cd8ef412",
              "version_minor": 0,
              "version_major": 2
            },
            "text/plain": [
              "HBox(children=(FloatProgress(value=0.0, description='Downloading', max=466062.0, style=ProgressStyle(descripti…"
            ]
          },
          "metadata": {
            "tags": []
          }
        },
        {
          "output_type": "stream",
          "text": [
            "\n"
          ],
          "name": "stdout"
        }
      ]
    },
    {
      "cell_type": "code",
      "metadata": {
        "colab": {
          "base_uri": "https://localhost:8080/",
          "height": 220,
          "referenced_widgets": [
            "da1fd733fb86454fa80a7536f5429bc4",
            "636e9dfb6c8f4c7692cfbfdb69c7134c",
            "d565406a540649ef9c0c4c00cd30a12f",
            "a4d831ae8dfe4bc9863a0c5289a47246",
            "a70a8f7d84314dfdb2fc3adff03de6c5",
            "5707555f7b4b487695c63d4515dfb6aa",
            "7f6dc5acb39645fdb5f05dc4c78a9ef3",
            "b0c86989f95b476ca60a103f4119daf5",
            "898e8ddf59474adb8134f4e0aa6ad8c1",
            "8e2b63f5e0064594bd01cd12ef830817",
            "22133d569b074926969c29f4c5421fb1",
            "5af96245a7e042e08b904692aa8c6240",
            "dee0bcfd4f9f41dd8de6d0b0416aa988",
            "6c561a665aaa40558a58d342b23549c3",
            "242193c881aa442fb0f0d1c4d74b789c",
            "3b6e8f857fb54c138d0e2c81ca86f3e3"
          ]
        },
        "id": "ToJlhKmwf7HG",
        "outputId": "f4a576a2-49e5-4407-9aa3-4dcb519cae71"
      },
      "source": [
        "bert_model = BertModel.from_pretrained(PRE_TRAINED_MODEL_NAME).to(device)"
      ],
      "execution_count": 8,
      "outputs": [
        {
          "output_type": "display_data",
          "data": {
            "application/vnd.jupyter.widget-view+json": {
              "model_id": "da1fd733fb86454fa80a7536f5429bc4",
              "version_minor": 0,
              "version_major": 2
            },
            "text/plain": [
              "HBox(children=(FloatProgress(value=0.0, description='Downloading', max=442.0, style=ProgressStyle(description_…"
            ]
          },
          "metadata": {
            "tags": []
          }
        },
        {
          "output_type": "stream",
          "text": [
            "\n"
          ],
          "name": "stdout"
        },
        {
          "output_type": "display_data",
          "data": {
            "application/vnd.jupyter.widget-view+json": {
              "model_id": "898e8ddf59474adb8134f4e0aa6ad8c1",
              "version_minor": 0,
              "version_major": 2
            },
            "text/plain": [
              "HBox(children=(FloatProgress(value=0.0, description='Downloading', max=267967963.0, style=ProgressStyle(descri…"
            ]
          },
          "metadata": {
            "tags": []
          }
        },
        {
          "output_type": "stream",
          "text": [
            "\n"
          ],
          "name": "stdout"
        },
        {
          "output_type": "stream",
          "text": [
            "Some weights of the model checkpoint at distilbert-base-uncased were not used when initializing BertModel: ['distilbert.embeddings.word_embeddings.weight', 'distilbert.embeddings.position_embeddings.weight', 'distilbert.embeddings.LayerNorm.weight', 'distilbert.embeddings.LayerNorm.bias', 'distilbert.transformer.layer.0.attention.q_lin.weight', 'distilbert.transformer.layer.0.attention.q_lin.bias', 'distilbert.transformer.layer.0.attention.k_lin.weight', 'distilbert.transformer.layer.0.attention.k_lin.bias', 'distilbert.transformer.layer.0.attention.v_lin.weight', 'distilbert.transformer.layer.0.attention.v_lin.bias', 'distilbert.transformer.layer.0.attention.out_lin.weight', 'distilbert.transformer.layer.0.attention.out_lin.bias', 'distilbert.transformer.layer.0.sa_layer_norm.weight', 'distilbert.transformer.layer.0.sa_layer_norm.bias', 'distilbert.transformer.layer.0.ffn.lin1.weight', 'distilbert.transformer.layer.0.ffn.lin1.bias', 'distilbert.transformer.layer.0.ffn.lin2.weight', 'distilbert.transformer.layer.0.ffn.lin2.bias', 'distilbert.transformer.layer.0.output_layer_norm.weight', 'distilbert.transformer.layer.0.output_layer_norm.bias', 'distilbert.transformer.layer.1.attention.q_lin.weight', 'distilbert.transformer.layer.1.attention.q_lin.bias', 'distilbert.transformer.layer.1.attention.k_lin.weight', 'distilbert.transformer.layer.1.attention.k_lin.bias', 'distilbert.transformer.layer.1.attention.v_lin.weight', 'distilbert.transformer.layer.1.attention.v_lin.bias', 'distilbert.transformer.layer.1.attention.out_lin.weight', 'distilbert.transformer.layer.1.attention.out_lin.bias', 'distilbert.transformer.layer.1.sa_layer_norm.weight', 'distilbert.transformer.layer.1.sa_layer_norm.bias', 'distilbert.transformer.layer.1.ffn.lin1.weight', 'distilbert.transformer.layer.1.ffn.lin1.bias', 'distilbert.transformer.layer.1.ffn.lin2.weight', 'distilbert.transformer.layer.1.ffn.lin2.bias', 'distilbert.transformer.layer.1.output_layer_norm.weight', 'distilbert.transformer.layer.1.output_layer_norm.bias', 'distilbert.transformer.layer.2.attention.q_lin.weight', 'distilbert.transformer.layer.2.attention.q_lin.bias', 'distilbert.transformer.layer.2.attention.k_lin.weight', 'distilbert.transformer.layer.2.attention.k_lin.bias', 'distilbert.transformer.layer.2.attention.v_lin.weight', 'distilbert.transformer.layer.2.attention.v_lin.bias', 'distilbert.transformer.layer.2.attention.out_lin.weight', 'distilbert.transformer.layer.2.attention.out_lin.bias', 'distilbert.transformer.layer.2.sa_layer_norm.weight', 'distilbert.transformer.layer.2.sa_layer_norm.bias', 'distilbert.transformer.layer.2.ffn.lin1.weight', 'distilbert.transformer.layer.2.ffn.lin1.bias', 'distilbert.transformer.layer.2.ffn.lin2.weight', 'distilbert.transformer.layer.2.ffn.lin2.bias', 'distilbert.transformer.layer.2.output_layer_norm.weight', 'distilbert.transformer.layer.2.output_layer_norm.bias', 'distilbert.transformer.layer.3.attention.q_lin.weight', 'distilbert.transformer.layer.3.attention.q_lin.bias', 'distilbert.transformer.layer.3.attention.k_lin.weight', 'distilbert.transformer.layer.3.attention.k_lin.bias', 'distilbert.transformer.layer.3.attention.v_lin.weight', 'distilbert.transformer.layer.3.attention.v_lin.bias', 'distilbert.transformer.layer.3.attention.out_lin.weight', 'distilbert.transformer.layer.3.attention.out_lin.bias', 'distilbert.transformer.layer.3.sa_layer_norm.weight', 'distilbert.transformer.layer.3.sa_layer_norm.bias', 'distilbert.transformer.layer.3.ffn.lin1.weight', 'distilbert.transformer.layer.3.ffn.lin1.bias', 'distilbert.transformer.layer.3.ffn.lin2.weight', 'distilbert.transformer.layer.3.ffn.lin2.bias', 'distilbert.transformer.layer.3.output_layer_norm.weight', 'distilbert.transformer.layer.3.output_layer_norm.bias', 'distilbert.transformer.layer.4.attention.q_lin.weight', 'distilbert.transformer.layer.4.attention.q_lin.bias', 'distilbert.transformer.layer.4.attention.k_lin.weight', 'distilbert.transformer.layer.4.attention.k_lin.bias', 'distilbert.transformer.layer.4.attention.v_lin.weight', 'distilbert.transformer.layer.4.attention.v_lin.bias', 'distilbert.transformer.layer.4.attention.out_lin.weight', 'distilbert.transformer.layer.4.attention.out_lin.bias', 'distilbert.transformer.layer.4.sa_layer_norm.weight', 'distilbert.transformer.layer.4.sa_layer_norm.bias', 'distilbert.transformer.layer.4.ffn.lin1.weight', 'distilbert.transformer.layer.4.ffn.lin1.bias', 'distilbert.transformer.layer.4.ffn.lin2.weight', 'distilbert.transformer.layer.4.ffn.lin2.bias', 'distilbert.transformer.layer.4.output_layer_norm.weight', 'distilbert.transformer.layer.4.output_layer_norm.bias', 'distilbert.transformer.layer.5.attention.q_lin.weight', 'distilbert.transformer.layer.5.attention.q_lin.bias', 'distilbert.transformer.layer.5.attention.k_lin.weight', 'distilbert.transformer.layer.5.attention.k_lin.bias', 'distilbert.transformer.layer.5.attention.v_lin.weight', 'distilbert.transformer.layer.5.attention.v_lin.bias', 'distilbert.transformer.layer.5.attention.out_lin.weight', 'distilbert.transformer.layer.5.attention.out_lin.bias', 'distilbert.transformer.layer.5.sa_layer_norm.weight', 'distilbert.transformer.layer.5.sa_layer_norm.bias', 'distilbert.transformer.layer.5.ffn.lin1.weight', 'distilbert.transformer.layer.5.ffn.lin1.bias', 'distilbert.transformer.layer.5.ffn.lin2.weight', 'distilbert.transformer.layer.5.ffn.lin2.bias', 'distilbert.transformer.layer.5.output_layer_norm.weight', 'distilbert.transformer.layer.5.output_layer_norm.bias', 'vocab_transform.weight', 'vocab_transform.bias', 'vocab_layer_norm.weight', 'vocab_layer_norm.bias', 'vocab_projector.weight', 'vocab_projector.bias']\n",
            "- This IS expected if you are initializing BertModel from the checkpoint of a model trained on another task or with another architecture (e.g. initializing a BertForSequenceClassification model from a BertForPreTraining model).\n",
            "- This IS NOT expected if you are initializing BertModel from the checkpoint of a model that you expect to be exactly identical (initializing a BertForSequenceClassification model from a BertForSequenceClassification model).\n",
            "Some weights of BertModel were not initialized from the model checkpoint at distilbert-base-uncased and are newly initialized: ['embeddings.word_embeddings.weight', 'embeddings.position_embeddings.weight', 'embeddings.token_type_embeddings.weight', 'embeddings.LayerNorm.weight', 'embeddings.LayerNorm.bias', 'encoder.layer.0.attention.self.query.weight', 'encoder.layer.0.attention.self.query.bias', 'encoder.layer.0.attention.self.key.weight', 'encoder.layer.0.attention.self.key.bias', 'encoder.layer.0.attention.self.value.weight', 'encoder.layer.0.attention.self.value.bias', 'encoder.layer.0.attention.output.dense.weight', 'encoder.layer.0.attention.output.dense.bias', 'encoder.layer.0.attention.output.LayerNorm.weight', 'encoder.layer.0.attention.output.LayerNorm.bias', 'encoder.layer.0.intermediate.dense.weight', 'encoder.layer.0.intermediate.dense.bias', 'encoder.layer.0.output.dense.weight', 'encoder.layer.0.output.dense.bias', 'encoder.layer.0.output.LayerNorm.weight', 'encoder.layer.0.output.LayerNorm.bias', 'encoder.layer.1.attention.self.query.weight', 'encoder.layer.1.attention.self.query.bias', 'encoder.layer.1.attention.self.key.weight', 'encoder.layer.1.attention.self.key.bias', 'encoder.layer.1.attention.self.value.weight', 'encoder.layer.1.attention.self.value.bias', 'encoder.layer.1.attention.output.dense.weight', 'encoder.layer.1.attention.output.dense.bias', 'encoder.layer.1.attention.output.LayerNorm.weight', 'encoder.layer.1.attention.output.LayerNorm.bias', 'encoder.layer.1.intermediate.dense.weight', 'encoder.layer.1.intermediate.dense.bias', 'encoder.layer.1.output.dense.weight', 'encoder.layer.1.output.dense.bias', 'encoder.layer.1.output.LayerNorm.weight', 'encoder.layer.1.output.LayerNorm.bias', 'encoder.layer.2.attention.self.query.weight', 'encoder.layer.2.attention.self.query.bias', 'encoder.layer.2.attention.self.key.weight', 'encoder.layer.2.attention.self.key.bias', 'encoder.layer.2.attention.self.value.weight', 'encoder.layer.2.attention.self.value.bias', 'encoder.layer.2.attention.output.dense.weight', 'encoder.layer.2.attention.output.dense.bias', 'encoder.layer.2.attention.output.LayerNorm.weight', 'encoder.layer.2.attention.output.LayerNorm.bias', 'encoder.layer.2.intermediate.dense.weight', 'encoder.layer.2.intermediate.dense.bias', 'encoder.layer.2.output.dense.weight', 'encoder.layer.2.output.dense.bias', 'encoder.layer.2.output.LayerNorm.weight', 'encoder.layer.2.output.LayerNorm.bias', 'encoder.layer.3.attention.self.query.weight', 'encoder.layer.3.attention.self.query.bias', 'encoder.layer.3.attention.self.key.weight', 'encoder.layer.3.attention.self.key.bias', 'encoder.layer.3.attention.self.value.weight', 'encoder.layer.3.attention.self.value.bias', 'encoder.layer.3.attention.output.dense.weight', 'encoder.layer.3.attention.output.dense.bias', 'encoder.layer.3.attention.output.LayerNorm.weight', 'encoder.layer.3.attention.output.LayerNorm.bias', 'encoder.layer.3.intermediate.dense.weight', 'encoder.layer.3.intermediate.dense.bias', 'encoder.layer.3.output.dense.weight', 'encoder.layer.3.output.dense.bias', 'encoder.layer.3.output.LayerNorm.weight', 'encoder.layer.3.output.LayerNorm.bias', 'encoder.layer.4.attention.self.query.weight', 'encoder.layer.4.attention.self.query.bias', 'encoder.layer.4.attention.self.key.weight', 'encoder.layer.4.attention.self.key.bias', 'encoder.layer.4.attention.self.value.weight', 'encoder.layer.4.attention.self.value.bias', 'encoder.layer.4.attention.output.dense.weight', 'encoder.layer.4.attention.output.dense.bias', 'encoder.layer.4.attention.output.LayerNorm.weight', 'encoder.layer.4.attention.output.LayerNorm.bias', 'encoder.layer.4.intermediate.dense.weight', 'encoder.layer.4.intermediate.dense.bias', 'encoder.layer.4.output.dense.weight', 'encoder.layer.4.output.dense.bias', 'encoder.layer.4.output.LayerNorm.weight', 'encoder.layer.4.output.LayerNorm.bias', 'encoder.layer.5.attention.self.query.weight', 'encoder.layer.5.attention.self.query.bias', 'encoder.layer.5.attention.self.key.weight', 'encoder.layer.5.attention.self.key.bias', 'encoder.layer.5.attention.self.value.weight', 'encoder.layer.5.attention.self.value.bias', 'encoder.layer.5.attention.output.dense.weight', 'encoder.layer.5.attention.output.dense.bias', 'encoder.layer.5.attention.output.LayerNorm.weight', 'encoder.layer.5.attention.output.LayerNorm.bias', 'encoder.layer.5.intermediate.dense.weight', 'encoder.layer.5.intermediate.dense.bias', 'encoder.layer.5.output.dense.weight', 'encoder.layer.5.output.dense.bias', 'encoder.layer.5.output.LayerNorm.weight', 'encoder.layer.5.output.LayerNorm.bias', 'encoder.layer.6.attention.self.query.weight', 'encoder.layer.6.attention.self.query.bias', 'encoder.layer.6.attention.self.key.weight', 'encoder.layer.6.attention.self.key.bias', 'encoder.layer.6.attention.self.value.weight', 'encoder.layer.6.attention.self.value.bias', 'encoder.layer.6.attention.output.dense.weight', 'encoder.layer.6.attention.output.dense.bias', 'encoder.layer.6.attention.output.LayerNorm.weight', 'encoder.layer.6.attention.output.LayerNorm.bias', 'encoder.layer.6.intermediate.dense.weight', 'encoder.layer.6.intermediate.dense.bias', 'encoder.layer.6.output.dense.weight', 'encoder.layer.6.output.dense.bias', 'encoder.layer.6.output.LayerNorm.weight', 'encoder.layer.6.output.LayerNorm.bias', 'encoder.layer.7.attention.self.query.weight', 'encoder.layer.7.attention.self.query.bias', 'encoder.layer.7.attention.self.key.weight', 'encoder.layer.7.attention.self.key.bias', 'encoder.layer.7.attention.self.value.weight', 'encoder.layer.7.attention.self.value.bias', 'encoder.layer.7.attention.output.dense.weight', 'encoder.layer.7.attention.output.dense.bias', 'encoder.layer.7.attention.output.LayerNorm.weight', 'encoder.layer.7.attention.output.LayerNorm.bias', 'encoder.layer.7.intermediate.dense.weight', 'encoder.layer.7.intermediate.dense.bias', 'encoder.layer.7.output.dense.weight', 'encoder.layer.7.output.dense.bias', 'encoder.layer.7.output.LayerNorm.weight', 'encoder.layer.7.output.LayerNorm.bias', 'encoder.layer.8.attention.self.query.weight', 'encoder.layer.8.attention.self.query.bias', 'encoder.layer.8.attention.self.key.weight', 'encoder.layer.8.attention.self.key.bias', 'encoder.layer.8.attention.self.value.weight', 'encoder.layer.8.attention.self.value.bias', 'encoder.layer.8.attention.output.dense.weight', 'encoder.layer.8.attention.output.dense.bias', 'encoder.layer.8.attention.output.LayerNorm.weight', 'encoder.layer.8.attention.output.LayerNorm.bias', 'encoder.layer.8.intermediate.dense.weight', 'encoder.layer.8.intermediate.dense.bias', 'encoder.layer.8.output.dense.weight', 'encoder.layer.8.output.dense.bias', 'encoder.layer.8.output.LayerNorm.weight', 'encoder.layer.8.output.LayerNorm.bias', 'encoder.layer.9.attention.self.query.weight', 'encoder.layer.9.attention.self.query.bias', 'encoder.layer.9.attention.self.key.weight', 'encoder.layer.9.attention.self.key.bias', 'encoder.layer.9.attention.self.value.weight', 'encoder.layer.9.attention.self.value.bias', 'encoder.layer.9.attention.output.dense.weight', 'encoder.layer.9.attention.output.dense.bias', 'encoder.layer.9.attention.output.LayerNorm.weight', 'encoder.layer.9.attention.output.LayerNorm.bias', 'encoder.layer.9.intermediate.dense.weight', 'encoder.layer.9.intermediate.dense.bias', 'encoder.layer.9.output.dense.weight', 'encoder.layer.9.output.dense.bias', 'encoder.layer.9.output.LayerNorm.weight', 'encoder.layer.9.output.LayerNorm.bias', 'encoder.layer.10.attention.self.query.weight', 'encoder.layer.10.attention.self.query.bias', 'encoder.layer.10.attention.self.key.weight', 'encoder.layer.10.attention.self.key.bias', 'encoder.layer.10.attention.self.value.weight', 'encoder.layer.10.attention.self.value.bias', 'encoder.layer.10.attention.output.dense.weight', 'encoder.layer.10.attention.output.dense.bias', 'encoder.layer.10.attention.output.LayerNorm.weight', 'encoder.layer.10.attention.output.LayerNorm.bias', 'encoder.layer.10.intermediate.dense.weight', 'encoder.layer.10.intermediate.dense.bias', 'encoder.layer.10.output.dense.weight', 'encoder.layer.10.output.dense.bias', 'encoder.layer.10.output.LayerNorm.weight', 'encoder.layer.10.output.LayerNorm.bias', 'encoder.layer.11.attention.self.query.weight', 'encoder.layer.11.attention.self.query.bias', 'encoder.layer.11.attention.self.key.weight', 'encoder.layer.11.attention.self.key.bias', 'encoder.layer.11.attention.self.value.weight', 'encoder.layer.11.attention.self.value.bias', 'encoder.layer.11.attention.output.dense.weight', 'encoder.layer.11.attention.output.dense.bias', 'encoder.layer.11.attention.output.LayerNorm.weight', 'encoder.layer.11.attention.output.LayerNorm.bias', 'encoder.layer.11.intermediate.dense.weight', 'encoder.layer.11.intermediate.dense.bias', 'encoder.layer.11.output.dense.weight', 'encoder.layer.11.output.dense.bias', 'encoder.layer.11.output.LayerNorm.weight', 'encoder.layer.11.output.LayerNorm.bias', 'pooler.dense.weight', 'pooler.dense.bias']\n",
            "You should probably TRAIN this model on a down-stream task to be able to use it for predictions and inference.\n"
          ],
          "name": "stderr"
        }
      ]
    },
    {
      "cell_type": "code",
      "metadata": {
        "colab": {
          "base_uri": "https://localhost:8080/"
        },
        "id": "uxWjsAcuhe1O",
        "outputId": "c7a3651c-b9cd-47c4-eadf-7aed4108730c"
      },
      "source": [
        "bert_model"
      ],
      "execution_count": 9,
      "outputs": [
        {
          "output_type": "execute_result",
          "data": {
            "text/plain": [
              "BertModel(\n",
              "  (embeddings): BertEmbeddings(\n",
              "    (word_embeddings): Embedding(30522, 768, padding_idx=0)\n",
              "    (position_embeddings): Embedding(512, 768)\n",
              "    (token_type_embeddings): Embedding(2, 768)\n",
              "    (LayerNorm): LayerNorm((768,), eps=1e-12, elementwise_affine=True)\n",
              "    (dropout): Dropout(p=0.1, inplace=False)\n",
              "  )\n",
              "  (encoder): BertEncoder(\n",
              "    (layer): ModuleList(\n",
              "      (0): BertLayer(\n",
              "        (attention): BertAttention(\n",
              "          (self): BertSelfAttention(\n",
              "            (query): Linear(in_features=768, out_features=768, bias=True)\n",
              "            (key): Linear(in_features=768, out_features=768, bias=True)\n",
              "            (value): Linear(in_features=768, out_features=768, bias=True)\n",
              "            (dropout): Dropout(p=0.1, inplace=False)\n",
              "          )\n",
              "          (output): BertSelfOutput(\n",
              "            (dense): Linear(in_features=768, out_features=768, bias=True)\n",
              "            (LayerNorm): LayerNorm((768,), eps=1e-12, elementwise_affine=True)\n",
              "            (dropout): Dropout(p=0.1, inplace=False)\n",
              "          )\n",
              "        )\n",
              "        (intermediate): BertIntermediate(\n",
              "          (dense): Linear(in_features=768, out_features=3072, bias=True)\n",
              "        )\n",
              "        (output): BertOutput(\n",
              "          (dense): Linear(in_features=3072, out_features=768, bias=True)\n",
              "          (LayerNorm): LayerNorm((768,), eps=1e-12, elementwise_affine=True)\n",
              "          (dropout): Dropout(p=0.1, inplace=False)\n",
              "        )\n",
              "      )\n",
              "      (1): BertLayer(\n",
              "        (attention): BertAttention(\n",
              "          (self): BertSelfAttention(\n",
              "            (query): Linear(in_features=768, out_features=768, bias=True)\n",
              "            (key): Linear(in_features=768, out_features=768, bias=True)\n",
              "            (value): Linear(in_features=768, out_features=768, bias=True)\n",
              "            (dropout): Dropout(p=0.1, inplace=False)\n",
              "          )\n",
              "          (output): BertSelfOutput(\n",
              "            (dense): Linear(in_features=768, out_features=768, bias=True)\n",
              "            (LayerNorm): LayerNorm((768,), eps=1e-12, elementwise_affine=True)\n",
              "            (dropout): Dropout(p=0.1, inplace=False)\n",
              "          )\n",
              "        )\n",
              "        (intermediate): BertIntermediate(\n",
              "          (dense): Linear(in_features=768, out_features=3072, bias=True)\n",
              "        )\n",
              "        (output): BertOutput(\n",
              "          (dense): Linear(in_features=3072, out_features=768, bias=True)\n",
              "          (LayerNorm): LayerNorm((768,), eps=1e-12, elementwise_affine=True)\n",
              "          (dropout): Dropout(p=0.1, inplace=False)\n",
              "        )\n",
              "      )\n",
              "      (2): BertLayer(\n",
              "        (attention): BertAttention(\n",
              "          (self): BertSelfAttention(\n",
              "            (query): Linear(in_features=768, out_features=768, bias=True)\n",
              "            (key): Linear(in_features=768, out_features=768, bias=True)\n",
              "            (value): Linear(in_features=768, out_features=768, bias=True)\n",
              "            (dropout): Dropout(p=0.1, inplace=False)\n",
              "          )\n",
              "          (output): BertSelfOutput(\n",
              "            (dense): Linear(in_features=768, out_features=768, bias=True)\n",
              "            (LayerNorm): LayerNorm((768,), eps=1e-12, elementwise_affine=True)\n",
              "            (dropout): Dropout(p=0.1, inplace=False)\n",
              "          )\n",
              "        )\n",
              "        (intermediate): BertIntermediate(\n",
              "          (dense): Linear(in_features=768, out_features=3072, bias=True)\n",
              "        )\n",
              "        (output): BertOutput(\n",
              "          (dense): Linear(in_features=3072, out_features=768, bias=True)\n",
              "          (LayerNorm): LayerNorm((768,), eps=1e-12, elementwise_affine=True)\n",
              "          (dropout): Dropout(p=0.1, inplace=False)\n",
              "        )\n",
              "      )\n",
              "      (3): BertLayer(\n",
              "        (attention): BertAttention(\n",
              "          (self): BertSelfAttention(\n",
              "            (query): Linear(in_features=768, out_features=768, bias=True)\n",
              "            (key): Linear(in_features=768, out_features=768, bias=True)\n",
              "            (value): Linear(in_features=768, out_features=768, bias=True)\n",
              "            (dropout): Dropout(p=0.1, inplace=False)\n",
              "          )\n",
              "          (output): BertSelfOutput(\n",
              "            (dense): Linear(in_features=768, out_features=768, bias=True)\n",
              "            (LayerNorm): LayerNorm((768,), eps=1e-12, elementwise_affine=True)\n",
              "            (dropout): Dropout(p=0.1, inplace=False)\n",
              "          )\n",
              "        )\n",
              "        (intermediate): BertIntermediate(\n",
              "          (dense): Linear(in_features=768, out_features=3072, bias=True)\n",
              "        )\n",
              "        (output): BertOutput(\n",
              "          (dense): Linear(in_features=3072, out_features=768, bias=True)\n",
              "          (LayerNorm): LayerNorm((768,), eps=1e-12, elementwise_affine=True)\n",
              "          (dropout): Dropout(p=0.1, inplace=False)\n",
              "        )\n",
              "      )\n",
              "      (4): BertLayer(\n",
              "        (attention): BertAttention(\n",
              "          (self): BertSelfAttention(\n",
              "            (query): Linear(in_features=768, out_features=768, bias=True)\n",
              "            (key): Linear(in_features=768, out_features=768, bias=True)\n",
              "            (value): Linear(in_features=768, out_features=768, bias=True)\n",
              "            (dropout): Dropout(p=0.1, inplace=False)\n",
              "          )\n",
              "          (output): BertSelfOutput(\n",
              "            (dense): Linear(in_features=768, out_features=768, bias=True)\n",
              "            (LayerNorm): LayerNorm((768,), eps=1e-12, elementwise_affine=True)\n",
              "            (dropout): Dropout(p=0.1, inplace=False)\n",
              "          )\n",
              "        )\n",
              "        (intermediate): BertIntermediate(\n",
              "          (dense): Linear(in_features=768, out_features=3072, bias=True)\n",
              "        )\n",
              "        (output): BertOutput(\n",
              "          (dense): Linear(in_features=3072, out_features=768, bias=True)\n",
              "          (LayerNorm): LayerNorm((768,), eps=1e-12, elementwise_affine=True)\n",
              "          (dropout): Dropout(p=0.1, inplace=False)\n",
              "        )\n",
              "      )\n",
              "      (5): BertLayer(\n",
              "        (attention): BertAttention(\n",
              "          (self): BertSelfAttention(\n",
              "            (query): Linear(in_features=768, out_features=768, bias=True)\n",
              "            (key): Linear(in_features=768, out_features=768, bias=True)\n",
              "            (value): Linear(in_features=768, out_features=768, bias=True)\n",
              "            (dropout): Dropout(p=0.1, inplace=False)\n",
              "          )\n",
              "          (output): BertSelfOutput(\n",
              "            (dense): Linear(in_features=768, out_features=768, bias=True)\n",
              "            (LayerNorm): LayerNorm((768,), eps=1e-12, elementwise_affine=True)\n",
              "            (dropout): Dropout(p=0.1, inplace=False)\n",
              "          )\n",
              "        )\n",
              "        (intermediate): BertIntermediate(\n",
              "          (dense): Linear(in_features=768, out_features=3072, bias=True)\n",
              "        )\n",
              "        (output): BertOutput(\n",
              "          (dense): Linear(in_features=3072, out_features=768, bias=True)\n",
              "          (LayerNorm): LayerNorm((768,), eps=1e-12, elementwise_affine=True)\n",
              "          (dropout): Dropout(p=0.1, inplace=False)\n",
              "        )\n",
              "      )\n",
              "      (6): BertLayer(\n",
              "        (attention): BertAttention(\n",
              "          (self): BertSelfAttention(\n",
              "            (query): Linear(in_features=768, out_features=768, bias=True)\n",
              "            (key): Linear(in_features=768, out_features=768, bias=True)\n",
              "            (value): Linear(in_features=768, out_features=768, bias=True)\n",
              "            (dropout): Dropout(p=0.1, inplace=False)\n",
              "          )\n",
              "          (output): BertSelfOutput(\n",
              "            (dense): Linear(in_features=768, out_features=768, bias=True)\n",
              "            (LayerNorm): LayerNorm((768,), eps=1e-12, elementwise_affine=True)\n",
              "            (dropout): Dropout(p=0.1, inplace=False)\n",
              "          )\n",
              "        )\n",
              "        (intermediate): BertIntermediate(\n",
              "          (dense): Linear(in_features=768, out_features=3072, bias=True)\n",
              "        )\n",
              "        (output): BertOutput(\n",
              "          (dense): Linear(in_features=3072, out_features=768, bias=True)\n",
              "          (LayerNorm): LayerNorm((768,), eps=1e-12, elementwise_affine=True)\n",
              "          (dropout): Dropout(p=0.1, inplace=False)\n",
              "        )\n",
              "      )\n",
              "      (7): BertLayer(\n",
              "        (attention): BertAttention(\n",
              "          (self): BertSelfAttention(\n",
              "            (query): Linear(in_features=768, out_features=768, bias=True)\n",
              "            (key): Linear(in_features=768, out_features=768, bias=True)\n",
              "            (value): Linear(in_features=768, out_features=768, bias=True)\n",
              "            (dropout): Dropout(p=0.1, inplace=False)\n",
              "          )\n",
              "          (output): BertSelfOutput(\n",
              "            (dense): Linear(in_features=768, out_features=768, bias=True)\n",
              "            (LayerNorm): LayerNorm((768,), eps=1e-12, elementwise_affine=True)\n",
              "            (dropout): Dropout(p=0.1, inplace=False)\n",
              "          )\n",
              "        )\n",
              "        (intermediate): BertIntermediate(\n",
              "          (dense): Linear(in_features=768, out_features=3072, bias=True)\n",
              "        )\n",
              "        (output): BertOutput(\n",
              "          (dense): Linear(in_features=3072, out_features=768, bias=True)\n",
              "          (LayerNorm): LayerNorm((768,), eps=1e-12, elementwise_affine=True)\n",
              "          (dropout): Dropout(p=0.1, inplace=False)\n",
              "        )\n",
              "      )\n",
              "      (8): BertLayer(\n",
              "        (attention): BertAttention(\n",
              "          (self): BertSelfAttention(\n",
              "            (query): Linear(in_features=768, out_features=768, bias=True)\n",
              "            (key): Linear(in_features=768, out_features=768, bias=True)\n",
              "            (value): Linear(in_features=768, out_features=768, bias=True)\n",
              "            (dropout): Dropout(p=0.1, inplace=False)\n",
              "          )\n",
              "          (output): BertSelfOutput(\n",
              "            (dense): Linear(in_features=768, out_features=768, bias=True)\n",
              "            (LayerNorm): LayerNorm((768,), eps=1e-12, elementwise_affine=True)\n",
              "            (dropout): Dropout(p=0.1, inplace=False)\n",
              "          )\n",
              "        )\n",
              "        (intermediate): BertIntermediate(\n",
              "          (dense): Linear(in_features=768, out_features=3072, bias=True)\n",
              "        )\n",
              "        (output): BertOutput(\n",
              "          (dense): Linear(in_features=3072, out_features=768, bias=True)\n",
              "          (LayerNorm): LayerNorm((768,), eps=1e-12, elementwise_affine=True)\n",
              "          (dropout): Dropout(p=0.1, inplace=False)\n",
              "        )\n",
              "      )\n",
              "      (9): BertLayer(\n",
              "        (attention): BertAttention(\n",
              "          (self): BertSelfAttention(\n",
              "            (query): Linear(in_features=768, out_features=768, bias=True)\n",
              "            (key): Linear(in_features=768, out_features=768, bias=True)\n",
              "            (value): Linear(in_features=768, out_features=768, bias=True)\n",
              "            (dropout): Dropout(p=0.1, inplace=False)\n",
              "          )\n",
              "          (output): BertSelfOutput(\n",
              "            (dense): Linear(in_features=768, out_features=768, bias=True)\n",
              "            (LayerNorm): LayerNorm((768,), eps=1e-12, elementwise_affine=True)\n",
              "            (dropout): Dropout(p=0.1, inplace=False)\n",
              "          )\n",
              "        )\n",
              "        (intermediate): BertIntermediate(\n",
              "          (dense): Linear(in_features=768, out_features=3072, bias=True)\n",
              "        )\n",
              "        (output): BertOutput(\n",
              "          (dense): Linear(in_features=3072, out_features=768, bias=True)\n",
              "          (LayerNorm): LayerNorm((768,), eps=1e-12, elementwise_affine=True)\n",
              "          (dropout): Dropout(p=0.1, inplace=False)\n",
              "        )\n",
              "      )\n",
              "      (10): BertLayer(\n",
              "        (attention): BertAttention(\n",
              "          (self): BertSelfAttention(\n",
              "            (query): Linear(in_features=768, out_features=768, bias=True)\n",
              "            (key): Linear(in_features=768, out_features=768, bias=True)\n",
              "            (value): Linear(in_features=768, out_features=768, bias=True)\n",
              "            (dropout): Dropout(p=0.1, inplace=False)\n",
              "          )\n",
              "          (output): BertSelfOutput(\n",
              "            (dense): Linear(in_features=768, out_features=768, bias=True)\n",
              "            (LayerNorm): LayerNorm((768,), eps=1e-12, elementwise_affine=True)\n",
              "            (dropout): Dropout(p=0.1, inplace=False)\n",
              "          )\n",
              "        )\n",
              "        (intermediate): BertIntermediate(\n",
              "          (dense): Linear(in_features=768, out_features=3072, bias=True)\n",
              "        )\n",
              "        (output): BertOutput(\n",
              "          (dense): Linear(in_features=3072, out_features=768, bias=True)\n",
              "          (LayerNorm): LayerNorm((768,), eps=1e-12, elementwise_affine=True)\n",
              "          (dropout): Dropout(p=0.1, inplace=False)\n",
              "        )\n",
              "      )\n",
              "      (11): BertLayer(\n",
              "        (attention): BertAttention(\n",
              "          (self): BertSelfAttention(\n",
              "            (query): Linear(in_features=768, out_features=768, bias=True)\n",
              "            (key): Linear(in_features=768, out_features=768, bias=True)\n",
              "            (value): Linear(in_features=768, out_features=768, bias=True)\n",
              "            (dropout): Dropout(p=0.1, inplace=False)\n",
              "          )\n",
              "          (output): BertSelfOutput(\n",
              "            (dense): Linear(in_features=768, out_features=768, bias=True)\n",
              "            (LayerNorm): LayerNorm((768,), eps=1e-12, elementwise_affine=True)\n",
              "            (dropout): Dropout(p=0.1, inplace=False)\n",
              "          )\n",
              "        )\n",
              "        (intermediate): BertIntermediate(\n",
              "          (dense): Linear(in_features=768, out_features=3072, bias=True)\n",
              "        )\n",
              "        (output): BertOutput(\n",
              "          (dense): Linear(in_features=3072, out_features=768, bias=True)\n",
              "          (LayerNorm): LayerNorm((768,), eps=1e-12, elementwise_affine=True)\n",
              "          (dropout): Dropout(p=0.1, inplace=False)\n",
              "        )\n",
              "      )\n",
              "    )\n",
              "  )\n",
              "  (pooler): BertPooler(\n",
              "    (dense): Linear(in_features=768, out_features=768, bias=True)\n",
              "    (activation): Tanh()\n",
              "  )\n",
              ")"
            ]
          },
          "metadata": {
            "tags": []
          },
          "execution_count": 9
        }
      ]
    },
    {
      "cell_type": "markdown",
      "metadata": {
        "id": "AgR-JXACkNQu"
      },
      "source": [
        "# Load Data + features extraction using BERT"
      ]
    },
    {
      "cell_type": "code",
      "metadata": {
        "id": "D7ROgNpwxQOy"
      },
      "source": [
        "import nltk\r\n",
        "import string\r\n",
        "import numpy as np\r\n",
        "import pandas as pd\r\n",
        "from nltk.corpus import stopwords\r\n",
        "import re"
      ],
      "execution_count": 68,
      "outputs": []
    },
    {
      "cell_type": "code",
      "metadata": {
        "colab": {
          "base_uri": "https://localhost:8080/"
        },
        "id": "p9lTcQF_yr5y",
        "outputId": "9d901548-459b-4a5a-f5df-0c00985dcdb6"
      },
      "source": [
        "nltk.download('stopwords')\r\n",
        "\r\n",
        "print(stopwords.words('english')[:15])"
      ],
      "execution_count": 66,
      "outputs": [
        {
          "output_type": "stream",
          "text": [
            "[nltk_data] Downloading package stopwords to /root/nltk_data...\n",
            "[nltk_data]   Package stopwords is already up-to-date!\n",
            "['i', 'me', 'my', 'myself', 'we', 'our', 'ours', 'ourselves', 'you', \"you're\", \"you've\", \"you'll\", \"you'd\", 'your', 'yours']\n"
          ],
          "name": "stdout"
        }
      ]
    },
    {
      "cell_type": "code",
      "metadata": {
        "id": "HHkAZZoDIjqX"
      },
      "source": [
        "df = pd.read_csv(\"NLP-final-project/Data/Combined_News_DJIA.csv\")"
      ],
      "execution_count": 100,
      "outputs": []
    },
    {
      "cell_type": "code",
      "metadata": {
        "colab": {
          "base_uri": "https://localhost:8080/",
          "height": 204
        },
        "id": "E0P3-2sGI_yW",
        "outputId": "0d0becaa-fdb5-4c07-fe4e-a96353a22d3c"
      },
      "source": [
        "df = df.drop(['Date'], axis=1)\r\n",
        "tops = df.columns[1:]\r\n",
        "\r\n",
        "df['headline'] = df[tops[:1]].apply(lambda row:'.'.join(row.values.astype(str)), axis=1)\r\n",
        "df = df.drop(tops, axis=1)\r\n",
        "\r\n",
        "df['label'] = df['Label']\r\n",
        "df = df.drop(['Label'], axis=1)\r\n",
        "\r\n",
        "# remove special characters\r\n",
        "df = df.replace('b\\\"|b\\'|\\\\\\\\|\\\\\\\"', '', regex=True)\r\n",
        "\r\n",
        "df.head()"
      ],
      "execution_count": 101,
      "outputs": [
        {
          "output_type": "execute_result",
          "data": {
            "text/html": [
              "<div>\n",
              "<style scoped>\n",
              "    .dataframe tbody tr th:only-of-type {\n",
              "        vertical-align: middle;\n",
              "    }\n",
              "\n",
              "    .dataframe tbody tr th {\n",
              "        vertical-align: top;\n",
              "    }\n",
              "\n",
              "    .dataframe thead th {\n",
              "        text-align: right;\n",
              "    }\n",
              "</style>\n",
              "<table border=\"1\" class=\"dataframe\">\n",
              "  <thead>\n",
              "    <tr style=\"text-align: right;\">\n",
              "      <th></th>\n",
              "      <th>headline</th>\n",
              "      <th>label</th>\n",
              "    </tr>\n",
              "  </thead>\n",
              "  <tbody>\n",
              "    <tr>\n",
              "      <th>0</th>\n",
              "      <td>Georgia 'downs two Russian warplanes' as count...</td>\n",
              "      <td>0</td>\n",
              "    </tr>\n",
              "    <tr>\n",
              "      <th>1</th>\n",
              "      <td>Why wont America and Nato help us? If they won...</td>\n",
              "      <td>1</td>\n",
              "    </tr>\n",
              "    <tr>\n",
              "      <th>2</th>\n",
              "      <td>Remember that adorable 9-year-old who sang at ...</td>\n",
              "      <td>0</td>\n",
              "    </tr>\n",
              "    <tr>\n",
              "      <th>3</th>\n",
              "      <td>U.S. refuses Israel weapons to attack Iran: r...</td>\n",
              "      <td>0</td>\n",
              "    </tr>\n",
              "    <tr>\n",
              "      <th>4</th>\n",
              "      <td>All the experts admit that we should legalise ...</td>\n",
              "      <td>1</td>\n",
              "    </tr>\n",
              "  </tbody>\n",
              "</table>\n",
              "</div>"
            ],
            "text/plain": [
              "                                            headline  label\n",
              "0  Georgia 'downs two Russian warplanes' as count...      0\n",
              "1  Why wont America and Nato help us? If they won...      1\n",
              "2  Remember that adorable 9-year-old who sang at ...      0\n",
              "3   U.S. refuses Israel weapons to attack Iran: r...      0\n",
              "4  All the experts admit that we should legalise ...      1"
            ]
          },
          "metadata": {
            "tags": []
          },
          "execution_count": 101
        }
      ]
    },
    {
      "cell_type": "code",
      "metadata": {
        "id": "Tcg61LHexBwE"
      },
      "source": [
        "def clean_text(text):\r\n",
        "    \r\n",
        "    ## Remove puncuation\r\n",
        "    text = text.translate(string.punctuation)\r\n",
        "    \r\n",
        "    ## Convert words to lower case and split them\r\n",
        "    text = text.lower().split()\r\n",
        "    \r\n",
        "    ## Remove stop words\r\n",
        "    stops = set(stopwords.words(\"english\"))\r\n",
        "    text = [w for w in text if not w in stops]\r\n",
        "    \r\n",
        "    text = \" \".join(text)\r\n",
        "    ## Clean the text\r\n",
        "    text = re.sub(r\"[^A-Za-z0-9^,!.\\/'+-=]\", \" \", text)\r\n",
        "    text = re.sub(r\"what's\", \"what is \", text)\r\n",
        "    text = re.sub(r\"\\'s\", \" \", text)\r\n",
        "    text = re.sub(r\"\\'ve\", \" have \", text)\r\n",
        "    text = re.sub(r\"n't\", \" not \", text)\r\n",
        "    text = re.sub(r\"i'm\", \"i am \", text)\r\n",
        "    text = re.sub(r\"\\'re\", \" are \", text)\r\n",
        "    text = re.sub(r\"\\'d\", \" would \", text)\r\n",
        "    text = re.sub(r\"\\'ll\", \" will \", text)\r\n",
        "    text = re.sub(r\",\", \" \", text)\r\n",
        "    text = re.sub(r\"\\.\", \" \", text)\r\n",
        "    text = re.sub(r\"!\", \" ! \", text)\r\n",
        "    text = re.sub(r\"\\/\", \" \", text)\r\n",
        "    text = re.sub(r\"\\^\", \" ^ \", text)\r\n",
        "    text = re.sub(r\"\\+\", \" + \", text)\r\n",
        "    text = re.sub(r\"\\-\", \" - \", text)\r\n",
        "    text = re.sub(r\"\\=\", \" = \", text)\r\n",
        "    text = re.sub(r\"'\", \" \", text)\r\n",
        "    text = re.sub(r\"(\\d+)(k)\", r\"\\g<1>000\", text)\r\n",
        "    text = re.sub(r\":\", \" : \", text)\r\n",
        "    text = re.sub(r\" e g \", \" eg \", text)\r\n",
        "    text = re.sub(r\" b g \", \" bg \", text)\r\n",
        "    text = re.sub(r\"u s\", \"american\", text)\r\n",
        "    text = re.sub(r\"\\0s\", \"0\", text)\r\n",
        "    text = re.sub(r\" 9 11 \", \"911\", text)\r\n",
        "    text = re.sub(r\"e - mail\", \"email\", text)\r\n",
        "    text = re.sub(r\"j k\", \"jk\", text)\r\n",
        "    text = re.sub(r\"\\s{2,}\", \" \", text)\r\n",
        "    ## Stemming\r\n",
        "    text = text.split()\r\n",
        "    stemmer = nltk.stem.SnowballStemmer('english')\r\n",
        "    stemmed_words = [stemmer.stem(word) for word in text]\r\n",
        "    text = \" \".join(stemmed_words)\r\n",
        "\r\n",
        "    return text"
      ],
      "execution_count": 102,
      "outputs": []
    },
    {
      "cell_type": "code",
      "metadata": {
        "id": "4b_LaZBszIt-"
      },
      "source": [
        "def punctuation_stopwords_removal(headlines):\r\n",
        "    # filters charecter-by-charecter\r\n",
        "    remove_punctuation = [ch for ch in headlines if ch not in string.punctuation]\r\n",
        "    # convert them back to sentences and split into words\r\n",
        "    remove_punctuation = \"\".join(remove_punctuation).split()\r\n",
        "    return remove_punctuation\r\n",
        "\r\n",
        "    # # remove stop words\r\n",
        "    # filtered_headlines = [word for word in remove_punctuation if word.lower() not in stopwords.words('english')]\r\n",
        "    # return filtered_headlines"
      ],
      "execution_count": 14,
      "outputs": []
    },
    {
      "cell_type": "code",
      "metadata": {
        "id": "nchr6PNtzw3-"
      },
      "source": [
        "df.loc[:, 'headline'] = df['headline'].apply(clean_text)"
      ],
      "execution_count": 103,
      "outputs": []
    },
    {
      "cell_type": "code",
      "metadata": {
        "colab": {
          "base_uri": "https://localhost:8080/",
          "height": 204
        },
        "id": "LvtvNoMI2tJV",
        "outputId": "4a5b8ffc-2324-45f3-dd34-6d9fcfa630ab"
      },
      "source": [
        "df.head()"
      ],
      "execution_count": 104,
      "outputs": [
        {
          "output_type": "execute_result",
          "data": {
            "text/html": [
              "<div>\n",
              "<style scoped>\n",
              "    .dataframe tbody tr th:only-of-type {\n",
              "        vertical-align: middle;\n",
              "    }\n",
              "\n",
              "    .dataframe tbody tr th {\n",
              "        vertical-align: top;\n",
              "    }\n",
              "\n",
              "    .dataframe thead th {\n",
              "        text-align: right;\n",
              "    }\n",
              "</style>\n",
              "<table border=\"1\" class=\"dataframe\">\n",
              "  <thead>\n",
              "    <tr style=\"text-align: right;\">\n",
              "      <th></th>\n",
              "      <th>headline</th>\n",
              "      <th>label</th>\n",
              "    </tr>\n",
              "  </thead>\n",
              "  <tbody>\n",
              "    <tr>\n",
              "      <th>0</th>\n",
              "      <td>georgia would own two russian warplan countri ...</td>\n",
              "      <td>0</td>\n",
              "    </tr>\n",
              "    <tr>\n",
              "      <th>1</th>\n",
              "      <td>wont america nato help us wont help us now hel...</td>\n",
              "      <td>1</td>\n",
              "    </tr>\n",
              "    <tr>\n",
              "      <th>2</th>\n",
              "      <td>rememb ador 9 - year - old sang open ceremoni ...</td>\n",
              "      <td>0</td>\n",
              "    </tr>\n",
              "    <tr>\n",
              "      <th>3</th>\n",
              "      <td>american refus israel weapon attack iran : report</td>\n",
              "      <td>0</td>\n",
              "    </tr>\n",
              "    <tr>\n",
              "      <th>4</th>\n",
              "      <td>expert admit legalis drug</td>\n",
              "      <td>1</td>\n",
              "    </tr>\n",
              "  </tbody>\n",
              "</table>\n",
              "</div>"
            ],
            "text/plain": [
              "                                            headline  label\n",
              "0  georgia would own two russian warplan countri ...      0\n",
              "1  wont america nato help us wont help us now hel...      1\n",
              "2  rememb ador 9 - year - old sang open ceremoni ...      0\n",
              "3  american refus israel weapon attack iran : report      0\n",
              "4                          expert admit legalis drug      1"
            ]
          },
          "metadata": {
            "tags": []
          },
          "execution_count": 104
        }
      ]
    },
    {
      "cell_type": "code",
      "metadata": {
        "id": "DKDK97FO2wG5"
      },
      "source": [
        "# input_ids = tokenizer.encode(list(df['headline']), is_split_into_words=True, padding=True)\r\n",
        "\r\n",
        "encoding = tokenizer.encode(\r\n",
        "  list(df['headline']),\r\n",
        "  is_split_into_words=True,\r\n",
        "  padding=True,\r\n",
        "  return_tensors='pt'\r\n",
        ")\r\n",
        "\r\n",
        "# tokenized = df['headline'].apply((lambda x: tokenizer.encode(x)))\r\n",
        "# max_len = 0\r\n",
        "# for i in tokenized.values:\r\n",
        "#     if len(i)>max_len:\r\n",
        "#         max_len = len(i)\r\n",
        "# print(max_len)"
      ],
      "execution_count": 138,
      "outputs": []
    },
    {
      "cell_type": "code",
      "metadata": {
        "colab": {
          "base_uri": "https://localhost:8080/"
        },
        "id": "qpnRYwlX5ztY",
        "outputId": "7671df25-c4e2-4a0d-e6cf-409996518832"
      },
      "source": [
        "len(df)"
      ],
      "execution_count": 141,
      "outputs": [
        {
          "output_type": "execute_result",
          "data": {
            "text/plain": [
              "1989"
            ]
          },
          "metadata": {
            "tags": []
          },
          "execution_count": 141
        }
      ]
    },
    {
      "cell_type": "code",
      "metadata": {
        "colab": {
          "base_uri": "https://localhost:8080/"
        },
        "id": "3EAqNaY12gAY",
        "outputId": "7ecab407-8e86-4af2-f7ab-31812787341f"
      },
      "source": [
        "encoding.shape"
      ],
      "execution_count": 140,
      "outputs": [
        {
          "output_type": "execute_result",
          "data": {
            "text/plain": [
              "torch.Size([1, 38040])"
            ]
          },
          "metadata": {
            "tags": []
          },
          "execution_count": 140
        }
      ]
    },
    {
      "cell_type": "code",
      "metadata": {
        "id": "IHc5Ckdq_fm0"
      },
      "source": [
        "padded = np.array([i + [0]*(max_len - len(i)) for i in tokenized.values])\r\n",
        "attention_mask = np.where(padded != 0, 1, 0)\r\n",
        "\r\n",
        "input_ids = torch.tensor(padded).to(device)\r\n",
        "attention_mask = torch.tensor(attention_mask).to(device)\r\n",
        "labels = torch.tensor(df['label'].to_numpy(), dtype=torch.float).to(device)"
      ],
      "execution_count": 18,
      "outputs": []
    },
    {
      "cell_type": "code",
      "metadata": {
        "id": "M1Y6xiyF_bK5"
      },
      "source": [
        "with torch.no_grad():\r\n",
        "    features = bert_model(input_ids, attention_mask=attention_mask).pooler_output"
      ],
      "execution_count": 19,
      "outputs": []
    },
    {
      "cell_type": "code",
      "metadata": {
        "id": "m1N7nv8FHwI1"
      },
      "source": [
        "train_features, test_features, train_labels, test_labels = train_test_split(features, labels, test_size=0.2, random_state=RANDOM_SEED)\r\n",
        "test_features, val_features, test_labels, val_labels = train_test_split(test_features, test_labels, test_size=0.5, random_state=RANDOM_SEED)"
      ],
      "execution_count": 20,
      "outputs": []
    },
    {
      "cell_type": "code",
      "metadata": {
        "id": "ZOcxxmz1aot3"
      },
      "source": [
        "class HeadlinesStocksDataset(Dataset):\r\n",
        "  def __init__(self, features, labels):\r\n",
        "    self.features = features\r\n",
        "    self.labels = labels\r\n",
        "\r\n",
        "  def __len__(self):\r\n",
        "    return len(self.features)\r\n",
        "\r\n",
        "  def __getitem__(self, item):\r\n",
        "    return self.features[item], self.labels[item]"
      ],
      "execution_count": 21,
      "outputs": []
    },
    {
      "cell_type": "code",
      "metadata": {
        "id": "U2S0sjqhdO7v"
      },
      "source": [
        "BATCH_SIZE = 8\r\n",
        "\r\n",
        "def create_data_loader(features, labels, batch_size, shuffle=False):\r\n",
        "  return DataLoader(\r\n",
        "    HeadlinesStocksDataset(features, labels),\r\n",
        "    batch_size=batch_size,\r\n",
        "    shuffle=shuffle\r\n",
        "  )"
      ],
      "execution_count": 22,
      "outputs": []
    },
    {
      "cell_type": "code",
      "metadata": {
        "id": "QmmcKwqeDzeJ"
      },
      "source": [
        "train_data_loader = create_data_loader(train_features, train_labels, BATCH_SIZE, shuffle=True)\r\n",
        "val_data_loader = create_data_loader(val_features, val_labels, BATCH_SIZE)\r\n",
        "test_data_loader = create_data_loader(test_features, test_labels, BATCH_SIZE)"
      ],
      "execution_count": 23,
      "outputs": []
    },
    {
      "cell_type": "code",
      "metadata": {
        "id": "EJtEumWbFxMk"
      },
      "source": [
        "data_loaders = {'train': train_data_loader, 'validation': val_data_loader, 'test': test_data_loader}"
      ],
      "execution_count": 24,
      "outputs": []
    },
    {
      "cell_type": "code",
      "metadata": {
        "colab": {
          "base_uri": "https://localhost:8080/"
        },
        "id": "4eugyLXQIisv",
        "outputId": "d97954d9-af03-4c32-edc6-d739f82e145e"
      },
      "source": [
        "for set_name, loader in data_loaders.items():\r\n",
        "  print(f'{set_name}: {len(loader.dataset)}')"
      ],
      "execution_count": 25,
      "outputs": [
        {
          "output_type": "stream",
          "text": [
            "train: 1591\n",
            "validation: 199\n",
            "test: 199\n"
          ],
          "name": "stdout"
        }
      ]
    },
    {
      "cell_type": "markdown",
      "metadata": {
        "id": "rseXBEw3jV4m"
      },
      "source": [
        "# Helpers"
      ]
    },
    {
      "cell_type": "code",
      "metadata": {
        "id": "sMVl1HY0pK_j"
      },
      "source": [
        "def train_epoch(model, data_loader, loss_fn, optimizer, scheduler):\r\n",
        "  losses = []\r\n",
        "  correct_predictions = 0\r\n",
        "  \r\n",
        "  for features, labels in data_loader:\r\n",
        "    features = features.to(device)\r\n",
        "    labels = labels.to(device)\r\n",
        "\r\n",
        "    outputs = torch.squeeze(model(features))\r\n",
        "\r\n",
        "    # for accuracy calculation\r\n",
        "    predicted_labels = (outputs > 0.5).float() * 1\r\n",
        "    correct_predictions += torch.sum(predicted_labels == labels)\r\n",
        "\r\n",
        "    # calculate and save loss\r\n",
        "    loss = loss_fn(outputs, labels)\r\n",
        "    losses.append(loss.item())\r\n",
        "\r\n",
        "    # optimizer step\r\n",
        "    loss.backward()\r\n",
        "    nn.utils.clip_grad_norm_(model.parameters(), max_norm=1.0)\r\n",
        "    optimizer.step()\r\n",
        "    if scheduler:\r\n",
        "      scheduler.step()\r\n",
        "    optimizer.zero_grad()\r\n",
        "  \r\n",
        "  return {'accuracy': correct_predictions.item() / len(data_loader.dataset),\r\n",
        "          'loss': np.mean(losses)}"
      ],
      "execution_count": 26,
      "outputs": []
    },
    {
      "cell_type": "code",
      "metadata": {
        "id": "2PMz9_zhqqhl"
      },
      "source": [
        "def eval_model(model, loss_fn, sets=['validation']):\r\n",
        "  with torch.no_grad():\r\n",
        "    sets_metrics = dict()\r\n",
        "\r\n",
        "    for set_name, dataloader in data_loaders.items():\r\n",
        "      if set_name in sets:\r\n",
        "        losses = []\r\n",
        "        correct_predictions = 0\r\n",
        "  \r\n",
        "        for features, labels in dataloader:\r\n",
        "          features = features.to(device)\r\n",
        "          labels = labels.to(device)\r\n",
        "\r\n",
        "          outputs = torch.squeeze(model(features))\r\n",
        "\r\n",
        "          # for accuracy calculation\r\n",
        "          predicted_labels = (outputs > 0.5).float() * 1\r\n",
        "          correct_predictions += torch.sum(predicted_labels == labels)\r\n",
        "\r\n",
        "          # calculate and save loss\r\n",
        "          losses.append(loss_fn(outputs, labels).item())\r\n",
        "\r\n",
        "        sets_metrics[set_name] = {'accuracy': correct_predictions.item() / len(dataloader.dataset),\r\n",
        "                                  'loss': np.mean(losses)}\r\n",
        "\r\n",
        "    return sets_metrics\r\n"
      ],
      "execution_count": 27,
      "outputs": []
    },
    {
      "cell_type": "code",
      "metadata": {
        "id": "r5jByyGKq3iR"
      },
      "source": [
        "def train(model, n_epochs, train_data_loader, loss_fn, optimizer, scheduler):\r\n",
        "  history = []\r\n",
        "\r\n",
        "  for epoch in range(n_epochs):\r\n",
        "    print(f'Epoch {epoch + 1}/{n_epochs} Metrics')\r\n",
        "    \r\n",
        "    current_metrics = { 'train': \r\n",
        "      train_epoch(\r\n",
        "        model,\r\n",
        "        train_data_loader,\r\n",
        "        loss_fn,\r\n",
        "        optimizer,\r\n",
        "        scheduler\r\n",
        "      ) \r\n",
        "    }\r\n",
        "    current_metrics.update(eval_model(model, loss_fn))\r\n",
        "\r\n",
        "    pprint.pprint(current_metrics, indent=4)\r\n",
        "    print('-' * 10)\r\n",
        "\r\n",
        "    history.append(current_metrics)\r\n",
        "\r\n",
        "  return history"
      ],
      "execution_count": 28,
      "outputs": []
    },
    {
      "cell_type": "code",
      "metadata": {
        "id": "rJx0f7NpcvEx"
      },
      "source": [
        "def plot(history):\r\n",
        "  metrics_map = dict()\r\n",
        "\r\n",
        "  for e_sets in history:\r\n",
        "    for set_name, set_metrics in e_sets.items():\r\n",
        "      for metric_name, metric_value in set_metrics.items():\r\n",
        "\r\n",
        "        if metric_name not in metrics_map:\r\n",
        "          metrics_map[metric_name] = dict()\r\n",
        "        if set_name not in metrics_map[metric_name]:\r\n",
        "          metrics_map[metric_name][set_name] = []\r\n",
        "\r\n",
        "        metrics_map[metric_name][set_name].append(metric_value)\r\n",
        "      \r\n",
        "  for metric_name, sets in metrics_map.items():\r\n",
        "    df = None\r\n",
        "    for set_name, set_metrics in sets.items():\r\n",
        "      size = len(set_metrics)\r\n",
        "      if df is None:\r\n",
        "        df = pd.DataFrame({\"epoch\": np.linspace(1, size, size),\r\n",
        "                      metric_name: set_metrics,\r\n",
        "                      \"set\": [set_name] * size})\r\n",
        "      else:\r\n",
        "        df = df.append(pd.DataFrame({\"epoch\": np.linspace(1, size, size),\r\n",
        "                      metric_name: set_metrics,\r\n",
        "                      \"set\": [set_name] * size}), ignore_index=True)\r\n",
        "\r\n",
        "    fig = px.line(df, x=\"epoch\", y=metric_name, line_group=\"set\", title=f\"epoch {metric_name} per dataset\", color=\"set\", hover_name=\"set\")\r\n",
        "    fig.show()"
      ],
      "execution_count": 29,
      "outputs": []
    },
    {
      "cell_type": "markdown",
      "metadata": {
        "id": "dwLbH-N9rcFC"
      },
      "source": [
        "# Logistic Regression Classifier"
      ]
    },
    {
      "cell_type": "code",
      "metadata": {
        "id": "H2lpUC4GmS9Z"
      },
      "source": [
        "class LogisticClassifier(nn.Module):\r\n",
        "  def __init__(self):\r\n",
        "    super(LogisticClassifier, self).__init__()\r\n",
        "    self.classifier = nn.Sequential(nn.Linear(bert_model.config.hidden_size, 1),\r\n",
        "                                    nn.Sigmoid())\r\n",
        "\r\n",
        "  def forward(self, x):\r\n",
        "    return self.classifier(x)  \r\n"
      ],
      "execution_count": 30,
      "outputs": []
    },
    {
      "cell_type": "code",
      "metadata": {
        "id": "Xap2fDMNmzl-"
      },
      "source": [
        "model = LogisticClassifier().to(device)"
      ],
      "execution_count": 31,
      "outputs": []
    },
    {
      "cell_type": "code",
      "metadata": {
        "id": "0Nqstm0XoJne"
      },
      "source": [
        "EPOCHS = 10\r\n",
        "optimizer = AdamW(model.parameters(), lr=2e-5, correct_bias=False)\r\n",
        "total_steps = len(train_data_loader) * EPOCHS\r\n",
        "scheduler = get_linear_schedule_with_warmup(\r\n",
        "  optimizer,\r\n",
        "  num_warmup_steps=0,\r\n",
        "  num_training_steps=total_steps\r\n",
        ")\r\n",
        "loss_fn = nn.BCELoss().to(device)"
      ],
      "execution_count": 32,
      "outputs": []
    },
    {
      "cell_type": "code",
      "metadata": {
        "colab": {
          "base_uri": "https://localhost:8080/"
        },
        "id": "WGOaqWk3b24M",
        "outputId": "1c2e48e2-3579-4e8b-9620-0dd66e44a7ad"
      },
      "source": [
        "%%time\r\n",
        "history = train(model, EPOCHS, train_data_loader, loss_fn, optimizer, scheduler)"
      ],
      "execution_count": 33,
      "outputs": [
        {
          "output_type": "stream",
          "text": [
            "Epoch 1/10 Metrics\n",
            "{   'train': {'accuracy': 0.5147705845380264, 'loss': 0.6942029247930901},\n",
            "    'validation': {'accuracy': 0.5728643216080402, 'loss': 0.688151569366455}}\n",
            "----------\n",
            "Epoch 2/10 Metrics\n",
            "{   'train': {'accuracy': 0.5279698302954117, 'loss': 0.6928458705020311},\n",
            "    'validation': {'accuracy': 0.5728643216080402, 'loss': 0.6904939556121826}}\n",
            "----------\n",
            "Epoch 3/10 Metrics\n",
            "{   'train': {'accuracy': 0.524198617221873, 'loss': 0.692365534341515},\n",
            "    'validation': {'accuracy': 0.5879396984924623, 'loss': 0.6845856642723084}}\n",
            "----------\n",
            "Epoch 4/10 Metrics\n",
            "{   'train': {'accuracy': 0.5267127592708988, 'loss': 0.69214449575798},\n",
            "    'validation': {'accuracy': 0.5879396984924623, 'loss': 0.6837685680389405}}\n",
            "----------\n",
            "Epoch 5/10 Metrics\n",
            "{   'train': {'accuracy': 0.5260842237586424, 'loss': 0.6919403741108113},\n",
            "    'validation': {'accuracy': 0.5879396984924623, 'loss': 0.684586546421051}}\n",
            "----------\n",
            "Epoch 6/10 Metrics\n",
            "{   'train': {'accuracy': 0.5273412947831553, 'loss': 0.69177471453221},\n",
            "    'validation': {'accuracy': 0.5879396984924623, 'loss': 0.685343554019928}}\n",
            "----------\n",
            "Epoch 7/10 Metrics\n",
            "{   'train': {'accuracy': 0.5273412947831553, 'loss': 0.6917709630338391},\n",
            "    'validation': {'accuracy': 0.5879396984924623, 'loss': 0.6852347946166992}}\n",
            "----------\n",
            "Epoch 8/10 Metrics\n",
            "{   'train': {'accuracy': 0.5260842237586424, 'loss': 0.6917568831587556},\n",
            "    'validation': {'accuracy': 0.5879396984924623, 'loss': 0.6840295672416687}}\n",
            "----------\n",
            "Epoch 9/10 Metrics\n",
            "{   'train': {'accuracy': 0.5267127592708988, 'loss': 0.6916732491560318},\n",
            "    'validation': {'accuracy': 0.5879396984924623, 'loss': 0.6838976979255676}}\n",
            "----------\n",
            "Epoch 10/10 Metrics\n",
            "{   'train': {'accuracy': 0.5267127592708988, 'loss': 0.6917184785981874},\n",
            "    'validation': {'accuracy': 0.5879396984924623, 'loss': 0.6838628697395325}}\n",
            "----------\n",
            "CPU times: user 2.86 s, sys: 108 ms, total: 2.97 s\n",
            "Wall time: 3.13 s\n"
          ],
          "name": "stdout"
        }
      ]
    },
    {
      "cell_type": "code",
      "metadata": {
        "colab": {
          "base_uri": "https://localhost:8080/",
          "height": 1000
        },
        "id": "U_yp-58DjI4R",
        "outputId": "14563e46-b2b4-474f-f39f-c621502796f6"
      },
      "source": [
        "plot(history)"
      ],
      "execution_count": 34,
      "outputs": [
        {
          "output_type": "display_data",
          "data": {
            "text/html": [
              "<html>\n",
              "<head><meta charset=\"utf-8\" /></head>\n",
              "<body>\n",
              "    <div>\n",
              "            <script src=\"https://cdnjs.cloudflare.com/ajax/libs/mathjax/2.7.5/MathJax.js?config=TeX-AMS-MML_SVG\"></script><script type=\"text/javascript\">if (window.MathJax) {MathJax.Hub.Config({SVG: {font: \"STIX-Web\"}});}</script>\n",
              "                <script type=\"text/javascript\">window.PlotlyConfig = {MathJaxConfig: 'local'};</script>\n",
              "        <script src=\"https://cdn.plot.ly/plotly-latest.min.js\"></script>    \n",
              "            <div id=\"6f4ede53-c257-446e-a8f8-986c751b4f49\" class=\"plotly-graph-div\" style=\"height:525px; width:100%;\"></div>\n",
              "            <script type=\"text/javascript\">\n",
              "                \n",
              "                    window.PLOTLYENV=window.PLOTLYENV || {};\n",
              "                    \n",
              "                if (document.getElementById(\"6f4ede53-c257-446e-a8f8-986c751b4f49\")) {\n",
              "                    Plotly.newPlot(\n",
              "                        '6f4ede53-c257-446e-a8f8-986c751b4f49',\n",
              "                        [{\"hoverlabel\": {\"namelength\": 0}, \"hovertemplate\": \"<b>%{hovertext}</b><br><br>set=train<br>epoch=%{x}<br>accuracy=%{y}\", \"hovertext\": [\"train\", \"train\", \"train\", \"train\", \"train\", \"train\", \"train\", \"train\", \"train\", \"train\"], \"legendgroup\": \"set=train\", \"line\": {\"color\": \"#636efa\", \"dash\": \"solid\"}, \"mode\": \"lines\", \"name\": \"set=train\", \"showlegend\": true, \"type\": \"scatter\", \"x\": [1.0, 2.0, 3.0, 4.0, 5.0, 6.0, 7.0, 8.0, 9.0, 10.0], \"xaxis\": \"x\", \"y\": [0.5147705845380264, 0.5279698302954117, 0.524198617221873, 0.5267127592708988, 0.5260842237586424, 0.5273412947831553, 0.5273412947831553, 0.5260842237586424, 0.5267127592708988, 0.5267127592708988], \"yaxis\": \"y\"}, {\"hoverlabel\": {\"namelength\": 0}, \"hovertemplate\": \"<b>%{hovertext}</b><br><br>set=validation<br>epoch=%{x}<br>accuracy=%{y}\", \"hovertext\": [\"validation\", \"validation\", \"validation\", \"validation\", \"validation\", \"validation\", \"validation\", \"validation\", \"validation\", \"validation\"], \"legendgroup\": \"set=validation\", \"line\": {\"color\": \"#EF553B\", \"dash\": \"solid\"}, \"mode\": \"lines\", \"name\": \"set=validation\", \"showlegend\": true, \"type\": \"scatter\", \"x\": [1.0, 2.0, 3.0, 4.0, 5.0, 6.0, 7.0, 8.0, 9.0, 10.0], \"xaxis\": \"x\", \"y\": [0.5728643216080402, 0.5728643216080402, 0.5879396984924623, 0.5879396984924623, 0.5879396984924623, 0.5879396984924623, 0.5879396984924623, 0.5879396984924623, 0.5879396984924623, 0.5879396984924623], \"yaxis\": \"y\"}],\n",
              "                        {\"legend\": {\"tracegroupgap\": 0}, \"template\": {\"data\": {\"bar\": [{\"error_x\": {\"color\": \"#2a3f5f\"}, \"error_y\": {\"color\": \"#2a3f5f\"}, \"marker\": {\"line\": {\"color\": \"#E5ECF6\", \"width\": 0.5}}, \"type\": \"bar\"}], \"barpolar\": [{\"marker\": {\"line\": {\"color\": \"#E5ECF6\", \"width\": 0.5}}, \"type\": \"barpolar\"}], \"carpet\": [{\"aaxis\": {\"endlinecolor\": \"#2a3f5f\", \"gridcolor\": \"white\", \"linecolor\": \"white\", \"minorgridcolor\": \"white\", \"startlinecolor\": \"#2a3f5f\"}, \"baxis\": {\"endlinecolor\": \"#2a3f5f\", \"gridcolor\": \"white\", \"linecolor\": \"white\", \"minorgridcolor\": \"white\", \"startlinecolor\": \"#2a3f5f\"}, \"type\": \"carpet\"}], \"choropleth\": [{\"colorbar\": {\"outlinewidth\": 0, \"ticks\": \"\"}, \"type\": \"choropleth\"}], \"contour\": [{\"colorbar\": {\"outlinewidth\": 0, \"ticks\": \"\"}, \"colorscale\": [[0.0, \"#0d0887\"], [0.1111111111111111, \"#46039f\"], [0.2222222222222222, \"#7201a8\"], [0.3333333333333333, \"#9c179e\"], [0.4444444444444444, \"#bd3786\"], [0.5555555555555556, \"#d8576b\"], [0.6666666666666666, \"#ed7953\"], [0.7777777777777778, \"#fb9f3a\"], [0.8888888888888888, \"#fdca26\"], [1.0, \"#f0f921\"]], \"type\": \"contour\"}], \"contourcarpet\": [{\"colorbar\": {\"outlinewidth\": 0, \"ticks\": \"\"}, \"type\": \"contourcarpet\"}], \"heatmap\": [{\"colorbar\": {\"outlinewidth\": 0, \"ticks\": \"\"}, \"colorscale\": [[0.0, \"#0d0887\"], [0.1111111111111111, \"#46039f\"], [0.2222222222222222, \"#7201a8\"], [0.3333333333333333, \"#9c179e\"], [0.4444444444444444, \"#bd3786\"], [0.5555555555555556, \"#d8576b\"], [0.6666666666666666, \"#ed7953\"], [0.7777777777777778, \"#fb9f3a\"], [0.8888888888888888, \"#fdca26\"], [1.0, \"#f0f921\"]], \"type\": \"heatmap\"}], \"heatmapgl\": [{\"colorbar\": {\"outlinewidth\": 0, \"ticks\": \"\"}, \"colorscale\": [[0.0, \"#0d0887\"], [0.1111111111111111, \"#46039f\"], [0.2222222222222222, \"#7201a8\"], [0.3333333333333333, \"#9c179e\"], [0.4444444444444444, \"#bd3786\"], [0.5555555555555556, \"#d8576b\"], [0.6666666666666666, \"#ed7953\"], [0.7777777777777778, \"#fb9f3a\"], [0.8888888888888888, \"#fdca26\"], [1.0, \"#f0f921\"]], \"type\": \"heatmapgl\"}], \"histogram\": [{\"marker\": {\"colorbar\": {\"outlinewidth\": 0, \"ticks\": \"\"}}, \"type\": \"histogram\"}], \"histogram2d\": [{\"colorbar\": {\"outlinewidth\": 0, \"ticks\": \"\"}, \"colorscale\": [[0.0, \"#0d0887\"], [0.1111111111111111, \"#46039f\"], [0.2222222222222222, \"#7201a8\"], [0.3333333333333333, \"#9c179e\"], [0.4444444444444444, \"#bd3786\"], [0.5555555555555556, \"#d8576b\"], [0.6666666666666666, \"#ed7953\"], [0.7777777777777778, \"#fb9f3a\"], [0.8888888888888888, \"#fdca26\"], [1.0, \"#f0f921\"]], \"type\": \"histogram2d\"}], \"histogram2dcontour\": [{\"colorbar\": {\"outlinewidth\": 0, \"ticks\": \"\"}, \"colorscale\": [[0.0, \"#0d0887\"], [0.1111111111111111, \"#46039f\"], [0.2222222222222222, \"#7201a8\"], [0.3333333333333333, \"#9c179e\"], [0.4444444444444444, \"#bd3786\"], [0.5555555555555556, \"#d8576b\"], [0.6666666666666666, \"#ed7953\"], [0.7777777777777778, \"#fb9f3a\"], [0.8888888888888888, \"#fdca26\"], [1.0, \"#f0f921\"]], \"type\": \"histogram2dcontour\"}], \"mesh3d\": [{\"colorbar\": {\"outlinewidth\": 0, \"ticks\": \"\"}, \"type\": \"mesh3d\"}], \"parcoords\": [{\"line\": {\"colorbar\": {\"outlinewidth\": 0, \"ticks\": \"\"}}, \"type\": \"parcoords\"}], \"pie\": [{\"automargin\": true, \"type\": \"pie\"}], \"scatter\": [{\"marker\": {\"colorbar\": {\"outlinewidth\": 0, \"ticks\": \"\"}}, \"type\": \"scatter\"}], \"scatter3d\": [{\"line\": {\"colorbar\": {\"outlinewidth\": 0, \"ticks\": \"\"}}, \"marker\": {\"colorbar\": {\"outlinewidth\": 0, \"ticks\": \"\"}}, \"type\": \"scatter3d\"}], \"scattercarpet\": [{\"marker\": {\"colorbar\": {\"outlinewidth\": 0, \"ticks\": \"\"}}, \"type\": \"scattercarpet\"}], \"scattergeo\": [{\"marker\": {\"colorbar\": {\"outlinewidth\": 0, \"ticks\": \"\"}}, \"type\": \"scattergeo\"}], \"scattergl\": [{\"marker\": {\"colorbar\": {\"outlinewidth\": 0, \"ticks\": \"\"}}, \"type\": \"scattergl\"}], \"scattermapbox\": [{\"marker\": {\"colorbar\": {\"outlinewidth\": 0, \"ticks\": \"\"}}, \"type\": \"scattermapbox\"}], \"scatterpolar\": [{\"marker\": {\"colorbar\": {\"outlinewidth\": 0, \"ticks\": \"\"}}, \"type\": \"scatterpolar\"}], \"scatterpolargl\": [{\"marker\": {\"colorbar\": {\"outlinewidth\": 0, \"ticks\": \"\"}}, \"type\": \"scatterpolargl\"}], \"scatterternary\": [{\"marker\": {\"colorbar\": {\"outlinewidth\": 0, \"ticks\": \"\"}}, \"type\": \"scatterternary\"}], \"surface\": [{\"colorbar\": {\"outlinewidth\": 0, \"ticks\": \"\"}, \"colorscale\": [[0.0, \"#0d0887\"], [0.1111111111111111, \"#46039f\"], [0.2222222222222222, \"#7201a8\"], [0.3333333333333333, \"#9c179e\"], [0.4444444444444444, \"#bd3786\"], [0.5555555555555556, \"#d8576b\"], [0.6666666666666666, \"#ed7953\"], [0.7777777777777778, \"#fb9f3a\"], [0.8888888888888888, \"#fdca26\"], [1.0, \"#f0f921\"]], \"type\": \"surface\"}], \"table\": [{\"cells\": {\"fill\": {\"color\": \"#EBF0F8\"}, \"line\": {\"color\": \"white\"}}, \"header\": {\"fill\": {\"color\": \"#C8D4E3\"}, \"line\": {\"color\": \"white\"}}, \"type\": \"table\"}]}, \"layout\": {\"annotationdefaults\": {\"arrowcolor\": \"#2a3f5f\", \"arrowhead\": 0, \"arrowwidth\": 1}, \"coloraxis\": {\"colorbar\": {\"outlinewidth\": 0, \"ticks\": \"\"}}, \"colorscale\": {\"diverging\": [[0, \"#8e0152\"], [0.1, \"#c51b7d\"], [0.2, \"#de77ae\"], [0.3, \"#f1b6da\"], [0.4, \"#fde0ef\"], [0.5, \"#f7f7f7\"], [0.6, \"#e6f5d0\"], [0.7, \"#b8e186\"], [0.8, \"#7fbc41\"], [0.9, \"#4d9221\"], [1, \"#276419\"]], \"sequential\": [[0.0, \"#0d0887\"], [0.1111111111111111, \"#46039f\"], [0.2222222222222222, \"#7201a8\"], [0.3333333333333333, \"#9c179e\"], [0.4444444444444444, \"#bd3786\"], [0.5555555555555556, \"#d8576b\"], [0.6666666666666666, \"#ed7953\"], [0.7777777777777778, \"#fb9f3a\"], [0.8888888888888888, \"#fdca26\"], [1.0, \"#f0f921\"]], \"sequentialminus\": [[0.0, \"#0d0887\"], [0.1111111111111111, \"#46039f\"], [0.2222222222222222, \"#7201a8\"], [0.3333333333333333, \"#9c179e\"], [0.4444444444444444, \"#bd3786\"], [0.5555555555555556, \"#d8576b\"], [0.6666666666666666, \"#ed7953\"], [0.7777777777777778, \"#fb9f3a\"], [0.8888888888888888, \"#fdca26\"], [1.0, \"#f0f921\"]]}, \"colorway\": [\"#636efa\", \"#EF553B\", \"#00cc96\", \"#ab63fa\", \"#FFA15A\", \"#19d3f3\", \"#FF6692\", \"#B6E880\", \"#FF97FF\", \"#FECB52\"], \"font\": {\"color\": \"#2a3f5f\"}, \"geo\": {\"bgcolor\": \"white\", \"lakecolor\": \"white\", \"landcolor\": \"#E5ECF6\", \"showlakes\": true, \"showland\": true, \"subunitcolor\": \"white\"}, \"hoverlabel\": {\"align\": \"left\"}, \"hovermode\": \"closest\", \"mapbox\": {\"style\": \"light\"}, \"paper_bgcolor\": \"white\", \"plot_bgcolor\": \"#E5ECF6\", \"polar\": {\"angularaxis\": {\"gridcolor\": \"white\", \"linecolor\": \"white\", \"ticks\": \"\"}, \"bgcolor\": \"#E5ECF6\", \"radialaxis\": {\"gridcolor\": \"white\", \"linecolor\": \"white\", \"ticks\": \"\"}}, \"scene\": {\"xaxis\": {\"backgroundcolor\": \"#E5ECF6\", \"gridcolor\": \"white\", \"gridwidth\": 2, \"linecolor\": \"white\", \"showbackground\": true, \"ticks\": \"\", \"zerolinecolor\": \"white\"}, \"yaxis\": {\"backgroundcolor\": \"#E5ECF6\", \"gridcolor\": \"white\", \"gridwidth\": 2, \"linecolor\": \"white\", \"showbackground\": true, \"ticks\": \"\", \"zerolinecolor\": \"white\"}, \"zaxis\": {\"backgroundcolor\": \"#E5ECF6\", \"gridcolor\": \"white\", \"gridwidth\": 2, \"linecolor\": \"white\", \"showbackground\": true, \"ticks\": \"\", \"zerolinecolor\": \"white\"}}, \"shapedefaults\": {\"line\": {\"color\": \"#2a3f5f\"}}, \"ternary\": {\"aaxis\": {\"gridcolor\": \"white\", \"linecolor\": \"white\", \"ticks\": \"\"}, \"baxis\": {\"gridcolor\": \"white\", \"linecolor\": \"white\", \"ticks\": \"\"}, \"bgcolor\": \"#E5ECF6\", \"caxis\": {\"gridcolor\": \"white\", \"linecolor\": \"white\", \"ticks\": \"\"}}, \"title\": {\"x\": 0.05}, \"xaxis\": {\"automargin\": true, \"gridcolor\": \"white\", \"linecolor\": \"white\", \"ticks\": \"\", \"title\": {\"standoff\": 15}, \"zerolinecolor\": \"white\", \"zerolinewidth\": 2}, \"yaxis\": {\"automargin\": true, \"gridcolor\": \"white\", \"linecolor\": \"white\", \"ticks\": \"\", \"title\": {\"standoff\": 15}, \"zerolinecolor\": \"white\", \"zerolinewidth\": 2}}}, \"title\": {\"text\": \"epoch accuracy per dataset\"}, \"xaxis\": {\"anchor\": \"y\", \"domain\": [0.0, 1.0], \"title\": {\"text\": \"epoch\"}}, \"yaxis\": {\"anchor\": \"x\", \"domain\": [0.0, 1.0], \"title\": {\"text\": \"accuracy\"}}},\n",
              "                        {\"responsive\": true}\n",
              "                    ).then(function(){\n",
              "                            \n",
              "var gd = document.getElementById('6f4ede53-c257-446e-a8f8-986c751b4f49');\n",
              "var x = new MutationObserver(function (mutations, observer) {{\n",
              "        var display = window.getComputedStyle(gd).display;\n",
              "        if (!display || display === 'none') {{\n",
              "            console.log([gd, 'removed!']);\n",
              "            Plotly.purge(gd);\n",
              "            observer.disconnect();\n",
              "        }}\n",
              "}});\n",
              "\n",
              "// Listen for the removal of the full notebook cells\n",
              "var notebookContainer = gd.closest('#notebook-container');\n",
              "if (notebookContainer) {{\n",
              "    x.observe(notebookContainer, {childList: true});\n",
              "}}\n",
              "\n",
              "// Listen for the clearing of the current output cell\n",
              "var outputEl = gd.closest('.output');\n",
              "if (outputEl) {{\n",
              "    x.observe(outputEl, {childList: true});\n",
              "}}\n",
              "\n",
              "                        })\n",
              "                };\n",
              "                \n",
              "            </script>\n",
              "        </div>\n",
              "</body>\n",
              "</html>"
            ]
          },
          "metadata": {
            "tags": []
          }
        },
        {
          "output_type": "display_data",
          "data": {
            "text/html": [
              "<html>\n",
              "<head><meta charset=\"utf-8\" /></head>\n",
              "<body>\n",
              "    <div>\n",
              "            <script src=\"https://cdnjs.cloudflare.com/ajax/libs/mathjax/2.7.5/MathJax.js?config=TeX-AMS-MML_SVG\"></script><script type=\"text/javascript\">if (window.MathJax) {MathJax.Hub.Config({SVG: {font: \"STIX-Web\"}});}</script>\n",
              "                <script type=\"text/javascript\">window.PlotlyConfig = {MathJaxConfig: 'local'};</script>\n",
              "        <script src=\"https://cdn.plot.ly/plotly-latest.min.js\"></script>    \n",
              "            <div id=\"dca10a32-ab35-4b28-b7fc-ce4bd4dc9139\" class=\"plotly-graph-div\" style=\"height:525px; width:100%;\"></div>\n",
              "            <script type=\"text/javascript\">\n",
              "                \n",
              "                    window.PLOTLYENV=window.PLOTLYENV || {};\n",
              "                    \n",
              "                if (document.getElementById(\"dca10a32-ab35-4b28-b7fc-ce4bd4dc9139\")) {\n",
              "                    Plotly.newPlot(\n",
              "                        'dca10a32-ab35-4b28-b7fc-ce4bd4dc9139',\n",
              "                        [{\"hoverlabel\": {\"namelength\": 0}, \"hovertemplate\": \"<b>%{hovertext}</b><br><br>set=train<br>epoch=%{x}<br>loss=%{y}\", \"hovertext\": [\"train\", \"train\", \"train\", \"train\", \"train\", \"train\", \"train\", \"train\", \"train\", \"train\"], \"legendgroup\": \"set=train\", \"line\": {\"color\": \"#636efa\", \"dash\": \"solid\"}, \"mode\": \"lines\", \"name\": \"set=train\", \"showlegend\": true, \"type\": \"scatter\", \"x\": [1.0, 2.0, 3.0, 4.0, 5.0, 6.0, 7.0, 8.0, 9.0, 10.0], \"xaxis\": \"x\", \"y\": [0.6942029247930901, 0.6928458705020311, 0.692365534341515, 0.69214449575798, 0.6919403741108113, 0.69177471453221, 0.6917709630338391, 0.6917568831587556, 0.6916732491560318, 0.6917184785981874], \"yaxis\": \"y\"}, {\"hoverlabel\": {\"namelength\": 0}, \"hovertemplate\": \"<b>%{hovertext}</b><br><br>set=validation<br>epoch=%{x}<br>loss=%{y}\", \"hovertext\": [\"validation\", \"validation\", \"validation\", \"validation\", \"validation\", \"validation\", \"validation\", \"validation\", \"validation\", \"validation\"], \"legendgroup\": \"set=validation\", \"line\": {\"color\": \"#EF553B\", \"dash\": \"solid\"}, \"mode\": \"lines\", \"name\": \"set=validation\", \"showlegend\": true, \"type\": \"scatter\", \"x\": [1.0, 2.0, 3.0, 4.0, 5.0, 6.0, 7.0, 8.0, 9.0, 10.0], \"xaxis\": \"x\", \"y\": [0.688151569366455, 0.6904939556121826, 0.6845856642723084, 0.6837685680389405, 0.684586546421051, 0.685343554019928, 0.6852347946166992, 0.6840295672416687, 0.6838976979255676, 0.6838628697395325], \"yaxis\": \"y\"}],\n",
              "                        {\"legend\": {\"tracegroupgap\": 0}, \"template\": {\"data\": {\"bar\": [{\"error_x\": {\"color\": \"#2a3f5f\"}, \"error_y\": {\"color\": \"#2a3f5f\"}, \"marker\": {\"line\": {\"color\": \"#E5ECF6\", \"width\": 0.5}}, \"type\": \"bar\"}], \"barpolar\": [{\"marker\": {\"line\": {\"color\": \"#E5ECF6\", \"width\": 0.5}}, \"type\": \"barpolar\"}], \"carpet\": [{\"aaxis\": {\"endlinecolor\": \"#2a3f5f\", \"gridcolor\": \"white\", \"linecolor\": \"white\", \"minorgridcolor\": \"white\", \"startlinecolor\": \"#2a3f5f\"}, \"baxis\": {\"endlinecolor\": \"#2a3f5f\", \"gridcolor\": \"white\", \"linecolor\": \"white\", \"minorgridcolor\": \"white\", \"startlinecolor\": \"#2a3f5f\"}, \"type\": \"carpet\"}], \"choropleth\": [{\"colorbar\": {\"outlinewidth\": 0, \"ticks\": \"\"}, \"type\": \"choropleth\"}], \"contour\": [{\"colorbar\": {\"outlinewidth\": 0, \"ticks\": \"\"}, \"colorscale\": [[0.0, \"#0d0887\"], [0.1111111111111111, \"#46039f\"], [0.2222222222222222, \"#7201a8\"], [0.3333333333333333, \"#9c179e\"], [0.4444444444444444, \"#bd3786\"], [0.5555555555555556, \"#d8576b\"], [0.6666666666666666, \"#ed7953\"], [0.7777777777777778, \"#fb9f3a\"], [0.8888888888888888, \"#fdca26\"], [1.0, \"#f0f921\"]], \"type\": \"contour\"}], \"contourcarpet\": [{\"colorbar\": {\"outlinewidth\": 0, \"ticks\": \"\"}, \"type\": \"contourcarpet\"}], \"heatmap\": [{\"colorbar\": {\"outlinewidth\": 0, \"ticks\": \"\"}, \"colorscale\": [[0.0, \"#0d0887\"], [0.1111111111111111, \"#46039f\"], [0.2222222222222222, \"#7201a8\"], [0.3333333333333333, \"#9c179e\"], [0.4444444444444444, \"#bd3786\"], [0.5555555555555556, \"#d8576b\"], [0.6666666666666666, \"#ed7953\"], [0.7777777777777778, \"#fb9f3a\"], [0.8888888888888888, \"#fdca26\"], [1.0, \"#f0f921\"]], \"type\": \"heatmap\"}], \"heatmapgl\": [{\"colorbar\": {\"outlinewidth\": 0, \"ticks\": \"\"}, \"colorscale\": [[0.0, \"#0d0887\"], [0.1111111111111111, \"#46039f\"], [0.2222222222222222, \"#7201a8\"], [0.3333333333333333, \"#9c179e\"], [0.4444444444444444, \"#bd3786\"], [0.5555555555555556, \"#d8576b\"], [0.6666666666666666, \"#ed7953\"], [0.7777777777777778, \"#fb9f3a\"], [0.8888888888888888, \"#fdca26\"], [1.0, \"#f0f921\"]], \"type\": \"heatmapgl\"}], \"histogram\": [{\"marker\": {\"colorbar\": {\"outlinewidth\": 0, \"ticks\": \"\"}}, \"type\": \"histogram\"}], \"histogram2d\": [{\"colorbar\": {\"outlinewidth\": 0, \"ticks\": \"\"}, \"colorscale\": [[0.0, \"#0d0887\"], [0.1111111111111111, \"#46039f\"], [0.2222222222222222, \"#7201a8\"], [0.3333333333333333, \"#9c179e\"], [0.4444444444444444, \"#bd3786\"], [0.5555555555555556, \"#d8576b\"], [0.6666666666666666, \"#ed7953\"], [0.7777777777777778, \"#fb9f3a\"], [0.8888888888888888, \"#fdca26\"], [1.0, \"#f0f921\"]], \"type\": \"histogram2d\"}], \"histogram2dcontour\": [{\"colorbar\": {\"outlinewidth\": 0, \"ticks\": \"\"}, \"colorscale\": [[0.0, \"#0d0887\"], [0.1111111111111111, \"#46039f\"], [0.2222222222222222, \"#7201a8\"], [0.3333333333333333, \"#9c179e\"], [0.4444444444444444, \"#bd3786\"], [0.5555555555555556, \"#d8576b\"], [0.6666666666666666, \"#ed7953\"], [0.7777777777777778, \"#fb9f3a\"], [0.8888888888888888, \"#fdca26\"], [1.0, \"#f0f921\"]], \"type\": \"histogram2dcontour\"}], \"mesh3d\": [{\"colorbar\": {\"outlinewidth\": 0, \"ticks\": \"\"}, \"type\": \"mesh3d\"}], \"parcoords\": [{\"line\": {\"colorbar\": {\"outlinewidth\": 0, \"ticks\": \"\"}}, \"type\": \"parcoords\"}], \"pie\": [{\"automargin\": true, \"type\": \"pie\"}], \"scatter\": [{\"marker\": {\"colorbar\": {\"outlinewidth\": 0, \"ticks\": \"\"}}, \"type\": \"scatter\"}], \"scatter3d\": [{\"line\": {\"colorbar\": {\"outlinewidth\": 0, \"ticks\": \"\"}}, \"marker\": {\"colorbar\": {\"outlinewidth\": 0, \"ticks\": \"\"}}, \"type\": \"scatter3d\"}], \"scattercarpet\": [{\"marker\": {\"colorbar\": {\"outlinewidth\": 0, \"ticks\": \"\"}}, \"type\": \"scattercarpet\"}], \"scattergeo\": [{\"marker\": {\"colorbar\": {\"outlinewidth\": 0, \"ticks\": \"\"}}, \"type\": \"scattergeo\"}], \"scattergl\": [{\"marker\": {\"colorbar\": {\"outlinewidth\": 0, \"ticks\": \"\"}}, \"type\": \"scattergl\"}], \"scattermapbox\": [{\"marker\": {\"colorbar\": {\"outlinewidth\": 0, \"ticks\": \"\"}}, \"type\": \"scattermapbox\"}], \"scatterpolar\": [{\"marker\": {\"colorbar\": {\"outlinewidth\": 0, \"ticks\": \"\"}}, \"type\": \"scatterpolar\"}], \"scatterpolargl\": [{\"marker\": {\"colorbar\": {\"outlinewidth\": 0, \"ticks\": \"\"}}, \"type\": \"scatterpolargl\"}], \"scatterternary\": [{\"marker\": {\"colorbar\": {\"outlinewidth\": 0, \"ticks\": \"\"}}, \"type\": \"scatterternary\"}], \"surface\": [{\"colorbar\": {\"outlinewidth\": 0, \"ticks\": \"\"}, \"colorscale\": [[0.0, \"#0d0887\"], [0.1111111111111111, \"#46039f\"], [0.2222222222222222, \"#7201a8\"], [0.3333333333333333, \"#9c179e\"], [0.4444444444444444, \"#bd3786\"], [0.5555555555555556, \"#d8576b\"], [0.6666666666666666, \"#ed7953\"], [0.7777777777777778, \"#fb9f3a\"], [0.8888888888888888, \"#fdca26\"], [1.0, \"#f0f921\"]], \"type\": \"surface\"}], \"table\": [{\"cells\": {\"fill\": {\"color\": \"#EBF0F8\"}, \"line\": {\"color\": \"white\"}}, \"header\": {\"fill\": {\"color\": \"#C8D4E3\"}, \"line\": {\"color\": \"white\"}}, \"type\": \"table\"}]}, \"layout\": {\"annotationdefaults\": {\"arrowcolor\": \"#2a3f5f\", \"arrowhead\": 0, \"arrowwidth\": 1}, \"coloraxis\": {\"colorbar\": {\"outlinewidth\": 0, \"ticks\": \"\"}}, \"colorscale\": {\"diverging\": [[0, \"#8e0152\"], [0.1, \"#c51b7d\"], [0.2, \"#de77ae\"], [0.3, \"#f1b6da\"], [0.4, \"#fde0ef\"], [0.5, \"#f7f7f7\"], [0.6, \"#e6f5d0\"], [0.7, \"#b8e186\"], [0.8, \"#7fbc41\"], [0.9, \"#4d9221\"], [1, \"#276419\"]], \"sequential\": [[0.0, \"#0d0887\"], [0.1111111111111111, \"#46039f\"], [0.2222222222222222, \"#7201a8\"], [0.3333333333333333, \"#9c179e\"], [0.4444444444444444, \"#bd3786\"], [0.5555555555555556, \"#d8576b\"], [0.6666666666666666, \"#ed7953\"], [0.7777777777777778, \"#fb9f3a\"], [0.8888888888888888, \"#fdca26\"], [1.0, \"#f0f921\"]], \"sequentialminus\": [[0.0, \"#0d0887\"], [0.1111111111111111, \"#46039f\"], [0.2222222222222222, \"#7201a8\"], [0.3333333333333333, \"#9c179e\"], [0.4444444444444444, \"#bd3786\"], [0.5555555555555556, \"#d8576b\"], [0.6666666666666666, \"#ed7953\"], [0.7777777777777778, \"#fb9f3a\"], [0.8888888888888888, \"#fdca26\"], [1.0, \"#f0f921\"]]}, \"colorway\": [\"#636efa\", \"#EF553B\", \"#00cc96\", \"#ab63fa\", \"#FFA15A\", \"#19d3f3\", \"#FF6692\", \"#B6E880\", \"#FF97FF\", \"#FECB52\"], \"font\": {\"color\": \"#2a3f5f\"}, \"geo\": {\"bgcolor\": \"white\", \"lakecolor\": \"white\", \"landcolor\": \"#E5ECF6\", \"showlakes\": true, \"showland\": true, \"subunitcolor\": \"white\"}, \"hoverlabel\": {\"align\": \"left\"}, \"hovermode\": \"closest\", \"mapbox\": {\"style\": \"light\"}, \"paper_bgcolor\": \"white\", \"plot_bgcolor\": \"#E5ECF6\", \"polar\": {\"angularaxis\": {\"gridcolor\": \"white\", \"linecolor\": \"white\", \"ticks\": \"\"}, \"bgcolor\": \"#E5ECF6\", \"radialaxis\": {\"gridcolor\": \"white\", \"linecolor\": \"white\", \"ticks\": \"\"}}, \"scene\": {\"xaxis\": {\"backgroundcolor\": \"#E5ECF6\", \"gridcolor\": \"white\", \"gridwidth\": 2, \"linecolor\": \"white\", \"showbackground\": true, \"ticks\": \"\", \"zerolinecolor\": \"white\"}, \"yaxis\": {\"backgroundcolor\": \"#E5ECF6\", \"gridcolor\": \"white\", \"gridwidth\": 2, \"linecolor\": \"white\", \"showbackground\": true, \"ticks\": \"\", \"zerolinecolor\": \"white\"}, \"zaxis\": {\"backgroundcolor\": \"#E5ECF6\", \"gridcolor\": \"white\", \"gridwidth\": 2, \"linecolor\": \"white\", \"showbackground\": true, \"ticks\": \"\", \"zerolinecolor\": \"white\"}}, \"shapedefaults\": {\"line\": {\"color\": \"#2a3f5f\"}}, \"ternary\": {\"aaxis\": {\"gridcolor\": \"white\", \"linecolor\": \"white\", \"ticks\": \"\"}, \"baxis\": {\"gridcolor\": \"white\", \"linecolor\": \"white\", \"ticks\": \"\"}, \"bgcolor\": \"#E5ECF6\", \"caxis\": {\"gridcolor\": \"white\", \"linecolor\": \"white\", \"ticks\": \"\"}}, \"title\": {\"x\": 0.05}, \"xaxis\": {\"automargin\": true, \"gridcolor\": \"white\", \"linecolor\": \"white\", \"ticks\": \"\", \"title\": {\"standoff\": 15}, \"zerolinecolor\": \"white\", \"zerolinewidth\": 2}, \"yaxis\": {\"automargin\": true, \"gridcolor\": \"white\", \"linecolor\": \"white\", \"ticks\": \"\", \"title\": {\"standoff\": 15}, \"zerolinecolor\": \"white\", \"zerolinewidth\": 2}}}, \"title\": {\"text\": \"epoch loss per dataset\"}, \"xaxis\": {\"anchor\": \"y\", \"domain\": [0.0, 1.0], \"title\": {\"text\": \"epoch\"}}, \"yaxis\": {\"anchor\": \"x\", \"domain\": [0.0, 1.0], \"title\": {\"text\": \"loss\"}}},\n",
              "                        {\"responsive\": true}\n",
              "                    ).then(function(){\n",
              "                            \n",
              "var gd = document.getElementById('dca10a32-ab35-4b28-b7fc-ce4bd4dc9139');\n",
              "var x = new MutationObserver(function (mutations, observer) {{\n",
              "        var display = window.getComputedStyle(gd).display;\n",
              "        if (!display || display === 'none') {{\n",
              "            console.log([gd, 'removed!']);\n",
              "            Plotly.purge(gd);\n",
              "            observer.disconnect();\n",
              "        }}\n",
              "}});\n",
              "\n",
              "// Listen for the removal of the full notebook cells\n",
              "var notebookContainer = gd.closest('#notebook-container');\n",
              "if (notebookContainer) {{\n",
              "    x.observe(notebookContainer, {childList: true});\n",
              "}}\n",
              "\n",
              "// Listen for the clearing of the current output cell\n",
              "var outputEl = gd.closest('.output');\n",
              "if (outputEl) {{\n",
              "    x.observe(outputEl, {childList: true});\n",
              "}}\n",
              "\n",
              "                        })\n",
              "                };\n",
              "                \n",
              "            </script>\n",
              "        </div>\n",
              "</body>\n",
              "</html>"
            ]
          },
          "metadata": {
            "tags": []
          }
        }
      ]
    },
    {
      "cell_type": "code",
      "metadata": {
        "colab": {
          "base_uri": "https://localhost:8080/"
        },
        "id": "tG8rrN9cqwUD",
        "outputId": "9edbac9f-4c90-4070-c245-06a1a5784c1f"
      },
      "source": [
        "eval_model(model, loss_fn, sets=['test'])"
      ],
      "execution_count": null,
      "outputs": [
        {
          "output_type": "execute_result",
          "data": {
            "text/plain": [
              "{'test': {'accuracy': 0.5527638190954773, 'loss': 0.6909364628791809}}"
            ]
          },
          "metadata": {
            "tags": []
          },
          "execution_count": 35
        }
      ]
    },
    {
      "cell_type": "markdown",
      "metadata": {
        "id": "HJD-3WQsLPWY"
      },
      "source": [
        "# Naive Bayes"
      ]
    },
    {
      "cell_type": "code",
      "metadata": {
        "id": "2dQ6YDtsLZZi"
      },
      "source": [
        "from sklearn.naive_bayes import GaussianNB\r\n",
        "\r\n",
        "gnb = GaussianNB()"
      ],
      "execution_count": null,
      "outputs": []
    },
    {
      "cell_type": "code",
      "metadata": {
        "id": "Ny6iF_ZpMkRr"
      },
      "source": [
        "X_train = train_features.cpu().detach().numpy()\r\n",
        "X_test = test_features.cpu().detach().numpy()\r\n",
        "y_train = train_labels.cpu().detach().numpy()\r\n",
        "y_test = test_labels.cpu().detach().numpy()"
      ],
      "execution_count": null,
      "outputs": []
    },
    {
      "cell_type": "code",
      "metadata": {
        "colab": {
          "base_uri": "https://localhost:8080/"
        },
        "id": "KxaE5hcNMP8m",
        "outputId": "c8d687af-e8fb-4e71-dd1b-b861f15866cf"
      },
      "source": [
        "y_pred = gnb.fit(X_train, y_train).predict(X_test)\r\n",
        "print(\"Number of mislabeled points out of a total %d points : %d\" % (X_test.shape[0], (y_test != y_pred).sum()))"
      ],
      "execution_count": null,
      "outputs": [
        {
          "output_type": "stream",
          "text": [
            "Number of mislabeled points out of a total 199 points : 96\n"
          ],
          "name": "stdout"
        }
      ]
    },
    {
      "cell_type": "markdown",
      "metadata": {
        "id": "SHbQuJuGOl-O"
      },
      "source": [
        "# LSTM"
      ]
    },
    {
      "cell_type": "code",
      "metadata": {
        "id": "e94TuNR57T1E"
      },
      "source": [
        "from torchtext import data    "
      ],
      "execution_count": 142,
      "outputs": []
    },
    {
      "cell_type": "code",
      "metadata": {
        "id": "0G6nLURXKI53"
      },
      "source": [
        "df = pd.read_csv(\"NLP-final-project/Data/Combined_News_DJIA.csv\")"
      ],
      "execution_count": 289,
      "outputs": []
    },
    {
      "cell_type": "code",
      "metadata": {
        "colab": {
          "base_uri": "https://localhost:8080/",
          "height": 204
        },
        "id": "fSokoMNSKI6i",
        "outputId": "62d7afd5-ded0-41e1-dc02-137fbd673ce8"
      },
      "source": [
        "df = df.drop(['Date'], axis=1)\r\n",
        "tops = df.columns[1:]\r\n",
        "\r\n",
        "df['headline'] = df[tops[:1]].apply(lambda row:'.'.join(row.values.astype(str)), axis=1)\r\n",
        "df = df.drop(tops, axis=1)\r\n",
        "\r\n",
        "df['label'] = df['Label']\r\n",
        "df = df.drop(['Label'], axis=1)\r\n",
        "\r\n",
        "# remove special characters\r\n",
        "df = df.replace('b\\\"|b\\'|\\\\\\\\|\\\\\\\"', '', regex=True)\r\n",
        "\r\n",
        "df.head()"
      ],
      "execution_count": 290,
      "outputs": [
        {
          "output_type": "execute_result",
          "data": {
            "text/html": [
              "<div>\n",
              "<style scoped>\n",
              "    .dataframe tbody tr th:only-of-type {\n",
              "        vertical-align: middle;\n",
              "    }\n",
              "\n",
              "    .dataframe tbody tr th {\n",
              "        vertical-align: top;\n",
              "    }\n",
              "\n",
              "    .dataframe thead th {\n",
              "        text-align: right;\n",
              "    }\n",
              "</style>\n",
              "<table border=\"1\" class=\"dataframe\">\n",
              "  <thead>\n",
              "    <tr style=\"text-align: right;\">\n",
              "      <th></th>\n",
              "      <th>headline</th>\n",
              "      <th>label</th>\n",
              "    </tr>\n",
              "  </thead>\n",
              "  <tbody>\n",
              "    <tr>\n",
              "      <th>0</th>\n",
              "      <td>Georgia 'downs two Russian warplanes' as count...</td>\n",
              "      <td>0</td>\n",
              "    </tr>\n",
              "    <tr>\n",
              "      <th>1</th>\n",
              "      <td>Why wont America and Nato help us? If they won...</td>\n",
              "      <td>1</td>\n",
              "    </tr>\n",
              "    <tr>\n",
              "      <th>2</th>\n",
              "      <td>Remember that adorable 9-year-old who sang at ...</td>\n",
              "      <td>0</td>\n",
              "    </tr>\n",
              "    <tr>\n",
              "      <th>3</th>\n",
              "      <td>U.S. refuses Israel weapons to attack Iran: r...</td>\n",
              "      <td>0</td>\n",
              "    </tr>\n",
              "    <tr>\n",
              "      <th>4</th>\n",
              "      <td>All the experts admit that we should legalise ...</td>\n",
              "      <td>1</td>\n",
              "    </tr>\n",
              "  </tbody>\n",
              "</table>\n",
              "</div>"
            ],
            "text/plain": [
              "                                            headline  label\n",
              "0  Georgia 'downs two Russian warplanes' as count...      0\n",
              "1  Why wont America and Nato help us? If they won...      1\n",
              "2  Remember that adorable 9-year-old who sang at ...      0\n",
              "3   U.S. refuses Israel weapons to attack Iran: r...      0\n",
              "4  All the experts admit that we should legalise ...      1"
            ]
          },
          "metadata": {
            "tags": []
          },
          "execution_count": 290
        }
      ]
    },
    {
      "cell_type": "code",
      "metadata": {
        "id": "wqLrfyS2OojU"
      },
      "source": [
        "df.to_csv(\"headlines.csv\")"
      ],
      "execution_count": 292,
      "outputs": []
    },
    {
      "cell_type": "code",
      "metadata": {
        "id": "PzmbmL9f8NTB"
      },
      "source": [
        "TEXT = data.Field(tokenize='spacy',batch_first=True,include_lengths=True)\r\n",
        "LABEL = data.LabelField(dtype = torch.float,batch_first=True)"
      ],
      "execution_count": 365,
      "outputs": []
    },
    {
      "cell_type": "code",
      "metadata": {
        "id": "q_klof8G8SvS"
      },
      "source": [
        "fields = [(None, None), ('headline', TEXT), ('label', LABEL)]"
      ],
      "execution_count": 366,
      "outputs": []
    },
    {
      "cell_type": "code",
      "metadata": {
        "id": "3wwSh8VrKUJe"
      },
      "source": [
        "training_data = data.TabularDataset(path=\"headlines.csv\", format='csv', fields=fields, skip_header=True)"
      ],
      "execution_count": 367,
      "outputs": []
    },
    {
      "cell_type": "code",
      "metadata": {
        "colab": {
          "base_uri": "https://localhost:8080/"
        },
        "id": "L6w_Y6nON1O_",
        "outputId": "1680b659-865a-4c45-b4d8-a07b17c87a42"
      },
      "source": [
        "vars(training_data.examples[0])"
      ],
      "execution_count": 369,
      "outputs": [
        {
          "output_type": "execute_result",
          "data": {
            "text/plain": [
              "{'headline': ['Georgia',\n",
              "  \"'\",\n",
              "  'downs',\n",
              "  'two',\n",
              "  'Russian',\n",
              "  'warplanes',\n",
              "  \"'\",\n",
              "  'as',\n",
              "  'countries',\n",
              "  'move',\n",
              "  'to',\n",
              "  'brink',\n",
              "  'of',\n",
              "  'war'],\n",
              " 'label': '0'}"
            ]
          },
          "metadata": {
            "tags": []
          },
          "execution_count": 369
        }
      ]
    },
    {
      "cell_type": "code",
      "metadata": {
        "id": "5maPnYk982hB"
      },
      "source": [
        "train_data, valid_data = training_data.split(split_ratio=0.7)"
      ],
      "execution_count": 370,
      "outputs": []
    },
    {
      "cell_type": "code",
      "metadata": {
        "id": "mGzzzvOE9BfR"
      },
      "source": [
        "TEXT.build_vocab(train_data,min_freq=3,vectors = \"glove.6B.100d\")  \r\n",
        "LABEL.build_vocab(train_data)"
      ],
      "execution_count": 371,
      "outputs": []
    },
    {
      "cell_type": "code",
      "metadata": {
        "colab": {
          "base_uri": "https://localhost:8080/"
        },
        "id": "Oemvk4Hj-srG",
        "outputId": "24be936b-1e3f-4dc3-b364-3ee57009f9ab"
      },
      "source": [
        "#No. of unique tokens in text\r\n",
        "print(\"Size of TEXT vocabulary:\",len(TEXT.vocab))\r\n",
        "\r\n",
        "#No. of unique tokens in label\r\n",
        "print(\"Size of LABEL vocabulary:\",len(LABEL.vocab))\r\n",
        "\r\n",
        "#Commonly used words\r\n",
        "print(TEXT.vocab.freqs.most_common(10))  \r\n",
        "\r\n",
        "#Word dictionary\r\n",
        "print(TEXT.vocab.stoi)\r\n",
        "print(LABEL.vocab.itos)"
      ],
      "execution_count": 372,
      "outputs": [
        {
          "output_type": "stream",
          "text": [
            "Size of TEXT vocabulary: 1871\n",
            "Size of LABEL vocabulary: 2\n",
            "[('the', 910), ('to', 858), ('.', 797), (',', 786), ('of', 706), ('in', 616), ('a', 507), (\"'\", 482), ('and', 440), ('-', 416)]\n",
            "defaultdict(<function _default_unk_index at 0x7f5da0b1ed08>, {'<unk>': 0, '<pad>': 1, 'the': 2, 'to': 3, '.': 4, ',': 5, 'of': 6, 'in': 7, 'a': 8, \"'\": 9, 'and': 10, '-': 11, 'for': 12, 'is': 13, ':': 14, \"'s\": 15, 'that': 16, 'on': 17, 'The': 18, 'has': 19, 'by': 20, 'from': 21, 'with': 22, 'as': 23, 'it': 24, 'be': 25, 'have': 26, 'are': 27, 'an': 28, 'was': 29, 'who': 30, 'their': 31, 'will': 32, 'A': 33, 'at': 34, 'after': 35, ' ': 36, 'been': 37, 'not': 38, 'US': 39, 'his': 40, 'they': 41, ')': 42, '$': 43, '(': 44, 'all': 45, 'over': 46, 'its': 47, 'government': 48, 'says': 49, 'world': 50, 'he': 51, 'people': 52, 'I': 53, ';': 54, '?': 55, 'old': 56, 'than': 57, 'up': 58, 'years': 59, 'about': 60, 'out': 61, 'police': 62, 'into': 63, '%': 64, 'them': 65, 'Israel': 66, 'first': 67, 'do': 68, 'new': 69, 'against': 70, 'off': 71, '...': 72, 'million': 73, 'said': 74, '!': 75, 'In': 76, 'Saudi': 77, 'down': 78, 'more': 79, 'one': 80, 'China': 81, 'World': 82, 'being': 83, 'law': 84, 'or': 85, 'this': 86, 'New': 87, 'North': 88, 'no': 89, 'found': 90, 'year': 91, 'Korea': 92, 'UK': 93, \"n't\": 94, 'we': 95, 'were': 96, 'Chinese': 97, 'U.S.': 98, 'now': 99, 'Canada': 100, 'France': 101, 'Internet': 102, 'It': 103, 'UN': 104, 'because': 105, 'drug': 106, 'her': 107, 'British': 108, 'but': 109, 'country': 110, 'which': 111, 'would': 112, 'Russian': 113, 'Snowden': 114, 'death': 115, 'so': 116, 'you': 117, 'Russia': 118, 'could': 119, 'just': 120, 'killed': 121, 'Iran': 122, 'Israeli': 123, 'war': 124, 'woman': 125, 'had': 126, 'him': 127, 'if': 128, 'life': 129, 'only': 130, 'should': 131, 'when': 132, 'Germany': 133, 'India': 134, 'South': 135, 'nuclear': 136, 'After': 137, 'Australian': 138, 'Japan': 139, 'To': 140, 'days': 141, 'other': 142, 'public': 143, 'say': 144, 'time': 145, 'London': 146, 'human': 147, 'make': 148, 'man': 149, 'military': 150, 'rights': 151, '&': 152, 'can': 153, 'under': 154, 'use': 155, 'American': 156, 'German': 157, 'Police': 158, 'children': 159, 'money': 160, 'protesters': 161, 'women': 162, '--': 163, 'Australia': 164, 'NSA': 165, 'Pirate': 166, 'WikiLeaks': 167, 'amp': 168, 'any': 169, 'court': 170, 'internet': 171, 'must': 172, 'right': 173, 'two': 174, '|': 175, '10': 176, 'European': 177, 'United': 178, 'We': 179, 'how': 180, 'news': 181, 'oil': 182, 'our': 183, 'prison': 184, 'sex': 185, 'what': 186, 'Brazil': 187, 'ISIS': 188, 'Iraq': 189, 'Mexico': 190, 'attack': 191, 'company': 192, 'drugs': 193, 'end': 194, 'former': 195, 'home': 196, 'many': 197, 'most': 198, 'power': 199, 'president': 200, 'see': 201, 'workers': 202, 'Arabia': 203, 'BBC': 204, 'Bay': 205, 'Canadian': 206, 'David': 207, 'EU': 208, 'Gaza': 209, 'He': 210, 'Wikileaks': 211, 'bans': 212, 'case': 213, 'child': 214, 'city': 215, 'dead': 216, 'free': 217, 'girl': 218, 'global': 219, 'protest': 220, 'support': 221, 'system': 222, 'tax': 223, 'there': 224, 'video': 225, 'An': 226, 'Cameron': 227, 'From': 228, 'Mexican': 229, 'President': 230, 'That': 231, 'This': 232, '[': 233, ']': 234, 'arrested': 235, 'ban': 236, 'before': 237, 'calls': 238, 'crime': 239, 'died': 240, 'give': 241, 'given': 242, 'know': 243, 'least': 244, 'making': 245, 'mass': 246, 'men': 247, 'official': 248, 'officials': 249, 'pay': 250, 'state': 251, 'three': 252, 'torture': 253, 'water': 254, 'weapons': 255, '/': 256, 'Bill': 257, 'Cup': 258, 'Dutch': 259, 'Government': 260, 'Kim': 261, 'More': 262, 'NASA': 263, 'News': 264, 'No': 265, 'TV': 266, 'banned': 267, 'biggest': 268, 'corruption': 269, 'data': 270, 'day': 271, 'deal': 272, 'during': 273, 'family': 274, 'forced': 275, 'get': 276, 'group': 277, 'help': 278, 'hours': 279, 'illegal': 280, 'last': 281, 'like': 282, 'report': 283, 'secret': 284, 'she': 285, 'users': 286, 'without': 287, '\\n': 288, '100': 289, 'Egypt': 290, 'Indian': 291, 'Man': 292, 'Muslim': 293, 'State': 294, 'Turkish': 295, 'War': 296, 'Zealand': 297, 'abuse': 298, 'across': 299, 'almost': 300, 'between': 301, 'chief': 302, 'face': 303, 'full': 304, 'kill': 305, 'minister': 306, 'own': 307, 'population': 308, 'put': 309, 'rape': 310, 'same': 311, 'sentenced': 312, 'thousands': 313, 'too': 314, 'us': 315, 'want': 316, 'while': 317, 'young': 318, '1': 319, 'Assange': 320, 'Facebook': 321, 'For': 322, 'If': 323, 'International': 324, 'Iranian': 325, 'Is': 326, 'Islamic': 327, 'Japanese': 328, 'Korean': 329, 'On': 330, 'Pacific': 331, 'Palestinian': 332, 'Parliament': 333, 'Putin': 334, 'Syria': 335, 'billion': 336, 'cancer': 337, 'change': 338, 'did': 339, 'documents': 340, 'even': 341, 'every': 342, 'food': 343, 'go': 344, 'history': 345, 'including': 346, 'laws': 347, 'made': 348, 'me': 349, 'next': 350, 'others': 351, 'protect': 352, 'rules': 353, 'since': 354, 'strikes': 355, 'students': 356, 'then': 357, 'today': 358, 'trade': 359, 'way': 360, 'work': 361, \"'ve\": 362, '20': 363, '3': 364, 'Al': 365, 'Britain': 366, 'Edward': 367, 'Europe': 368, 'French': 369, 'Google': 370, 'Jewish': 371, 'Just': 372, 'Not': 373, 'Now': 374, 'Obama': 375, 'Pakistan': 376, 'Rights': 377, 'Sweden': 378, 'TPP': 379, 'Ukraine': 380, 'What': 381, 'anti': 382, 'around': 383, 'arrest': 384, 'away': 385, 'back': 386, 'behind': 387, 'come': 388, 'community': 389, 'cut': 390, 'election': 391, 'far': 392, 'forces': 393, 'groups': 394, 'international': 395, 'marijuana': 396, 'nt': 397, 'online': 398, 'part': 399, 'party': 400, 'raped': 401, 'run': 402, 'security': 403, 'seen': 404, 'shot': 405, 'soldiers': 406, 'surveillance': 407, 'times': 408, 'top': 409, 'turn': 410, 'your': 411, \"'re\": 412, '30': 413, '5': 414, '50': 415, '6': 416, 'Afghanistan': 417, 'All': 418, 'Americans': 419, 'Bush': 420, 'CIA': 421, 'Church': 422, 'Court': 423, 'Cuba': 424, 'Guardian': 425, 'Libya': 426, 'Mars': 427, 'Minister': 428, 'Monday': 429, 'Moscow': 430, 'Murdoch': 431, 'Party': 432, 'People': 433, 'Pope': 434, 'Prime': 435, 'States': 436, 'according': 437, 'activist': 438, 'ago': 439, 'animals': 440, 'become': 441, 'bill': 442, 'called': 443, 'citizens': 444, 'cost': 445, 'crisis': 446, 'ever': 447, 'fight': 448, 'five': 449, 'force': 450, 'foreign': 451, 'freedom': 452, 'gets': 453, 'going': 454, 'hard': 455, 'information': 456, 'intelligence': 457, 'jail': 458, 'legal': 459, 'lives': 460, 'long': 461, 'loses': 462, 'm': 463, 'media': 464, 'months': 465, 'my': 466, 'need': 467, 'never': 468, 'political': 469, 'private': 470, 'program': 471, 'protests': 472, 'record': 473, 'released': 474, 'reveals': 475, 'seven': 476, 'shooting': 477, 'some': 478, 'take': 479, 'think': 480, 'those': 481, 'told': 482, 'trying': 483, 'warning': 484, 'week': 485, 'where': 486, '7': 487, 'Africa': 488, 'African': 489, 'Argentina': 490, 'Bank': 491, 'Guantanamo': 492, 'Human': 493, 'Iceland': 494, 'Italian': 495, 'Italy': 496, 'Julian': 497, 'Of': 498, 'PM': 499, 'Reddit': 500, 'Report': 501, 'Scientology': 502, 'They': 503, 'Turkey': 504, 'U.N.': 505, 'Union': 506, 'West': 507, 'Years': 508, 'You': 509, 'anyone': 510, 'becomes': 511, 'building': 512, 'charged': 513, 'charges': 514, 'claims': 515, 'climate': 516, 'close': 517, 'companies': 518, 'countries': 519, 'coverage': 520, 'declares': 521, 'evidence': 522, 'expected': 523, 'falls': 524, 'financial': 525, 'finds': 526, 'fire': 527, 'gay': 528, 'health': 529, 'held': 530, 'judge': 531, 'killing': 532, 'largest': 533, 'leaders': 534, 'let': 535, 'live': 536, 'may': 537, 'member': 538, 'officers': 539, 'passes': 540, 'per': 541, 'person': 542, 'sent': 543, 'show': 544, 'shut': 545, 'site': 546, 'six': 547, 'speech': 548, 'started': 549, 'streets': 550, 'taken': 551, 'takes': 552, 'terror': 553, 'used': 554, 'votes': 555, 'win': 556, 'within': 557, '10,000': 558, '12': 559, '2012': 560, '4': 561, '90': 562, 'Afghan': 563, 'America': 564, 'And': 565, 'Arab': 566, 'As': 567, 'Blair': 568, 'Dubai': 569, 'Earthquake': 570, 'First': 571, 'George': 572, 'Great': 573, 'Jazeera': 574, 'Jong': 575, 'M': 576, 'Paris': 577, 'Qatar': 578, 'Says': 579, 'Swedish': 580, 'Syrian': 581, 'Today': 582, 'Twitter': 583, 'Will': 584, 'access': 585, 'account': 586, 'accounts': 587, 'accused': 588, 'aid': 589, 'born': 590, 'boy': 591, 'buy': 592, 'calling': 593, 'censorship': 594, 'civilians': 595, 'coal': 596, 'combat': 597, 'computer': 598, 'copyright': 599, 'crimes': 600, 'damage': 601, 'deaths': 602, 'destroy': 603, 'die': 604, 'doing': 605, 'education': 606, 'exposing': 607, 'faces': 608, 'female': 609, 'founder': 610, 'good': 611, 'half': 612, 'hit': 613, 'huge': 614, 'jailed': 615, 'journalists': 616, 'led': 617, 'marriage': 618, 'much': 619, 'murder': 620, 'murdered': 621, 'night': 622, 'nothing': 623, 'open': 624, 'outside': 625, 'percent': 626, 'policy': 627, 'post': 628, 'potential': 629, 'privacy': 630, 'push': 631, 'reports': 632, 'sale': 633, 'saw': 634, 'school': 635, 'schools': 636, 'ship': 637, 'showing': 638, 'shows': 639, 'sign': 640, 'staff': 641, 'story': 642, 'talks': 643, 'terrorists': 644, 'things': 645, 'threatens': 646, 'through': 647, 'troops': 648, 'using': 649, 'wants': 650, 'warned': 651, 'well': 652, 'worlds': 653, 'worst': 654, '13': 655, '18': 656, '2': 657, '300': 658, '500': 659, '70': 660, '9': 661, '9/11': 662, 'Air': 663, 'At': 664, 'Bans': 665, 'Berlusconi': 666, 'By': 667, 'Cairo': 668, 'Child': 669, 'Christian': 670, 'City': 671, 'Dead': 672, 'Drug': 673, 'Earth': 674, 'England': 675, 'English': 676, 'Govt': 677, 'Ireland': 678, 'Monsanto': 679, 'Nations': 680, 'One': 681, 'Partnership': 682, 'There': 683, 'Tony': 684, 'Trans': 685, 'Turing': 686, 'Up': 687, 'Vatican': 688, 'Video': 689, 'Why': 690, 'With': 691, 'admits': 692, 'air': 693, 'allowing': 694, 'am': 695, 'among': 696, 'announced': 697, 'announces': 698, 'area': 699, 'attacks': 700, 'attention': 701, 'bank': 702, 'battle': 703, 'block': 704, 'body': 705, 'bomb': 706, 'cameras': 707, 'cannabis': 708, 'conflict': 709, 'considering': 710, 'denied': 711, 'disaster': 712, 'discovered': 713, 'dollar': 714, 'due': 715, 'earthquake': 716, 'eight': 717, 'ends': 718, 'energy': 719, 'enough': 720, 'environment': 721, 'failed': 722, 'fear': 723, 'federal': 724, 'final': 725, 'footage': 726, 'fund': 727, 'govt': 728, 'guilty': 729, 'here': 730, 'hour': 731, 'hundreds': 732, 'industry': 733, 'injured': 734, 'inside': 735, 'instead': 736, 'ivory': 737, 'kept': 738, 'latest': 739, 'launch': 740, 'leader': 741, 'leave': 742, 'left': 743, 'legalization': 744, 'legislation': 745, 'letter': 746, 'major': 747, 'makes': 748, 'millions': 749, 'month': 750, 'nation': 751, 'near': 752, 'nearly': 753, 'number': 754, 'obtain': 755, 'officer': 756, 'pics': 757, 'planning': 758, 'plans': 759, 'possible': 760, 'proposed': 761, 'raid': 762, 'rebels': 763, 'releases': 764, 'reporting': 765, 'reveal': 766, 'revealed': 767, 'rich': 768, 'risk': 769, 'sanctions': 770, 'save': 771, 'scandal': 772, 'scientists': 773, 'serious': 774, 'service': 775, 'set': 776, 'single': 777, 'start': 778, 'still': 779, 'suffering': 780, 'supply': 781, 'taking': 782, 'team': 783, 'these': 784, 'trial': 785, 'tried': 786, 'uses': 787, 'victim': 788, 'violence': 789, 'vote': 790, 'weapon': 791, '11': 792, '17': 793, '2022': 794, '35': 795, '40': 796, '60': 797, '8': 798, 'ACTA': 799, 'Amazon': 800, 'Army': 801, 'Barrier': 802, 'Big': 803, 'But': 804, 'CEO': 805, 'Calls': 806, 'Do': 807, 'Egyptian': 808, 'Energy': 809, 'FBI': 810, 'Found': 811, 'Freedom': 812, 'Georgia': 813, 'Girl': 814, 'Greece': 815, 'Haiti': 816, 'Have': 817, 'How': 818, 'IS': 819, 'ISPs': 820, 'Iraqi': 821, 'Irish': 822, 'Its': 823, 'Marijuana': 824, 'Nazi': 825, 'Norway': 826, 'Norwegian': 827, 'Over': 828, 'Pakistani': 829, 'Palestinians': 830, 'Qaeda': 831, 'Scientists': 832, 'Senate': 833, 'Soviet': 834, 'Spain': 835, 'Square': 836, 'Sunday': 837, 'Time': 838, 'Times': 839, 'Top': 840, 'Tuesday': 841, 'Two': 842, 'Who': 843, 'YouTube': 844, 'actions': 845, 'actually': 846, 'again': 847, 'agreement': 848, 'alleged': 849, 'allow': 850, 'also': 851, 'appears': 852, 'approved': 853, 'arms': 854, 'army': 855, 'bad': 856, 'begin': 857, 'bid': 858, 'blockade': 859, 'border': 860, 'boycott': 861, 'bring': 862, 'camera': 863, 'campaign': 864, 'career': 865, 'carrying': 866, 'caught': 867, 'cent': 868, 'chemical': 869, 'claim': 870, 'closed': 871, 'coming': 872, 'commercial': 873, 'conditions': 874, 'confirmed': 875, 'contract': 876, 'convicted': 877, 'countrys': 878, 'criminal': 879, 'daughter': 880, 'decision': 881, 'defense': 882, 'demand': 883, 'despite': 884, 'destroys': 885, 'details': 886, 'dies': 887, 'disease': 888, 'does': 889, 'donations': 890, 'draft': 891, 'drive': 892, 'drop': 893, 'e': 894, 'elephants': 895, 'embassy': 896, 'entire': 897, 'everyone': 898, 'exchange': 899, 'expose': 900, 'finally': 901, 'find': 902, 'fine': 903, 'fired': 904, 'following': 905, 'four': 906, 'giant': 907, 'giving': 908, 'governments': 909, 'having': 910, 'heavy': 911, 'herself': 912, 'high': 913, 'hold': 914, 'host': 915, 'hostage': 916, 'illegally': 917, 'images': 918, 'investigation': 919, 'issued': 920, 'job': 921, 'justice': 922, 'keep': 923, 'known': 924, 'labor': 925, 'launched': 926, 'leaked': 927, 'light': 928, 'little': 929, 'living': 930, 'marine': 931, 'miles': 932, 'mine': 933, 'mining': 934, 'move': 935, 'name': 936, 'negotiations': 937, 'non': 938, 'officially': 939, 'ordered': 940, 'outbreak': 941, 'paid': 942, 'passed': 943, 'personal': 944, 'phone': 945, 'plan': 946, 'politicians': 947, 'pollution': 948, 'porn': 949, 'powerful': 950, 'press': 951, 'project': 952, 'provide': 953, 'purchase': 954, 'radio': 955, 'rare': 956, 're': 957, 'real': 958, 'received': 959, 'refused': 960, 'regime': 961, 'religious': 962, 'remove': 963, 'rendition': 964, 'reported': 965, 'result': 966, 'ruled': 967, 'search': 968, 'secretly': 969, 'senior': 970, 'sentence': 971, 'sexual': 972, 'sites': 973, 'space': 974, 'spill': 975, 'stand': 976, 'stop': 977, 'suicide': 978, 'threat': 979, 'thrown': 980, 'tourists': 981, 'traffic': 982, 'train': 983, 'treatment': 984, 'try': 985, 'value': 986, 'violate': 987, 'voting': 988, 'waters': 989, 'wealth': 990, 'website': 991, 'weeks': 992, 'went': 993, 'whistleblower': 994, 'wins': 995, 'wrong': 996, 'youth': 997, \"'ll\": 998, '*': 999, '+': 1000, '120': 1001, '14': 1002, '15': 1003, '15-year': 1004, '16': 1005, '2,000': 1006, '2000': 1007, '2010': 1008, '2014': 1009, '73': 1010, 'AIDS': 1011, 'Abbott': 1012, 'Act': 1013, 'Airport': 1014, 'Alan': 1015, 'Amsterdam': 1016, 'Anti': 1017, 'Apple': 1018, 'Beijing': 1019, 'Berlin': 1020, 'Brazilian': 1021, 'CNN': 1022, 'Can': 1023, 'Climate': 1024, 'Denmark': 1025, 'Dotcom': 1026, 'Embassy': 1027, 'Five': 1028, 'Francis': 1029, 'Free': 1030, 'Friday': 1031, 'Fukushima': 1032, 'Gates': 1033, 'Got': 1034, 'Greek': 1035, 'Greeks': 1036, 'HIV': 1037, 'Hamas': 1038, 'Has': 1039, 'High': 1040, 'House': 1041, 'Illegal': 1042, 'Indonesia': 1043, 'Islamist': 1044, 'James': 1045, 'Jerusalem': 1046, 'Jews': 1047, 'Judge': 1048, 'Kenya': 1049, 'LGBT': 1050, 'Last': 1051, 'Law': 1052, 'Live': 1053, 'MP': 1054, 'March': 1055, 'Martin': 1056, 'Mastercard': 1057, 'Megaupload': 1058, 'Military': 1059, 'Muslims': 1060, 'Nearly': 1061, 'Nobel': 1062, 'Official': 1063, 'Olympics': 1064, 'Our': 1065, 'Out': 1066, 'Poachers': 1067, 'Professor': 1068, 'Reef': 1069, 'Richard': 1070, 'Rio': 1071, 'Rupert': 1072, 'Scotland': 1073, 'Sea': 1074, 'Secret': 1075, 'Since': 1076, 'So': 1077, 'Soldier': 1078, 'Space': 1079, 'Stephen': 1080, 'Stop': 1081, 'Street': 1082, 'Supreme': 1083, 'Tahrir': 1084, 'Thursday': 1085, 'Tor': 1086, 'Trade': 1087, 'U.K.': 1088, 'USD': 1089, 'University': 1090, 'Western': 1091, 'While': 1092, 'Year': 1093, 'Yemen': 1094, 'Yes': 1095, 'action': 1096, 'admitted': 1097, 'adults': 1098, 'ahead': 1099, 'airline': 1100, 'alive': 1101, 'allows': 1102, 'alone': 1103, 'already': 1104, 'amid': 1105, 'ancient': 1106, 'another': 1107, 'anything': 1108, 'asked': 1109, 'authorities': 1110, 'average': 1111, 'babies': 1112, 'banks': 1113, 'banning': 1114, 'beginning': 1115, 'believed': 1116, 'best': 1117, 'big': 1118, 'billionaire': 1119, 'blocked': 1120, 'blood': 1121, 'both': 1122, 'break': 1123, 'broke': 1124, 'bus': 1125, 'business': 1126, 'buying': 1127, 'cabinet': 1128, 'call': 1129, 'camps': 1130, 'capital': 1131, 'car': 1132, 'card': 1133, 'cars': 1134, 'charity': 1135, 'claiming': 1136, 'condemned': 1137, 'control': 1138, 'controversial': 1139, 'courts': 1140, 'created': 1141, 'defend': 1142, 'demonstrations': 1143, 'destroyed': 1144, 'destruction': 1145, 'digital': 1146, 'else': 1147, 'emergency': 1148, 'enforcement': 1149, 'extraordinary': 1150, 'families': 1151, 'faster': 1152, 'fighters': 1153, 'fighting': 1154, 'figure': 1155, 'fined': 1156, 'forbidden': 1157, 'gave': 1158, 'getting': 1159, 'goes': 1160, 'greater': 1161, 'ground': 1162, 'gun': 1163, 'hacking': 1164, 'happening': 1165, 'head': 1166, 'helicopter': 1167, 'himself': 1168, 'historic': 1169, 'hits': 1170, 'homes': 1171, 'homosexuality': 1172, 'house': 1173, 'immediately': 1174, 'immigrant': 1175, 'improve': 1176, 'increase': 1177, 'increased': 1178, 'inquiry': 1179, 'interest': 1180, 'introduced': 1181, 'invasion': 1182, 'islands': 1183, 'issue': 1184, 'kidnapping': 1185, 'kids': 1186, 'kills': 1187, 'lashes': 1188, 'leaving': 1189, 'legalise': 1190, 'legalize': 1191, 'lifetime': 1192, 'links': 1193, 'local': 1194, 'longer': 1195, 'lost': 1196, 'low': 1197, 'magnitude': 1198, 'mandatory': 1199, 'market': 1200, 'marry': 1201, 'massive': 1202, 'material': 1203, 'medical': 1204, 'meeting': 1205, 'minutes': 1206, 'missing': 1207, 'movement': 1208, 'moving': 1209, 'music': 1210, 'names': 1211, 'nations': 1212, 'network': 1213, 'networks': 1214, 'newspaper': 1215, 'offered': 1216, 'offers': 1217, 'offshore': 1218, 'once': 1219, 'ones': 1220, 'ops': 1221, 'order': 1222, 'orders': 1223, 'organization': 1224, 'panel': 1225, 'parents': 1226, 'peace': 1227, 'photos': 1228, 'pictures': 1229, 'plants': 1230, 'poachers': 1231, 'poll': 1232, 'poor': 1233, 'possibly': 1234, 'pre': 1235, 'presidential': 1236, 'pressure': 1237, 'price': 1238, 'prices': 1239, 'prime': 1240, 'principles': 1241, 'pro': 1242, 'proof': 1243, 'property': 1244, 'publish': 1245, 'r': 1246, 'race': 1247, 'raised': 1248, 'reached': 1249, 'read': 1250, 'ready': 1251, 'refuses': 1252, 'relations': 1253, 'release': 1254, 'remains': 1255, 'residents': 1256, 'rest': 1257, 'rip': 1258, 'river': 1259, 'rule': 1260, 'ruling': 1261, 'safe': 1262, 'saved': 1263, 'saving': 1264, 'saying': 1265, 'scale': 1266, 'secretive': 1267, 'sell': 1268, 'send': 1269, 'serving': 1270, 'sexually': 1271, 'shuts': 1272, 'simply': 1273, 'slash': 1274, 'small': 1275, 'sniper': 1276, 'solar': 1277, 'soldier': 1278, 'someone': 1279, 'speed': 1280, 'spreading': 1281, 'spying': 1282, 'stands': 1283, 'strike': 1284, 'student': 1285, 'study': 1286, 'such': 1287, 'sues': 1288, 'survey': 1289, 'suspect': 1290, 'suspected': 1291, 'targets': 1292, 'teacher': 1293, 'terrorist': 1294, 'text': 1295, 'themselves': 1296, 'thought': 1297, 'took': 1298, 'toxic': 1299, 'true': 1300, 'trust': 1301, 'turned': 1302, 'twice': 1303, 'underage': 1304, 'unprecedented': 1305, 'until': 1306, 'very': 1307, 'victims': 1308, 'wait': 1309, 'warrant': 1310, 'whether': 1311, 'why': 1312, 'widespread': 1313, 'winning': 1314, 'wo': 1315, 'working': 1316, '  ': 1317, '..': 1318, '....': 1319, '1.8': 1320, '100,000': 1321, '1000': 1322, '180': 1323, '1st': 1324, '2009': 1325, '2013': 1326, '24': 1327, '25': 1328, '250,000': 1329, '3,000': 1330, '34': 1331, '40,000': 1332, '43': 1333, '63': 1334, '65': 1335, '75': 1336, 'Aboriginal': 1337, 'Aid': 1338, 'Anders': 1339, 'Anonymous': 1340, 'Anyone': 1341, 'Arabic': 1342, 'Armenian': 1343, 'Arrest': 1344, 'Arrested': 1345, 'Attack': 1346, 'Back': 1347, 'Ban': 1348, 'Banking': 1349, 'Before': 1350, 'Billionaire': 1351, 'BitTorrent': 1352, 'Bitcoin': 1353, 'CCTV': 1354, 'Canadians': 1355, 'Castro': 1356, 'Catholic': 1357, 'Children': 1358, 'Chile': 1359, 'Christmas': 1360, 'Committee': 1361, 'Congo': 1362, 'Corn': 1363, 'Council': 1364, 'Danish': 1365, 'Days': 1366, 'Dear': 1367, 'Death': 1368, 'Despite': 1369, 'Destroy': 1370, 'Does': 1371, 'Drugs': 1372, 'East': 1373, 'Ebola': 1374, 'Ecuador': 1375, 'Elephant': 1376, 'Emergency': 1377, 'Every': 1378, 'FIFA': 1379, 'Food': 1380, 'Foreign': 1381, 'G20': 1382, 'GCHQ': 1383, 'GDP': 1384, 'GM': 1385, 'Gadhafi': 1386, 'Help': 1387, 'Here': 1388, 'His': 1389, 'Home': 1390, 'Honduras': 1391, 'Hundreds': 1392, 'ISK': 1393, 'Idol': 1394, 'Il': 1395, 'Instead': 1396, 'Intellectual': 1397, 'Investigation': 1398, 'John': 1399, 'Kurds': 1400, 'Laden': 1401, 'Lanka': 1402, 'Leader': 1403, 'Leaked': 1404, 'Let': 1405, 'Manning': 1406, 'Mass': 1407, 'Massacre': 1408, 'May': 1409, 'Medical': 1410, 'Members': 1411, 'Merkel': 1412, 'Microsoft': 1413, 'Million': 1414, 'Ministry': 1415, 'Mission': 1416, 'Mohammed': 1417, 'Money': 1418, 'Mountains': 1419, 'Mugabe': 1420, 'Nato': 1421, 'Netherlands': 1422, 'Non': 1423, 'November': 1424, 'Ocean': 1425, 'Office': 1426, 'Oil': 1427, 'Old': 1428, 'Organization': 1429, 'Oslo': 1430, 'Palestine': 1431, 'Panama': 1432, 'Pentagon': 1433, 'Philippines': 1434, 'Picture': 1435, 'Politicians': 1436, 'Power': 1437, 'Press': 1438, 'Prize': 1439, 'Property': 1440, 'Protest': 1441, 'Qatars': 1442, 'Quebec': 1443, 'Rape': 1444, 'Red': 1445, 'Renewable': 1446, 'Reuters': 1447, 'Sarkozy': 1448, 'Scandal': 1449, 'Security': 1450, 'Shot': 1451, 'Some': 1452, 'Sri': 1453, 'Sudan': 1454, 'Sydney': 1455, 'TTIP': 1456, 'Tax': 1457, 'Thailand': 1458, 'Than': 1459, 'Then': 1460, 'These': 1461, 'Tibet': 1462, 'Too': 1463, 'Tourist': 1464, 'Tsunami': 1465, 'UNESCO': 1466, 'Vancouver': 1467, 'Visa': 1468, 'Vote': 1469, 'Way': 1470, 'Web': 1471, 'Wednesday': 1472, 'White': 1473, 'Workers': 1474, 'Worlds': 1475, 'Yahoo': 1476, 'York': 1477, 'able': 1478, 'accept': 1479, 'accidentally': 1480, 'act': 1481, 'added': 1482, 'agency': 1483, 'agrees': 1484, 'allowed': 1485, 'amounts': 1486, 'apologize': 1487, 'arresting': 1488, 'arrests': 1489, 'ask': 1490, 'authorized': 1491, 'available': 1492, 'bags': 1493, 'bear': 1494, 'becoming': 1495, 'began': 1496, 'belonging': 1497, 'below': 1498, 'benefit': 1499, 'better': 1500, 'beyond': 1501, 'bin': 1502, 'black': 1503, 'blacklist': 1504, 'blocks': 1505, 'board': 1506, 'bodies': 1507, 'books': 1508, 'bottom': 1509, 'brain': 1510, 'burning': 1511, 'campaigns': 1512, 'care': 1513, 'cartoon': 1514, 'carvings': 1515, 'casualties': 1516, 'caused': 1517, 'causing': 1518, 'cell': 1519, 'centers': 1520, 'charge': 1521, 'church': 1522, 'cities': 1523, 'civil': 1524, 'clean': 1525, 'clear': 1526, 'clothes': 1527, 'collapse': 1528, 'colleagues': 1529, 'complete': 1530, 'comply': 1531, 'computers': 1532, 'conference': 1533, 'consent': 1534, 'considered': 1535, 'consumers': 1536, 'containing': 1537, 'continued': 1538, 'couple': 1539, 'crackdown': 1540, 'crops': 1541, 'crucial': 1542, 'customers': 1543, 'cuts': 1544, 'daily': 1545, 'danger': 1546, 'debate': 1547, 'decades': 1548, 'decided': 1549, 'decriminalization': 1550, 'deep': 1551, 'defence': 1552, 'deleted': 1553, 'demanding': 1554, 'demands': 1555, 'democracy': 1556, 'deployed': 1557, 'destroying': 1558, 'detained': 1559, 'difference': 1560, 'diplomatic': 1561, 'direct': 1562, 'director': 1563, 'disappeared': 1564, 'discovery': 1565, 'distribution': 1566, 'doctor': 1567, 'dog': 1568, 'domestic': 1569, 'donate': 1570, 'done': 1571, 'drinking': 1572, 'driver': 1573, 'earlier': 1574, 'earth': 1575, 'eating': 1576, 'economy': 1577, 'effective': 1578, 'electric': 1579, 'electricity': 1580, 'elephant': 1581, 'email': 1582, 'emails': 1583, 'employees': 1584, 'entered': 1585, 'entertainment': 1586, 'ex': 1587, 'executed': 1588, 'executives': 1589, 'experts': 1590, 'explosion': 1591, 'exposed': 1592, 'extradition': 1593, 'eye': 1594, 'fact': 1595, 'failing': 1596, 'father': 1597, 'favour': 1598, 'fears': 1599, 'feed': 1600, 'feel': 1601, 'fights': 1602, 'film': 1603, 'finding': 1604, 'fires': 1605, 'firm': 1606, 'flight': 1607, 'fly': 1608, 'flying': 1609, 'football': 1610, 'forcing': 1611, 'foreigners': 1612, 'forests': 1613, 'forms': 1614, 'front': 1615, 'fucking': 1616, 'fundamental': 1617, 'future': 1618, 'gas': 1619, 'gives': 1620, 'globe': 1621, 'gold': 1622, 'grave': 1623, 'great': 1624, 'green': 1625, 'grenade': 1626, 'hack': 1627, 'hacked': 1628, 'hands': 1629, 'harder': 1630, 'hate': 1631, 'haul': 1632, 'heads': 1633, 'hidden': 1634, 'higher': 1635, 'homeless': 1636, 'homosexual': 1637, 'honor': 1638, 'hospitals': 1639, 'humanitarian': 1640, 'hypocrisy': 1641, 'ill': 1642, 'immediate': 1643, 'impact': 1644, 'important': 1645, 'imprisoned': 1646, 'income': 1647, 'infected': 1648, 'insane': 1649, 'introduce': 1650, 'investment': 1651, 'journalist': 1652, 'keeps': 1653, 'kg': 1654, 'kidnapped': 1655, 'landmark': 1656, 'lands': 1657, 'launches': 1658, 'lawyer': 1659, 'learn': 1660, 'level': 1661, 'levels': 1662, 'lines': 1663, 'link': 1664, 'linked': 1665, 'lion': 1666, 'list': 1667, 'look': 1668, 'losing': 1669, 'loved': 1670, 'lower': 1671, 'lowest': 1672, 'mail': 1673, 'majority': 1674, 'male': 1675, 'markets': 1676, 'massacre': 1677, 'matter': 1678, 'mayor': 1679, 'means': 1680, 'measures': 1681, 'meetings': 1682, 'membership': 1683, 'memory': 1684, 'mention': 1685, 'migrants': 1686, 'missile': 1687, 'mission': 1688, 'mobile': 1689, 'moment': 1690, 'mother': 1691, 'national': 1692, 'navy': 1693, 'needs': 1694, 'northern': 1695, 'obtained': 1696, 'ocean': 1697, 'offensive': 1698, 'opening': 1699, 'operation': 1700, 'opportunity': 1701, 'opposing': 1702, 'opposition': 1703, 'outlets': 1704, 'owner': 1705, 'panels': 1706, 'parliament': 1707, 'particles': 1708, 'pass': 1709, 'passengers': 1710, 'past': 1711, 'patients': 1712, 'paying': 1713, 'peaceful': 1714, 'pesticides': 1715, 'picture': 1716, 'pigs': 1717, 'place': 1718, 'places': 1719, 'planet': 1720, 'please': 1721, 'politician': 1722, 'posts': 1723, 'pot': 1724, 'preacher': 1725, 'pregnant': 1726, 'presence': 1727, 'prevent': 1728, 'prisoners': 1729, 'prize': 1730, 'process': 1731, 'production': 1732, 'products': 1733, 'proposes': 1734, 'prosecution': 1735, 'protected': 1736, 'proud': 1737, 'provided': 1738, 'publicly': 1739, 'punished': 1740, 'punishment': 1741, 'puts': 1742, 'quickly': 1743, 'radiation': 1744, 'raising': 1745, 'range': 1746, 'rather': 1747, 'reactors': 1748, 'reasons': 1749, 'recorded': 1750, 'reform': 1751, 'refugees': 1752, 'religion': 1753, 'remain': 1754, 'reporter': 1755, 'request': 1756, 'rescue': 1757, 'research': 1758, 'resident': 1759, 'resigns': 1760, 'response': 1761, 'restore': 1762, 'return': 1763, 'revelations': 1764, 'revolution': 1765, 'riots': 1766, 'rise': 1767, 'rock': 1768, 'role': 1769, 'rounded': 1770, 'running': 1771, 'scientific': 1772, 'secrecy': 1773, 'secular': 1774, 'sees': 1775, 'self': 1776, 'sentences': 1777, 'seriously': 1778, 'settlements': 1779, 'several': 1780, 'shame': 1781, 'sharing': 1782, 'shoe': 1783, 'showed': 1784, 'sick': 1785, 'signed': 1786, 'situation': 1787, 'size': 1788, 'smoking': 1789, 'society': 1790, 'sold': 1791, 'something': 1792, 'son': 1793, 'soon': 1794, 'speaking': 1795, 'spent': 1796, 'spread': 1797, 'spy': 1798, 'stage': 1799, 'standards': 1800, 'star': 1801, 'stole': 1802, 'stripped': 1803, 'strong': 1804, 'struggling': 1805, 'stupid': 1806, 'style': 1807, 'sue': 1808, 'summit': 1809, 'sun': 1810, 'supporters': 1811, 'surrounded': 1812, 'suspends': 1813, 'systems': 1814, 'tackling': 1815, 'taxes': 1816, 'tear': 1817, 'teenage': 1818, 'television': 1819, 'tell': 1820, 'terrorism': 1821, 'test': 1822, 'thing': 1823, 'third': 1824, 'ties': 1825, 'tiger': 1826, 'together': 1827, 'toll': 1828, 'tomorrow': 1829, 'track': 1830, 'tracks': 1831, 'trash': 1832, 'treaty': 1833, 'tribes': 1834, 'tries': 1835, 'trillion': 1836, 'trucks': 1837, 'truth': 1838, 'tweets': 1839, 'un': 1840, 'underground': 1841, 'understand': 1842, 'unit': 1843, 'university': 1844, 'urges': 1845, 'values': 1846, 'vast': 1847, 'victory': 1848, 'videos': 1849, 'violent': 1850, 'visit': 1851, 'voted': 1852, 'voters': 1853, 'warns': 1854, 'waves': 1855, 'wearing': 1856, 'web': 1857, 'websites': 1858, 'wherever': 1859, 'whole': 1860, 'wide': 1861, 'wildlife': 1862, 'witness': 1863, 'won': 1864, 'worker': 1865, 'worldwide': 1866, 'writes': 1867, 'wrote': 1868, 'xpost': 1869, 'zones': 1870})\n",
            "['1', '0']\n"
          ],
          "name": "stdout"
        }
      ]
    },
    {
      "cell_type": "code",
      "metadata": {
        "id": "3waxTwC8AToU"
      },
      "source": [
        "device = torch.device('cuda' if torch.cuda.is_available() else 'cpu')\r\n",
        "\r\n",
        "BATCH_SIZE = 16\r\n",
        "#Load an iterator\r\n",
        "train_iterator, valid_iterator = data.BucketIterator.splits(\r\n",
        "    (train_data, valid_data), \r\n",
        "    batch_size = BATCH_SIZE,\r\n",
        "    sort_key = lambda x: len(x.headline),\r\n",
        "    sort_within_batch=True,\r\n",
        "    device = device)"
      ],
      "execution_count": 373,
      "outputs": []
    },
    {
      "cell_type": "code",
      "metadata": {
        "id": "KhJadGMtAnmm"
      },
      "source": [
        "class classifier(nn.Module):\r\n",
        "    \r\n",
        "    #define all the layers used in model\r\n",
        "    def __init__(self, vocab_size, embedding_dim, hidden_dim, output_dim, n_layers, \r\n",
        "                 bidirectional, dropout):\r\n",
        "        \r\n",
        "        #Constructor\r\n",
        "        super().__init__()          \r\n",
        "        \r\n",
        "        #embedding layer\r\n",
        "        self.embedding = nn.Embedding(vocab_size, embedding_dim)\r\n",
        "        \r\n",
        "        #lstm layer\r\n",
        "        self.lstm = nn.LSTM(embedding_dim, \r\n",
        "                           hidden_dim, \r\n",
        "                           num_layers=n_layers, \r\n",
        "                           bidirectional=bidirectional, \r\n",
        "                           dropout=dropout,\r\n",
        "                           batch_first=True)\r\n",
        "        \r\n",
        "        #dense layer\r\n",
        "        self.fc = nn.Linear(hidden_dim * (2 if bidirectional else 1), output_dim)\r\n",
        "        \r\n",
        "        #activation function\r\n",
        "        self.act = nn.Sigmoid()\r\n",
        "        \r\n",
        "    def forward(self, text, text_lengths):\r\n",
        "        \r\n",
        "        #text = [batch size,sent_length]\r\n",
        "        embedded = self.embedding(text)\r\n",
        "        #embedded = [batch size, sent_len, emb dim]\r\n",
        "      \r\n",
        "        #packed sequence\r\n",
        "        packed_embedded = nn.utils.rnn.pack_padded_sequence(embedded, text_lengths,batch_first=True)\r\n",
        "        \r\n",
        "        packed_output, (hidden, cell) = self.lstm(packed_embedded)\r\n",
        "        #hidden = [batch size, num layers * num directions,hid dim]\r\n",
        "        #cell = [batch size, num layers * num directions,hid dim]\r\n",
        "        \r\n",
        "        #concat the final forward and backward hidden state\r\n",
        "        hidden = torch.cat((hidden[-2,:,:], hidden[-1,:,:]), dim = 1)\r\n",
        "                \r\n",
        "        #hidden = [batch size, hid dim * num directions]\r\n",
        "        dense_outputs=self.fc(hidden)\r\n",
        "\r\n",
        "        #Final activation function\r\n",
        "        outputs=self.act(dense_outputs)\r\n",
        "        \r\n",
        "        return outputs"
      ],
      "execution_count": 374,
      "outputs": []
    },
    {
      "cell_type": "code",
      "metadata": {
        "id": "46OICETaAo9Z"
      },
      "source": [
        "#define hyperparameters\r\n",
        "size_of_vocab = len(TEXT.vocab)\r\n",
        "embedding_dim = 100\r\n",
        "num_hidden_nodes = 256\r\n",
        "num_output_nodes = 1\r\n",
        "num_layers = 2\r\n",
        "bidirection = True\r\n",
        "dropout = 0.2"
      ],
      "execution_count": 375,
      "outputs": []
    },
    {
      "cell_type": "code",
      "metadata": {
        "id": "tD0HbMVyDUT1"
      },
      "source": [
        "#instantiate the model\r\n",
        "model = classifier(size_of_vocab, embedding_dim, num_hidden_nodes,num_output_nodes, num_layers, \r\n",
        "                   bidirectional = True, dropout = dropout).to(device)"
      ],
      "execution_count": 385,
      "outputs": []
    },
    {
      "cell_type": "code",
      "metadata": {
        "id": "8Pj4GYsMBEb2"
      },
      "source": [
        "optimizer = optim.Adam(model.parameters())\r\n",
        "criterion = nn.BCELoss().to(device)"
      ],
      "execution_count": 386,
      "outputs": []
    },
    {
      "cell_type": "code",
      "metadata": {
        "id": "h0RgVB72CB-L"
      },
      "source": [
        "def train(model, iterator, optimizer, criterion):\r\n",
        "    \r\n",
        "    #initialize every epoch \r\n",
        "    epoch_loss = 0\r\n",
        "    epoch_acc = 0\r\n",
        "    \r\n",
        "    #set the model in training phase\r\n",
        "    model.train()  \r\n",
        "    \r\n",
        "    for batch in iterator:\r\n",
        "        \r\n",
        "        #resets the gradients after every batch\r\n",
        "        optimizer.zero_grad()   \r\n",
        "        \r\n",
        "        #retrieve text and no. of words\r\n",
        "        text, text_lengths = batch.headline\r\n",
        "        text_lengths = text_lengths.to(\"cpu\")\r\n",
        "        \r\n",
        "        #convert to 1D tensor\r\n",
        "        predictions = model(text, text_lengths).squeeze()\r\n",
        "        \r\n",
        "        #compute the loss\r\n",
        "        loss = criterion(predictions, batch.label)        \r\n",
        "        \r\n",
        "        #compute the binary accuracy\r\n",
        "        acc = binary_accuracy(predictions, batch.label)   \r\n",
        "        \r\n",
        "        #backpropage the loss and compute the gradients\r\n",
        "        loss.backward()       \r\n",
        "        \r\n",
        "        #update the weights\r\n",
        "        optimizer.step()      \r\n",
        "        \r\n",
        "        #loss and accuracy\r\n",
        "        epoch_loss += loss.item()  \r\n",
        "        epoch_acc += acc.item()    \r\n",
        "        \r\n",
        "    return epoch_loss / len(iterator), epoch_acc / len(iterator)"
      ],
      "execution_count": 383,
      "outputs": []
    },
    {
      "cell_type": "code",
      "metadata": {
        "id": "vqXAg2HACFH9"
      },
      "source": [
        "def evaluate(model, iterator, criterion):\r\n",
        "    \r\n",
        "    #initialize every epoch\r\n",
        "    epoch_loss = 0\r\n",
        "    epoch_acc = 0\r\n",
        "\r\n",
        "    #deactivating dropout layers\r\n",
        "    model.eval()\r\n",
        "    \r\n",
        "    #deactivates autograd\r\n",
        "    with torch.no_grad():\r\n",
        "    \r\n",
        "        for batch in iterator:\r\n",
        "            #retrieve text and no. of words\r\n",
        "            text, text_lengths = batch.headline\r\n",
        "            text_lengths = text_lengths.to(\"cpu\")\r\n",
        "        \r\n",
        "            #convert to 1d tensor\r\n",
        "            predictions = model(text, text_lengths).squeeze()\r\n",
        "                      \r\n",
        "            #compute loss and accuracy\r\n",
        "            loss = criterion(predictions, batch.label)\r\n",
        "            acc = binary_accuracy(predictions, batch.label)\r\n",
        "            \r\n",
        "            #keep track of loss and accuracy\r\n",
        "            epoch_loss += loss.item()\r\n",
        "            epoch_acc += acc.item()\r\n",
        "        \r\n",
        "    return epoch_loss / len(iterator), epoch_acc / len(iterator)"
      ],
      "execution_count": 379,
      "outputs": []
    },
    {
      "cell_type": "code",
      "metadata": {
        "id": "GDaULeq3ERtM"
      },
      "source": [
        "def binary_accuracy(preds, y):\r\n",
        "    pred_labels = (preds > 0.5).float() * 1\r\n",
        "    correct = (pred_labels == y).float()\r\n",
        "    acc = correct.sum() / len(correct)\r\n",
        "    return acc"
      ],
      "execution_count": 380,
      "outputs": []
    },
    {
      "cell_type": "code",
      "metadata": {
        "colab": {
          "base_uri": "https://localhost:8080/"
        },
        "id": "GSiARIgwCJrd",
        "outputId": "062faeb1-7dbf-45b4-f322-870badc81ad9"
      },
      "source": [
        "N_EPOCHS = 5\r\n",
        "best_valid_loss = float('inf')\r\n",
        "\r\n",
        "for epoch in range(N_EPOCHS):\r\n",
        "     \r\n",
        "    #train the model\r\n",
        "    train_loss, train_acc = train(model, train_iterator, optimizer, criterion)\r\n",
        "    \r\n",
        "    #evaluate the model\r\n",
        "    valid_loss, valid_acc = evaluate(model, valid_iterator, criterion)\r\n",
        "    \r\n",
        "    #save the best model\r\n",
        "    if valid_loss < best_valid_loss:\r\n",
        "        best_valid_loss = valid_loss\r\n",
        "        torch.save(model.state_dict(), 'saved_weights.pt')\r\n",
        "    \r\n",
        "    print(f'\\tTrain Loss: {train_loss:.3f} | Train Acc: {train_acc*100:.2f}%')\r\n",
        "    print(f'\\t Val. Loss: {valid_loss:.3f} |  Val. Acc: {valid_acc*100:.2f}%')\r\n"
      ],
      "execution_count": 387,
      "outputs": [
        {
          "output_type": "stream",
          "text": [
            "\tTrain Loss: 0.695 | Train Acc: 51.87%\n",
            "\t Val. Loss: 0.697 |  Val. Acc: 46.48%\n",
            "\tTrain Loss: 0.674 | Train Acc: 57.11%\n",
            "\t Val. Loss: 0.715 |  Val. Acc: 47.76%\n",
            "\tTrain Loss: 0.613 | Train Acc: 66.81%\n",
            "\t Val. Loss: 0.772 |  Val. Acc: 48.13%\n",
            "\tTrain Loss: 0.462 | Train Acc: 79.31%\n",
            "\t Val. Loss: 0.989 |  Val. Acc: 48.06%\n",
            "\tTrain Loss: 0.257 | Train Acc: 90.30%\n",
            "\t Val. Loss: 1.251 |  Val. Acc: 47.43%\n"
          ],
          "name": "stdout"
        }
      ]
    },
    {
      "cell_type": "markdown",
      "metadata": {
        "id": "cEbAYRLlUfF6"
      },
      "source": [
        "# OLD LSTM"
      ]
    },
    {
      "cell_type": "code",
      "metadata": {
        "colab": {
          "base_uri": "https://localhost:8080/",
          "height": 204
        },
        "id": "W0aGVHcWOoa7",
        "outputId": "d26876c8-ecac-4fab-e968-e526a490fc9d"
      },
      "source": [
        "df.head()"
      ],
      "execution_count": 77,
      "outputs": [
        {
          "output_type": "execute_result",
          "data": {
            "text/html": [
              "<div>\n",
              "<style scoped>\n",
              "    .dataframe tbody tr th:only-of-type {\n",
              "        vertical-align: middle;\n",
              "    }\n",
              "\n",
              "    .dataframe tbody tr th {\n",
              "        vertical-align: top;\n",
              "    }\n",
              "\n",
              "    .dataframe thead th {\n",
              "        text-align: right;\n",
              "    }\n",
              "</style>\n",
              "<table border=\"1\" class=\"dataframe\">\n",
              "  <thead>\n",
              "    <tr style=\"text-align: right;\">\n",
              "      <th></th>\n",
              "      <th>headline</th>\n",
              "      <th>label</th>\n",
              "    </tr>\n",
              "  </thead>\n",
              "  <tbody>\n",
              "    <tr>\n",
              "      <th>0</th>\n",
              "      <td>georgia would own two russian warplan countri ...</td>\n",
              "      <td>0</td>\n",
              "    </tr>\n",
              "    <tr>\n",
              "      <th>1</th>\n",
              "      <td>wont america nato help us wont help now help iraq</td>\n",
              "      <td>1</td>\n",
              "    </tr>\n",
              "    <tr>\n",
              "      <th>2</th>\n",
              "      <td>rememb ador 9 - year - old sang open ceremoni ...</td>\n",
              "      <td>0</td>\n",
              "    </tr>\n",
              "    <tr>\n",
              "      <th>3</th>\n",
              "      <td>u s refus israel weapon attack iran : report</td>\n",
              "      <td>0</td>\n",
              "    </tr>\n",
              "    <tr>\n",
              "      <th>4</th>\n",
              "      <td>expert admit legalis drug</td>\n",
              "      <td>1</td>\n",
              "    </tr>\n",
              "  </tbody>\n",
              "</table>\n",
              "</div>"
            ],
            "text/plain": [
              "                                            headline  label\n",
              "0  georgia would own two russian warplan countri ...      0\n",
              "1  wont america nato help us wont help now help iraq      1\n",
              "2  rememb ador 9 - year - old sang open ceremoni ...      0\n",
              "3       u s refus israel weapon attack iran : report      0\n",
              "4                          expert admit legalis drug      1"
            ]
          },
          "metadata": {
            "tags": []
          },
          "execution_count": 77
        }
      ]
    },
    {
      "cell_type": "code",
      "metadata": {
        "id": "ltkHf-qQUq5w"
      },
      "source": [
        "corpus = []\r\n",
        "\r\n",
        "max_len = 0 \r\n",
        "for index, word_list in df[\"headline\"].iteritems():\r\n",
        "  max_len = max(max_len, len(word_list))\r\n",
        "  corpus.extend(word_list)\r\n",
        "\r\n",
        "vocab_to_int = {w:i+1 for i, w in enumerate(set(corpus))}"
      ],
      "execution_count": 86,
      "outputs": []
    },
    {
      "cell_type": "code",
      "metadata": {
        "id": "iFhcQ1YD0ZQh"
      },
      "source": [
        "df.loc[:, 'headline'] = df['headline'].apply(lambda headline: [vocab_to_int[word] for word in headline] + [0]*(max_len - len(headline)))"
      ],
      "execution_count": 87,
      "outputs": []
    },
    {
      "cell_type": "code",
      "metadata": {
        "colab": {
          "base_uri": "https://localhost:8080/",
          "height": 204
        },
        "id": "kv2cc1fralJs",
        "outputId": "d29d685a-dd53-4434-bb02-49ff57193efc"
      },
      "source": [
        "df.head()"
      ],
      "execution_count": 88,
      "outputs": [
        {
          "output_type": "execute_result",
          "data": {
            "text/html": [
              "<div>\n",
              "<style scoped>\n",
              "    .dataframe tbody tr th:only-of-type {\n",
              "        vertical-align: middle;\n",
              "    }\n",
              "\n",
              "    .dataframe tbody tr th {\n",
              "        vertical-align: top;\n",
              "    }\n",
              "\n",
              "    .dataframe thead th {\n",
              "        text-align: right;\n",
              "    }\n",
              "</style>\n",
              "<table border=\"1\" class=\"dataframe\">\n",
              "  <thead>\n",
              "    <tr style=\"text-align: right;\">\n",
              "      <th></th>\n",
              "      <th>headline</th>\n",
              "      <th>label</th>\n",
              "    </tr>\n",
              "  </thead>\n",
              "  <tbody>\n",
              "    <tr>\n",
              "      <th>0</th>\n",
              "      <td>[2, 1, 37, 40, 2, 38, 39, 14, 10, 37, 32, 12, ...</td>\n",
              "      <td>0</td>\n",
              "    </tr>\n",
              "    <tr>\n",
              "      <th>1</th>\n",
              "      <td>[10, 37, 29, 34, 14, 39, 6, 1, 40, 38, 23, 39,...</td>\n",
              "      <td>1</td>\n",
              "    </tr>\n",
              "    <tr>\n",
              "      <th>2</th>\n",
              "      <td>[40, 1, 6, 1, 6, 19, 14, 39, 9, 37, 40, 14, 26...</td>\n",
              "      <td>0</td>\n",
              "    </tr>\n",
              "    <tr>\n",
              "      <th>3</th>\n",
              "      <td>[32, 14, 3, 14, 40, 1, 27, 32, 3, 14, 38, 3, 4...</td>\n",
              "      <td>0</td>\n",
              "    </tr>\n",
              "    <tr>\n",
              "      <th>4</th>\n",
              "      <td>[1, 35, 16, 1, 40, 34, 14, 39, 9, 6, 38, 34, 1...</td>\n",
              "      <td>1</td>\n",
              "    </tr>\n",
              "  </tbody>\n",
              "</table>\n",
              "</div>"
            ],
            "text/plain": [
              "                                            headline  label\n",
              "0  [2, 1, 37, 40, 2, 38, 39, 14, 10, 37, 32, 12, ...      0\n",
              "1  [10, 37, 29, 34, 14, 39, 6, 1, 40, 38, 23, 39,...      1\n",
              "2  [40, 1, 6, 1, 6, 19, 14, 39, 9, 37, 40, 14, 26...      0\n",
              "3  [32, 14, 3, 14, 40, 1, 27, 32, 3, 14, 38, 3, 4...      0\n",
              "4  [1, 35, 16, 1, 40, 34, 14, 39, 9, 6, 38, 34, 1...      1"
            ]
          },
          "metadata": {
            "tags": []
          },
          "execution_count": 88
        }
      ]
    },
    {
      "cell_type": "code",
      "metadata": {
        "id": "Lm15Bj6XXvo3"
      },
      "source": [
        "headlines = [item for sublist in df['headline'].tolist() for item in sublist]\r\n",
        "features = torch.LongTensor(headlines).reshape(len(df), -1).to(device)\r\n",
        "labels = torch.FloatTensor(df['label'].to_numpy()).to(device)"
      ],
      "execution_count": 89,
      "outputs": []
    },
    {
      "cell_type": "code",
      "metadata": {
        "colab": {
          "base_uri": "https://localhost:8080/"
        },
        "id": "Cn1hJsAyjDXw",
        "outputId": "30061bf3-8047-42ba-e292-7259e065f7fb"
      },
      "source": [
        "print(features.shape, labels.shape)"
      ],
      "execution_count": 90,
      "outputs": [
        {
          "output_type": "stream",
          "text": [
            "torch.Size([1989, 216]) torch.Size([1989])\n"
          ],
          "name": "stdout"
        }
      ]
    },
    {
      "cell_type": "code",
      "metadata": {
        "id": "vuK1590hbH_T"
      },
      "source": [
        "train_features, test_features, train_labels, test_labels = train_test_split(features, labels, test_size=0.2, random_state=RANDOM_SEED)\r\n",
        "test_features, val_features, test_labels, val_labels = train_test_split(test_features, test_labels, test_size=0.5, random_state=RANDOM_SEED)"
      ],
      "execution_count": 91,
      "outputs": []
    },
    {
      "cell_type": "code",
      "metadata": {
        "id": "ZSyFjzN5bhiv"
      },
      "source": [
        "train_data_loader = create_data_loader(train_features, train_labels, BATCH_SIZE, shuffle=True)\r\n",
        "val_data_loader = create_data_loader(val_features, val_labels, BATCH_SIZE)\r\n",
        "test_data_loader = create_data_loader(test_features, test_labels, BATCH_SIZE)"
      ],
      "execution_count": 92,
      "outputs": []
    },
    {
      "cell_type": "code",
      "metadata": {
        "id": "W7m-8lrsWIMV"
      },
      "source": [
        "# Instantiate the model w/ hyperparams\r\n",
        "vocab_size = len(vocab_to_int)+1 # +1 for the 0 padding\r\n",
        "output_size = 1\r\n",
        "embedding_dim = 400\r\n",
        "hidden_dim = 256\r\n",
        "n_layers = 2"
      ],
      "execution_count": 93,
      "outputs": []
    },
    {
      "cell_type": "code",
      "metadata": {
        "id": "DWloG_zHRukE"
      },
      "source": [
        "class SentimentLSTM(nn.Module):\r\n",
        "    \"\"\"\r\n",
        "    The RNN model that will be used to perform Sentiment analysis.\r\n",
        "    \"\"\"\r\n",
        "\r\n",
        "    def __init__(self, vocab_size, output_size, embedding_dim, hidden_dim, n_layers, directions=1, drop_prob=0.5):\r\n",
        "        \"\"\"\r\n",
        "        Initialize the model by setting up the layers.\r\n",
        "        \"\"\"\r\n",
        "        super().__init__()\r\n",
        "\r\n",
        "        self.output_size = output_size\r\n",
        "        self.n_layers = n_layers\r\n",
        "        self.hidden_dim = hidden_dim\r\n",
        "        self.directions = directions\r\n",
        "        self.bidirectional = (directions == 2)\r\n",
        "        \r\n",
        "        # embedding and LSTM layers\r\n",
        "        self.embedding = nn.Embedding(vocab_size, embedding_dim)\r\n",
        "        self.lstm = nn.LSTM(embedding_dim, hidden_dim, n_layers, \r\n",
        "                            dropout=drop_prob, batch_first=True, bidirectional=self.bidirectional)\r\n",
        "        \r\n",
        "        # dropout layer\r\n",
        "        self.dropout = nn.Dropout(0.3)\r\n",
        "\r\n",
        "        # linear and sigmoid layers\r\n",
        "        self.fc = nn.Linear(hidden_dim * directions, output_size)\r\n",
        "        self.sig = nn.Sigmoid()\r\n",
        "        \r\n",
        "\r\n",
        "    def forward(self, x):\r\n",
        "        \"\"\"\r\n",
        "        Perform a forward pass of our model on some input and hidden state.\r\n",
        "        \"\"\"\r\n",
        "        batch_size = x.size(0)\r\n",
        "\r\n",
        "        self.init_hidden(batch_size)\r\n",
        "\r\n",
        "        # embeddings and lstm_out\r\n",
        "        embedded = self.embedding(x.long())\r\n",
        "        lstm_out, self.hidden = self.lstm(embedded, self.hidden)\r\n",
        "      \r\n",
        "        # stack up lstm outputs\r\n",
        "        lstm_out = lstm_out.contiguous().view(-1, self.hidden_dim * self.directions)\r\n",
        "        \r\n",
        "        # dropout and fully-connected layer\r\n",
        "        out = self.dropout(lstm_out)\r\n",
        "        out = self.fc(out)\r\n",
        "        # sigmoid function\r\n",
        "        sig_out = self.sig(out)\r\n",
        "        \r\n",
        "        # reshape to be batch_size first\r\n",
        "        sig_out = sig_out.view(batch_size, -1)\r\n",
        "        sig_out = sig_out[:, -1] # get last batch of labels\r\n",
        "        \r\n",
        "        # return last sigmoid output\r\n",
        "        return sig_out\r\n",
        "\r\n",
        "    def init_hidden(self, batch_size):\r\n",
        "      self.hidden = (torch.zeros(self.n_layers * self.directions, batch_size, self.hidden_dim).to(device=device),\r\n",
        "                     torch.zeros(self.n_layers * self.directions, batch_size, self.hidden_dim).to(device=device))"
      ],
      "execution_count": 94,
      "outputs": []
    },
    {
      "cell_type": "code",
      "metadata": {
        "id": "jtfLDyfPWP0h"
      },
      "source": [
        "LSTM_model = SentimentLSTM(vocab_size, output_size, embedding_dim, hidden_dim, n_layers, directions=2, drop_prob=0.05).to(device)"
      ],
      "execution_count": 95,
      "outputs": []
    },
    {
      "cell_type": "code",
      "metadata": {
        "colab": {
          "base_uri": "https://localhost:8080/"
        },
        "id": "ZC4A5k55WVpF",
        "outputId": "82698d63-2b68-402c-8e5a-b3e91aeb1299"
      },
      "source": [
        "LSTM_model"
      ],
      "execution_count": 96,
      "outputs": [
        {
          "output_type": "execute_result",
          "data": {
            "text/plain": [
              "SentimentLSTM(\n",
              "  (embedding): Embedding(43, 400)\n",
              "  (lstm): LSTM(400, 256, num_layers=2, batch_first=True, dropout=0.05, bidirectional=True)\n",
              "  (dropout): Dropout(p=0.3, inplace=False)\n",
              "  (fc): Linear(in_features=512, out_features=1, bias=True)\n",
              "  (sig): Sigmoid()\n",
              ")"
            ]
          },
          "metadata": {
            "tags": []
          },
          "execution_count": 96
        }
      ]
    },
    {
      "cell_type": "code",
      "metadata": {
        "id": "eC4UrCtiWXc6"
      },
      "source": [
        "EPOCHS = 10\r\n",
        "optimizer = AdamW(LSTM_model.parameters(), lr=0.001, correct_bias=False)\r\n",
        "total_steps = len(train_data_loader) * EPOCHS\r\n",
        "scheduler = get_linear_schedule_with_warmup(\r\n",
        "  optimizer,\r\n",
        "  num_warmup_steps=0,\r\n",
        "  num_training_steps=total_steps\r\n",
        ")\r\n",
        "loss_fn = nn.BCELoss().to(device)"
      ],
      "execution_count": 97,
      "outputs": []
    },
    {
      "cell_type": "code",
      "metadata": {
        "colab": {
          "base_uri": "https://localhost:8080/"
        },
        "id": "5xSsc4dtW5Be",
        "outputId": "4c333926-9890-4668-bb17-ce4d5a8269a0"
      },
      "source": [
        "%%time\r\n",
        "LSTM_history = train(LSTM_model, EPOCHS, train_data_loader, loss_fn, optimizer, scheduler)"
      ],
      "execution_count": 98,
      "outputs": [
        {
          "output_type": "stream",
          "text": [
            "Epoch 1/10 Metrics\n",
            "{   'train': {'accuracy': 0.5166561910747958, 'loss': 0.7208782096004965},\n",
            "    'validation': {'accuracy': 0.5577889447236181, 'loss': 0.6840020155906678}}\n",
            "----------\n",
            "Epoch 2/10 Metrics\n",
            "{   'train': {'accuracy': 0.5034569453174105, 'loss': 0.6989296504001522},\n",
            "    'validation': {'accuracy': 0.49748743718592964, 'loss': 0.7000772547721863}}\n",
            "----------\n",
            "Epoch 3/10 Metrics\n",
            "{   'train': {'accuracy': 0.5009428032683847, 'loss': 0.6987169163310947},\n",
            "    'validation': {'accuracy': 0.46733668341708545, 'loss': 0.698102753162384}}\n",
            "----------\n",
            "Epoch 4/10 Metrics\n",
            "{   'train': {'accuracy': 0.5172847265870522, 'loss': 0.6949883004528793},\n",
            "    'validation': {'accuracy': 0.5577889447236181, 'loss': 0.6915875363349915}}\n",
            "----------\n",
            "Epoch 5/10 Metrics\n",
            "{   'train': {'accuracy': 0.4952859836580767, 'loss': 0.6985239266750202},\n",
            "    'validation': {'accuracy': 0.4472361809045226, 'loss': 0.7019394755363464}}\n",
            "----------\n",
            "Epoch 6/10 Metrics\n",
            "{   'train': {'accuracy': 0.51414204902577, 'loss': 0.6951237039350385},\n",
            "    'validation': {'accuracy': 0.5979899497487438, 'loss': 0.6829866147041321}}\n",
            "----------\n",
            "Epoch 7/10 Metrics\n",
            "{   'train': {'accuracy': 0.491514770584538, 'loss': 0.6950549588131545},\n",
            "    'validation': {'accuracy': 0.5628140703517588, 'loss': 0.6775488114356994}}\n",
            "----------\n",
            "Epoch 8/10 Metrics\n",
            "{   'train': {'accuracy': 0.5103708359522313, 'loss': 0.6958345408415675},\n",
            "    'validation': {'accuracy': 0.6231155778894473, 'loss': 0.6847296285629273}}\n",
            "----------\n",
            "Epoch 9/10 Metrics\n",
            "{   'train': {'accuracy': 0.531112507856694, 'loss': 0.6917996948687875},\n",
            "    'validation': {'accuracy': 0.5276381909547738, 'loss': 0.6874654126167298}}\n",
            "----------\n",
            "Epoch 10/10 Metrics\n",
            "{   'train': {'accuracy': 0.5065996228786926, 'loss': 0.6938704048568879},\n",
            "    'validation': {'accuracy': 0.5628140703517588, 'loss': 0.6922304391860962}}\n",
            "----------\n",
            "CPU times: user 1min 18s, sys: 8.21 s, total: 1min 26s\n",
            "Wall time: 1min 27s\n"
          ],
          "name": "stdout"
        }
      ]
    },
    {
      "cell_type": "code",
      "metadata": {
        "colab": {
          "base_uri": "https://localhost:8080/",
          "height": 1000
        },
        "id": "hSs-3UR_W-j_",
        "outputId": "5b495088-2691-4a7c-ab68-437be730aab7"
      },
      "source": [
        "plot(LSTM_history)"
      ],
      "execution_count": 99,
      "outputs": [
        {
          "output_type": "display_data",
          "data": {
            "text/html": [
              "<html>\n",
              "<head><meta charset=\"utf-8\" /></head>\n",
              "<body>\n",
              "    <div>\n",
              "            <script src=\"https://cdnjs.cloudflare.com/ajax/libs/mathjax/2.7.5/MathJax.js?config=TeX-AMS-MML_SVG\"></script><script type=\"text/javascript\">if (window.MathJax) {MathJax.Hub.Config({SVG: {font: \"STIX-Web\"}});}</script>\n",
              "                <script type=\"text/javascript\">window.PlotlyConfig = {MathJaxConfig: 'local'};</script>\n",
              "        <script src=\"https://cdn.plot.ly/plotly-latest.min.js\"></script>    \n",
              "            <div id=\"521bafbd-d0fc-4f1c-b25a-6b740d25ba80\" class=\"plotly-graph-div\" style=\"height:525px; width:100%;\"></div>\n",
              "            <script type=\"text/javascript\">\n",
              "                \n",
              "                    window.PLOTLYENV=window.PLOTLYENV || {};\n",
              "                    \n",
              "                if (document.getElementById(\"521bafbd-d0fc-4f1c-b25a-6b740d25ba80\")) {\n",
              "                    Plotly.newPlot(\n",
              "                        '521bafbd-d0fc-4f1c-b25a-6b740d25ba80',\n",
              "                        [{\"hoverlabel\": {\"namelength\": 0}, \"hovertemplate\": \"<b>%{hovertext}</b><br><br>set=train<br>epoch=%{x}<br>accuracy=%{y}\", \"hovertext\": [\"train\", \"train\", \"train\", \"train\", \"train\", \"train\", \"train\", \"train\", \"train\", \"train\"], \"legendgroup\": \"set=train\", \"line\": {\"color\": \"#636efa\", \"dash\": \"solid\"}, \"mode\": \"lines\", \"name\": \"set=train\", \"showlegend\": true, \"type\": \"scatter\", \"x\": [1.0, 2.0, 3.0, 4.0, 5.0, 6.0, 7.0, 8.0, 9.0, 10.0], \"xaxis\": \"x\", \"y\": [0.5166561910747958, 0.5034569453174105, 0.5009428032683847, 0.5172847265870522, 0.4952859836580767, 0.51414204902577, 0.491514770584538, 0.5103708359522313, 0.531112507856694, 0.5065996228786926], \"yaxis\": \"y\"}, {\"hoverlabel\": {\"namelength\": 0}, \"hovertemplate\": \"<b>%{hovertext}</b><br><br>set=validation<br>epoch=%{x}<br>accuracy=%{y}\", \"hovertext\": [\"validation\", \"validation\", \"validation\", \"validation\", \"validation\", \"validation\", \"validation\", \"validation\", \"validation\", \"validation\"], \"legendgroup\": \"set=validation\", \"line\": {\"color\": \"#EF553B\", \"dash\": \"solid\"}, \"mode\": \"lines\", \"name\": \"set=validation\", \"showlegend\": true, \"type\": \"scatter\", \"x\": [1.0, 2.0, 3.0, 4.0, 5.0, 6.0, 7.0, 8.0, 9.0, 10.0], \"xaxis\": \"x\", \"y\": [0.5577889447236181, 0.49748743718592964, 0.46733668341708545, 0.5577889447236181, 0.4472361809045226, 0.5979899497487438, 0.5628140703517588, 0.6231155778894473, 0.5276381909547738, 0.5628140703517588], \"yaxis\": \"y\"}],\n",
              "                        {\"legend\": {\"tracegroupgap\": 0}, \"template\": {\"data\": {\"bar\": [{\"error_x\": {\"color\": \"#2a3f5f\"}, \"error_y\": {\"color\": \"#2a3f5f\"}, \"marker\": {\"line\": {\"color\": \"#E5ECF6\", \"width\": 0.5}}, \"type\": \"bar\"}], \"barpolar\": [{\"marker\": {\"line\": {\"color\": \"#E5ECF6\", \"width\": 0.5}}, \"type\": \"barpolar\"}], \"carpet\": [{\"aaxis\": {\"endlinecolor\": \"#2a3f5f\", \"gridcolor\": \"white\", \"linecolor\": \"white\", \"minorgridcolor\": \"white\", \"startlinecolor\": \"#2a3f5f\"}, \"baxis\": {\"endlinecolor\": \"#2a3f5f\", \"gridcolor\": \"white\", \"linecolor\": \"white\", \"minorgridcolor\": \"white\", \"startlinecolor\": \"#2a3f5f\"}, \"type\": \"carpet\"}], \"choropleth\": [{\"colorbar\": {\"outlinewidth\": 0, \"ticks\": \"\"}, \"type\": \"choropleth\"}], \"contour\": [{\"colorbar\": {\"outlinewidth\": 0, \"ticks\": \"\"}, \"colorscale\": [[0.0, \"#0d0887\"], [0.1111111111111111, \"#46039f\"], [0.2222222222222222, \"#7201a8\"], [0.3333333333333333, \"#9c179e\"], [0.4444444444444444, \"#bd3786\"], [0.5555555555555556, \"#d8576b\"], [0.6666666666666666, \"#ed7953\"], [0.7777777777777778, \"#fb9f3a\"], [0.8888888888888888, \"#fdca26\"], [1.0, \"#f0f921\"]], \"type\": \"contour\"}], \"contourcarpet\": [{\"colorbar\": {\"outlinewidth\": 0, \"ticks\": \"\"}, \"type\": \"contourcarpet\"}], \"heatmap\": [{\"colorbar\": {\"outlinewidth\": 0, \"ticks\": \"\"}, \"colorscale\": [[0.0, \"#0d0887\"], [0.1111111111111111, \"#46039f\"], [0.2222222222222222, \"#7201a8\"], [0.3333333333333333, \"#9c179e\"], [0.4444444444444444, \"#bd3786\"], [0.5555555555555556, \"#d8576b\"], [0.6666666666666666, \"#ed7953\"], [0.7777777777777778, \"#fb9f3a\"], [0.8888888888888888, \"#fdca26\"], [1.0, \"#f0f921\"]], \"type\": \"heatmap\"}], \"heatmapgl\": [{\"colorbar\": {\"outlinewidth\": 0, \"ticks\": \"\"}, \"colorscale\": [[0.0, \"#0d0887\"], [0.1111111111111111, \"#46039f\"], [0.2222222222222222, \"#7201a8\"], [0.3333333333333333, \"#9c179e\"], [0.4444444444444444, \"#bd3786\"], [0.5555555555555556, \"#d8576b\"], [0.6666666666666666, \"#ed7953\"], [0.7777777777777778, \"#fb9f3a\"], [0.8888888888888888, \"#fdca26\"], [1.0, \"#f0f921\"]], \"type\": \"heatmapgl\"}], \"histogram\": [{\"marker\": {\"colorbar\": {\"outlinewidth\": 0, \"ticks\": \"\"}}, \"type\": \"histogram\"}], \"histogram2d\": [{\"colorbar\": {\"outlinewidth\": 0, \"ticks\": \"\"}, \"colorscale\": [[0.0, \"#0d0887\"], [0.1111111111111111, \"#46039f\"], [0.2222222222222222, \"#7201a8\"], [0.3333333333333333, \"#9c179e\"], [0.4444444444444444, \"#bd3786\"], [0.5555555555555556, \"#d8576b\"], [0.6666666666666666, \"#ed7953\"], [0.7777777777777778, \"#fb9f3a\"], [0.8888888888888888, \"#fdca26\"], [1.0, \"#f0f921\"]], \"type\": \"histogram2d\"}], \"histogram2dcontour\": [{\"colorbar\": {\"outlinewidth\": 0, \"ticks\": \"\"}, \"colorscale\": [[0.0, \"#0d0887\"], [0.1111111111111111, \"#46039f\"], [0.2222222222222222, \"#7201a8\"], [0.3333333333333333, \"#9c179e\"], [0.4444444444444444, \"#bd3786\"], [0.5555555555555556, \"#d8576b\"], [0.6666666666666666, \"#ed7953\"], [0.7777777777777778, \"#fb9f3a\"], [0.8888888888888888, \"#fdca26\"], [1.0, \"#f0f921\"]], \"type\": \"histogram2dcontour\"}], \"mesh3d\": [{\"colorbar\": {\"outlinewidth\": 0, \"ticks\": \"\"}, \"type\": \"mesh3d\"}], \"parcoords\": [{\"line\": {\"colorbar\": {\"outlinewidth\": 0, \"ticks\": \"\"}}, \"type\": \"parcoords\"}], \"pie\": [{\"automargin\": true, \"type\": \"pie\"}], \"scatter\": [{\"marker\": {\"colorbar\": {\"outlinewidth\": 0, \"ticks\": \"\"}}, \"type\": \"scatter\"}], \"scatter3d\": [{\"line\": {\"colorbar\": {\"outlinewidth\": 0, \"ticks\": \"\"}}, \"marker\": {\"colorbar\": {\"outlinewidth\": 0, \"ticks\": \"\"}}, \"type\": \"scatter3d\"}], \"scattercarpet\": [{\"marker\": {\"colorbar\": {\"outlinewidth\": 0, \"ticks\": \"\"}}, \"type\": \"scattercarpet\"}], \"scattergeo\": [{\"marker\": {\"colorbar\": {\"outlinewidth\": 0, \"ticks\": \"\"}}, \"type\": \"scattergeo\"}], \"scattergl\": [{\"marker\": {\"colorbar\": {\"outlinewidth\": 0, \"ticks\": \"\"}}, \"type\": \"scattergl\"}], \"scattermapbox\": [{\"marker\": {\"colorbar\": {\"outlinewidth\": 0, \"ticks\": \"\"}}, \"type\": \"scattermapbox\"}], \"scatterpolar\": [{\"marker\": {\"colorbar\": {\"outlinewidth\": 0, \"ticks\": \"\"}}, \"type\": \"scatterpolar\"}], \"scatterpolargl\": [{\"marker\": {\"colorbar\": {\"outlinewidth\": 0, \"ticks\": \"\"}}, \"type\": \"scatterpolargl\"}], \"scatterternary\": [{\"marker\": {\"colorbar\": {\"outlinewidth\": 0, \"ticks\": \"\"}}, \"type\": \"scatterternary\"}], \"surface\": [{\"colorbar\": {\"outlinewidth\": 0, \"ticks\": \"\"}, \"colorscale\": [[0.0, \"#0d0887\"], [0.1111111111111111, \"#46039f\"], [0.2222222222222222, \"#7201a8\"], [0.3333333333333333, \"#9c179e\"], [0.4444444444444444, \"#bd3786\"], [0.5555555555555556, \"#d8576b\"], [0.6666666666666666, \"#ed7953\"], [0.7777777777777778, \"#fb9f3a\"], [0.8888888888888888, \"#fdca26\"], [1.0, \"#f0f921\"]], \"type\": \"surface\"}], \"table\": [{\"cells\": {\"fill\": {\"color\": \"#EBF0F8\"}, \"line\": {\"color\": \"white\"}}, \"header\": {\"fill\": {\"color\": \"#C8D4E3\"}, \"line\": {\"color\": \"white\"}}, \"type\": \"table\"}]}, \"layout\": {\"annotationdefaults\": {\"arrowcolor\": \"#2a3f5f\", \"arrowhead\": 0, \"arrowwidth\": 1}, \"coloraxis\": {\"colorbar\": {\"outlinewidth\": 0, \"ticks\": \"\"}}, \"colorscale\": {\"diverging\": [[0, \"#8e0152\"], [0.1, \"#c51b7d\"], [0.2, \"#de77ae\"], [0.3, \"#f1b6da\"], [0.4, \"#fde0ef\"], [0.5, \"#f7f7f7\"], [0.6, \"#e6f5d0\"], [0.7, \"#b8e186\"], [0.8, \"#7fbc41\"], [0.9, \"#4d9221\"], [1, \"#276419\"]], \"sequential\": [[0.0, \"#0d0887\"], [0.1111111111111111, \"#46039f\"], [0.2222222222222222, \"#7201a8\"], [0.3333333333333333, \"#9c179e\"], [0.4444444444444444, \"#bd3786\"], [0.5555555555555556, \"#d8576b\"], [0.6666666666666666, \"#ed7953\"], [0.7777777777777778, \"#fb9f3a\"], [0.8888888888888888, \"#fdca26\"], [1.0, \"#f0f921\"]], \"sequentialminus\": [[0.0, \"#0d0887\"], [0.1111111111111111, \"#46039f\"], [0.2222222222222222, \"#7201a8\"], [0.3333333333333333, \"#9c179e\"], [0.4444444444444444, \"#bd3786\"], [0.5555555555555556, \"#d8576b\"], [0.6666666666666666, \"#ed7953\"], [0.7777777777777778, \"#fb9f3a\"], [0.8888888888888888, \"#fdca26\"], [1.0, \"#f0f921\"]]}, \"colorway\": [\"#636efa\", \"#EF553B\", \"#00cc96\", \"#ab63fa\", \"#FFA15A\", \"#19d3f3\", \"#FF6692\", \"#B6E880\", \"#FF97FF\", \"#FECB52\"], \"font\": {\"color\": \"#2a3f5f\"}, \"geo\": {\"bgcolor\": \"white\", \"lakecolor\": \"white\", \"landcolor\": \"#E5ECF6\", \"showlakes\": true, \"showland\": true, \"subunitcolor\": \"white\"}, \"hoverlabel\": {\"align\": \"left\"}, \"hovermode\": \"closest\", \"mapbox\": {\"style\": \"light\"}, \"paper_bgcolor\": \"white\", \"plot_bgcolor\": \"#E5ECF6\", \"polar\": {\"angularaxis\": {\"gridcolor\": \"white\", \"linecolor\": \"white\", \"ticks\": \"\"}, \"bgcolor\": \"#E5ECF6\", \"radialaxis\": {\"gridcolor\": \"white\", \"linecolor\": \"white\", \"ticks\": \"\"}}, \"scene\": {\"xaxis\": {\"backgroundcolor\": \"#E5ECF6\", \"gridcolor\": \"white\", \"gridwidth\": 2, \"linecolor\": \"white\", \"showbackground\": true, \"ticks\": \"\", \"zerolinecolor\": \"white\"}, \"yaxis\": {\"backgroundcolor\": \"#E5ECF6\", \"gridcolor\": \"white\", \"gridwidth\": 2, \"linecolor\": \"white\", \"showbackground\": true, \"ticks\": \"\", \"zerolinecolor\": \"white\"}, \"zaxis\": {\"backgroundcolor\": \"#E5ECF6\", \"gridcolor\": \"white\", \"gridwidth\": 2, \"linecolor\": \"white\", \"showbackground\": true, \"ticks\": \"\", \"zerolinecolor\": \"white\"}}, \"shapedefaults\": {\"line\": {\"color\": \"#2a3f5f\"}}, \"ternary\": {\"aaxis\": {\"gridcolor\": \"white\", \"linecolor\": \"white\", \"ticks\": \"\"}, \"baxis\": {\"gridcolor\": \"white\", \"linecolor\": \"white\", \"ticks\": \"\"}, \"bgcolor\": \"#E5ECF6\", \"caxis\": {\"gridcolor\": \"white\", \"linecolor\": \"white\", \"ticks\": \"\"}}, \"title\": {\"x\": 0.05}, \"xaxis\": {\"automargin\": true, \"gridcolor\": \"white\", \"linecolor\": \"white\", \"ticks\": \"\", \"title\": {\"standoff\": 15}, \"zerolinecolor\": \"white\", \"zerolinewidth\": 2}, \"yaxis\": {\"automargin\": true, \"gridcolor\": \"white\", \"linecolor\": \"white\", \"ticks\": \"\", \"title\": {\"standoff\": 15}, \"zerolinecolor\": \"white\", \"zerolinewidth\": 2}}}, \"title\": {\"text\": \"epoch accuracy per dataset\"}, \"xaxis\": {\"anchor\": \"y\", \"domain\": [0.0, 1.0], \"title\": {\"text\": \"epoch\"}}, \"yaxis\": {\"anchor\": \"x\", \"domain\": [0.0, 1.0], \"title\": {\"text\": \"accuracy\"}}},\n",
              "                        {\"responsive\": true}\n",
              "                    ).then(function(){\n",
              "                            \n",
              "var gd = document.getElementById('521bafbd-d0fc-4f1c-b25a-6b740d25ba80');\n",
              "var x = new MutationObserver(function (mutations, observer) {{\n",
              "        var display = window.getComputedStyle(gd).display;\n",
              "        if (!display || display === 'none') {{\n",
              "            console.log([gd, 'removed!']);\n",
              "            Plotly.purge(gd);\n",
              "            observer.disconnect();\n",
              "        }}\n",
              "}});\n",
              "\n",
              "// Listen for the removal of the full notebook cells\n",
              "var notebookContainer = gd.closest('#notebook-container');\n",
              "if (notebookContainer) {{\n",
              "    x.observe(notebookContainer, {childList: true});\n",
              "}}\n",
              "\n",
              "// Listen for the clearing of the current output cell\n",
              "var outputEl = gd.closest('.output');\n",
              "if (outputEl) {{\n",
              "    x.observe(outputEl, {childList: true});\n",
              "}}\n",
              "\n",
              "                        })\n",
              "                };\n",
              "                \n",
              "            </script>\n",
              "        </div>\n",
              "</body>\n",
              "</html>"
            ]
          },
          "metadata": {
            "tags": []
          }
        },
        {
          "output_type": "display_data",
          "data": {
            "text/html": [
              "<html>\n",
              "<head><meta charset=\"utf-8\" /></head>\n",
              "<body>\n",
              "    <div>\n",
              "            <script src=\"https://cdnjs.cloudflare.com/ajax/libs/mathjax/2.7.5/MathJax.js?config=TeX-AMS-MML_SVG\"></script><script type=\"text/javascript\">if (window.MathJax) {MathJax.Hub.Config({SVG: {font: \"STIX-Web\"}});}</script>\n",
              "                <script type=\"text/javascript\">window.PlotlyConfig = {MathJaxConfig: 'local'};</script>\n",
              "        <script src=\"https://cdn.plot.ly/plotly-latest.min.js\"></script>    \n",
              "            <div id=\"19851a13-2132-4282-886c-bb88c017aa0a\" class=\"plotly-graph-div\" style=\"height:525px; width:100%;\"></div>\n",
              "            <script type=\"text/javascript\">\n",
              "                \n",
              "                    window.PLOTLYENV=window.PLOTLYENV || {};\n",
              "                    \n",
              "                if (document.getElementById(\"19851a13-2132-4282-886c-bb88c017aa0a\")) {\n",
              "                    Plotly.newPlot(\n",
              "                        '19851a13-2132-4282-886c-bb88c017aa0a',\n",
              "                        [{\"hoverlabel\": {\"namelength\": 0}, \"hovertemplate\": \"<b>%{hovertext}</b><br><br>set=train<br>epoch=%{x}<br>loss=%{y}\", \"hovertext\": [\"train\", \"train\", \"train\", \"train\", \"train\", \"train\", \"train\", \"train\", \"train\", \"train\"], \"legendgroup\": \"set=train\", \"line\": {\"color\": \"#636efa\", \"dash\": \"solid\"}, \"mode\": \"lines\", \"name\": \"set=train\", \"showlegend\": true, \"type\": \"scatter\", \"x\": [1.0, 2.0, 3.0, 4.0, 5.0, 6.0, 7.0, 8.0, 9.0, 10.0], \"xaxis\": \"x\", \"y\": [0.7208782096004965, 0.6989296504001522, 0.6987169163310947, 0.6949883004528793, 0.6985239266750202, 0.6951237039350385, 0.6950549588131545, 0.6958345408415675, 0.6917996948687875, 0.6938704048568879], \"yaxis\": \"y\"}, {\"hoverlabel\": {\"namelength\": 0}, \"hovertemplate\": \"<b>%{hovertext}</b><br><br>set=validation<br>epoch=%{x}<br>loss=%{y}\", \"hovertext\": [\"validation\", \"validation\", \"validation\", \"validation\", \"validation\", \"validation\", \"validation\", \"validation\", \"validation\", \"validation\"], \"legendgroup\": \"set=validation\", \"line\": {\"color\": \"#EF553B\", \"dash\": \"solid\"}, \"mode\": \"lines\", \"name\": \"set=validation\", \"showlegend\": true, \"type\": \"scatter\", \"x\": [1.0, 2.0, 3.0, 4.0, 5.0, 6.0, 7.0, 8.0, 9.0, 10.0], \"xaxis\": \"x\", \"y\": [0.6840020155906678, 0.7000772547721863, 0.698102753162384, 0.6915875363349915, 0.7019394755363464, 0.6829866147041321, 0.6775488114356994, 0.6847296285629273, 0.6874654126167298, 0.6922304391860962], \"yaxis\": \"y\"}],\n",
              "                        {\"legend\": {\"tracegroupgap\": 0}, \"template\": {\"data\": {\"bar\": [{\"error_x\": {\"color\": \"#2a3f5f\"}, \"error_y\": {\"color\": \"#2a3f5f\"}, \"marker\": {\"line\": {\"color\": \"#E5ECF6\", \"width\": 0.5}}, \"type\": \"bar\"}], \"barpolar\": [{\"marker\": {\"line\": {\"color\": \"#E5ECF6\", \"width\": 0.5}}, \"type\": \"barpolar\"}], \"carpet\": [{\"aaxis\": {\"endlinecolor\": \"#2a3f5f\", \"gridcolor\": \"white\", \"linecolor\": \"white\", \"minorgridcolor\": \"white\", \"startlinecolor\": \"#2a3f5f\"}, \"baxis\": {\"endlinecolor\": \"#2a3f5f\", \"gridcolor\": \"white\", \"linecolor\": \"white\", \"minorgridcolor\": \"white\", \"startlinecolor\": \"#2a3f5f\"}, \"type\": \"carpet\"}], \"choropleth\": [{\"colorbar\": {\"outlinewidth\": 0, \"ticks\": \"\"}, \"type\": \"choropleth\"}], \"contour\": [{\"colorbar\": {\"outlinewidth\": 0, \"ticks\": \"\"}, \"colorscale\": [[0.0, \"#0d0887\"], [0.1111111111111111, \"#46039f\"], [0.2222222222222222, \"#7201a8\"], [0.3333333333333333, \"#9c179e\"], [0.4444444444444444, \"#bd3786\"], [0.5555555555555556, \"#d8576b\"], [0.6666666666666666, \"#ed7953\"], [0.7777777777777778, \"#fb9f3a\"], [0.8888888888888888, \"#fdca26\"], [1.0, \"#f0f921\"]], \"type\": \"contour\"}], \"contourcarpet\": [{\"colorbar\": {\"outlinewidth\": 0, \"ticks\": \"\"}, \"type\": \"contourcarpet\"}], \"heatmap\": [{\"colorbar\": {\"outlinewidth\": 0, \"ticks\": \"\"}, \"colorscale\": [[0.0, \"#0d0887\"], [0.1111111111111111, \"#46039f\"], [0.2222222222222222, \"#7201a8\"], [0.3333333333333333, \"#9c179e\"], [0.4444444444444444, \"#bd3786\"], [0.5555555555555556, \"#d8576b\"], [0.6666666666666666, \"#ed7953\"], [0.7777777777777778, \"#fb9f3a\"], [0.8888888888888888, \"#fdca26\"], [1.0, \"#f0f921\"]], \"type\": \"heatmap\"}], \"heatmapgl\": [{\"colorbar\": {\"outlinewidth\": 0, \"ticks\": \"\"}, \"colorscale\": [[0.0, \"#0d0887\"], [0.1111111111111111, \"#46039f\"], [0.2222222222222222, \"#7201a8\"], [0.3333333333333333, \"#9c179e\"], [0.4444444444444444, \"#bd3786\"], [0.5555555555555556, \"#d8576b\"], [0.6666666666666666, \"#ed7953\"], [0.7777777777777778, \"#fb9f3a\"], [0.8888888888888888, \"#fdca26\"], [1.0, \"#f0f921\"]], \"type\": \"heatmapgl\"}], \"histogram\": [{\"marker\": {\"colorbar\": {\"outlinewidth\": 0, \"ticks\": \"\"}}, \"type\": \"histogram\"}], \"histogram2d\": [{\"colorbar\": {\"outlinewidth\": 0, \"ticks\": \"\"}, \"colorscale\": [[0.0, \"#0d0887\"], [0.1111111111111111, \"#46039f\"], [0.2222222222222222, \"#7201a8\"], [0.3333333333333333, \"#9c179e\"], [0.4444444444444444, \"#bd3786\"], [0.5555555555555556, \"#d8576b\"], [0.6666666666666666, \"#ed7953\"], [0.7777777777777778, \"#fb9f3a\"], [0.8888888888888888, \"#fdca26\"], [1.0, \"#f0f921\"]], \"type\": \"histogram2d\"}], \"histogram2dcontour\": [{\"colorbar\": {\"outlinewidth\": 0, \"ticks\": \"\"}, \"colorscale\": [[0.0, \"#0d0887\"], [0.1111111111111111, \"#46039f\"], [0.2222222222222222, \"#7201a8\"], [0.3333333333333333, \"#9c179e\"], [0.4444444444444444, \"#bd3786\"], [0.5555555555555556, \"#d8576b\"], [0.6666666666666666, \"#ed7953\"], [0.7777777777777778, \"#fb9f3a\"], [0.8888888888888888, \"#fdca26\"], [1.0, \"#f0f921\"]], \"type\": \"histogram2dcontour\"}], \"mesh3d\": [{\"colorbar\": {\"outlinewidth\": 0, \"ticks\": \"\"}, \"type\": \"mesh3d\"}], \"parcoords\": [{\"line\": {\"colorbar\": {\"outlinewidth\": 0, \"ticks\": \"\"}}, \"type\": \"parcoords\"}], \"pie\": [{\"automargin\": true, \"type\": \"pie\"}], \"scatter\": [{\"marker\": {\"colorbar\": {\"outlinewidth\": 0, \"ticks\": \"\"}}, \"type\": \"scatter\"}], \"scatter3d\": [{\"line\": {\"colorbar\": {\"outlinewidth\": 0, \"ticks\": \"\"}}, \"marker\": {\"colorbar\": {\"outlinewidth\": 0, \"ticks\": \"\"}}, \"type\": \"scatter3d\"}], \"scattercarpet\": [{\"marker\": {\"colorbar\": {\"outlinewidth\": 0, \"ticks\": \"\"}}, \"type\": \"scattercarpet\"}], \"scattergeo\": [{\"marker\": {\"colorbar\": {\"outlinewidth\": 0, \"ticks\": \"\"}}, \"type\": \"scattergeo\"}], \"scattergl\": [{\"marker\": {\"colorbar\": {\"outlinewidth\": 0, \"ticks\": \"\"}}, \"type\": \"scattergl\"}], \"scattermapbox\": [{\"marker\": {\"colorbar\": {\"outlinewidth\": 0, \"ticks\": \"\"}}, \"type\": \"scattermapbox\"}], \"scatterpolar\": [{\"marker\": {\"colorbar\": {\"outlinewidth\": 0, \"ticks\": \"\"}}, \"type\": \"scatterpolar\"}], \"scatterpolargl\": [{\"marker\": {\"colorbar\": {\"outlinewidth\": 0, \"ticks\": \"\"}}, \"type\": \"scatterpolargl\"}], \"scatterternary\": [{\"marker\": {\"colorbar\": {\"outlinewidth\": 0, \"ticks\": \"\"}}, \"type\": \"scatterternary\"}], \"surface\": [{\"colorbar\": {\"outlinewidth\": 0, \"ticks\": \"\"}, \"colorscale\": [[0.0, \"#0d0887\"], [0.1111111111111111, \"#46039f\"], [0.2222222222222222, \"#7201a8\"], [0.3333333333333333, \"#9c179e\"], [0.4444444444444444, \"#bd3786\"], [0.5555555555555556, \"#d8576b\"], [0.6666666666666666, \"#ed7953\"], [0.7777777777777778, \"#fb9f3a\"], [0.8888888888888888, \"#fdca26\"], [1.0, \"#f0f921\"]], \"type\": \"surface\"}], \"table\": [{\"cells\": {\"fill\": {\"color\": \"#EBF0F8\"}, \"line\": {\"color\": \"white\"}}, \"header\": {\"fill\": {\"color\": \"#C8D4E3\"}, \"line\": {\"color\": \"white\"}}, \"type\": \"table\"}]}, \"layout\": {\"annotationdefaults\": {\"arrowcolor\": \"#2a3f5f\", \"arrowhead\": 0, \"arrowwidth\": 1}, \"coloraxis\": {\"colorbar\": {\"outlinewidth\": 0, \"ticks\": \"\"}}, \"colorscale\": {\"diverging\": [[0, \"#8e0152\"], [0.1, \"#c51b7d\"], [0.2, \"#de77ae\"], [0.3, \"#f1b6da\"], [0.4, \"#fde0ef\"], [0.5, \"#f7f7f7\"], [0.6, \"#e6f5d0\"], [0.7, \"#b8e186\"], [0.8, \"#7fbc41\"], [0.9, \"#4d9221\"], [1, \"#276419\"]], \"sequential\": [[0.0, \"#0d0887\"], [0.1111111111111111, \"#46039f\"], [0.2222222222222222, \"#7201a8\"], [0.3333333333333333, \"#9c179e\"], [0.4444444444444444, \"#bd3786\"], [0.5555555555555556, \"#d8576b\"], [0.6666666666666666, \"#ed7953\"], [0.7777777777777778, \"#fb9f3a\"], [0.8888888888888888, \"#fdca26\"], [1.0, \"#f0f921\"]], \"sequentialminus\": [[0.0, \"#0d0887\"], [0.1111111111111111, \"#46039f\"], [0.2222222222222222, \"#7201a8\"], [0.3333333333333333, \"#9c179e\"], [0.4444444444444444, \"#bd3786\"], [0.5555555555555556, \"#d8576b\"], [0.6666666666666666, \"#ed7953\"], [0.7777777777777778, \"#fb9f3a\"], [0.8888888888888888, \"#fdca26\"], [1.0, \"#f0f921\"]]}, \"colorway\": [\"#636efa\", \"#EF553B\", \"#00cc96\", \"#ab63fa\", \"#FFA15A\", \"#19d3f3\", \"#FF6692\", \"#B6E880\", \"#FF97FF\", \"#FECB52\"], \"font\": {\"color\": \"#2a3f5f\"}, \"geo\": {\"bgcolor\": \"white\", \"lakecolor\": \"white\", \"landcolor\": \"#E5ECF6\", \"showlakes\": true, \"showland\": true, \"subunitcolor\": \"white\"}, \"hoverlabel\": {\"align\": \"left\"}, \"hovermode\": \"closest\", \"mapbox\": {\"style\": \"light\"}, \"paper_bgcolor\": \"white\", \"plot_bgcolor\": \"#E5ECF6\", \"polar\": {\"angularaxis\": {\"gridcolor\": \"white\", \"linecolor\": \"white\", \"ticks\": \"\"}, \"bgcolor\": \"#E5ECF6\", \"radialaxis\": {\"gridcolor\": \"white\", \"linecolor\": \"white\", \"ticks\": \"\"}}, \"scene\": {\"xaxis\": {\"backgroundcolor\": \"#E5ECF6\", \"gridcolor\": \"white\", \"gridwidth\": 2, \"linecolor\": \"white\", \"showbackground\": true, \"ticks\": \"\", \"zerolinecolor\": \"white\"}, \"yaxis\": {\"backgroundcolor\": \"#E5ECF6\", \"gridcolor\": \"white\", \"gridwidth\": 2, \"linecolor\": \"white\", \"showbackground\": true, \"ticks\": \"\", \"zerolinecolor\": \"white\"}, \"zaxis\": {\"backgroundcolor\": \"#E5ECF6\", \"gridcolor\": \"white\", \"gridwidth\": 2, \"linecolor\": \"white\", \"showbackground\": true, \"ticks\": \"\", \"zerolinecolor\": \"white\"}}, \"shapedefaults\": {\"line\": {\"color\": \"#2a3f5f\"}}, \"ternary\": {\"aaxis\": {\"gridcolor\": \"white\", \"linecolor\": \"white\", \"ticks\": \"\"}, \"baxis\": {\"gridcolor\": \"white\", \"linecolor\": \"white\", \"ticks\": \"\"}, \"bgcolor\": \"#E5ECF6\", \"caxis\": {\"gridcolor\": \"white\", \"linecolor\": \"white\", \"ticks\": \"\"}}, \"title\": {\"x\": 0.05}, \"xaxis\": {\"automargin\": true, \"gridcolor\": \"white\", \"linecolor\": \"white\", \"ticks\": \"\", \"title\": {\"standoff\": 15}, \"zerolinecolor\": \"white\", \"zerolinewidth\": 2}, \"yaxis\": {\"automargin\": true, \"gridcolor\": \"white\", \"linecolor\": \"white\", \"ticks\": \"\", \"title\": {\"standoff\": 15}, \"zerolinecolor\": \"white\", \"zerolinewidth\": 2}}}, \"title\": {\"text\": \"epoch loss per dataset\"}, \"xaxis\": {\"anchor\": \"y\", \"domain\": [0.0, 1.0], \"title\": {\"text\": \"epoch\"}}, \"yaxis\": {\"anchor\": \"x\", \"domain\": [0.0, 1.0], \"title\": {\"text\": \"loss\"}}},\n",
              "                        {\"responsive\": true}\n",
              "                    ).then(function(){\n",
              "                            \n",
              "var gd = document.getElementById('19851a13-2132-4282-886c-bb88c017aa0a');\n",
              "var x = new MutationObserver(function (mutations, observer) {{\n",
              "        var display = window.getComputedStyle(gd).display;\n",
              "        if (!display || display === 'none') {{\n",
              "            console.log([gd, 'removed!']);\n",
              "            Plotly.purge(gd);\n",
              "            observer.disconnect();\n",
              "        }}\n",
              "}});\n",
              "\n",
              "// Listen for the removal of the full notebook cells\n",
              "var notebookContainer = gd.closest('#notebook-container');\n",
              "if (notebookContainer) {{\n",
              "    x.observe(notebookContainer, {childList: true});\n",
              "}}\n",
              "\n",
              "// Listen for the clearing of the current output cell\n",
              "var outputEl = gd.closest('.output');\n",
              "if (outputEl) {{\n",
              "    x.observe(outputEl, {childList: true});\n",
              "}}\n",
              "\n",
              "                        })\n",
              "                };\n",
              "                \n",
              "            </script>\n",
              "        </div>\n",
              "</body>\n",
              "</html>"
            ]
          },
          "metadata": {
            "tags": []
          }
        }
      ]
    },
    {
      "cell_type": "code",
      "metadata": {
        "colab": {
          "base_uri": "https://localhost:8080/"
        },
        "id": "ZDReeBabVgRE",
        "outputId": "68b6bb9b-cd83-4dba-dc13-8a8c69277c0e"
      },
      "source": [
        "eval_model(LSTM_model, loss_fn, sets=['test'])"
      ],
      "execution_count": null,
      "outputs": [
        {
          "output_type": "execute_result",
          "data": {
            "text/plain": [
              "{'test': {'accuracy': 0.4472361809045226, 'loss': 1.054909760951996}}"
            ]
          },
          "metadata": {
            "tags": []
          },
          "execution_count": 92
        }
      ]
    }
  ]
}